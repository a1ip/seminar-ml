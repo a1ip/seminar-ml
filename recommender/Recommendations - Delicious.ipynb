{
 "metadata": {
  "name": ""
 },
 "nbformat": 3,
 "nbformat_minor": 0,
 "worksheets": [
  {
   "cells": [
    {
     "cell_type": "heading",
     "level": 1,
     "metadata": {},
     "source": [
      "\u0420\u0435\u043a\u043e\u043c\u0435\u043d\u0434\u0430\u0446\u0438\u0438 \u0434\u043b\u044f \u0441\u0435\u0440\u0432\u0438\u0441\u0430 \u0441\u043e\u0446\u0438\u0430\u043b\u044c\u043d\u044b\u0445 \u0437\u0430\u043a\u043b\u0430\u0434\u043e\u043a Delicious"
     ]
    },
    {
     "cell_type": "heading",
     "level": 2,
     "metadata": {},
     "source": [
      "\u0420\u0435\u043a\u043e\u043c\u0435\u043d\u0434\u0430\u0446\u0438\u0438 \u043f\u0443\u0442\u0435\u043c \u0440\u0430\u043d\u0436\u0438\u0440\u043e\u0432\u0430\u043d\u0438\u044f"
     ]
    },
    {
     "cell_type": "markdown",
     "metadata": {},
     "source": [
      "\u0421\u0443\u0449\u0435\u0441\u0442\u0432\u0443\u044e\u0442 \u0440\u0430\u0437\u043b\u0438\u0447\u043d\u044b\u0435 \u043f\u043e\u0434\u0445\u043e\u0434\u044b \u043a \u043f\u043e\u0441\u0442\u0440\u043e\u0435\u043d\u0438\u044e \u0441\u043f\u0438\u0441\u043a\u043e\u0432 \u043f\u0435\u0440\u0441\u043e\u043d\u0430\u043b\u0438\u0437\u043e\u0432\u0430\u043d\u043d\u044b\u0445 \u0440\u0435\u043a\u043e\u043c\u0435\u043d\u0434\u0430\u0446\u0438\u0439. \u041c\u0435\u0442\u043e\u0434\u044b \u043c\u0430\u0448\u0438\u043d\u043d\u043e\u0433\u043e \u043e\u0431\u0443\u0447\u0435\u043d\u0438\u044f \u0443\u0434\u043e\u0431\u043d\u043e \u043f\u0440\u0438\u043c\u0435\u043d\u044f\u0442\u044c \u0434\u043b\u044f \u043c\u043e\u0434\u0435\u043b\u0438\u0440\u043e\u0432\u0430\u043d\u0438\u044f *\u043f\u043e\u043b\u044c\u0437\u043e\u0432\u0430\u0442\u0435\u043b\u044c\u0441\u043a\u043e\u0433\u043e \u043f\u0440\u0435\u0434\u043f\u043e\u0447\u0442\u0435\u043d\u0438\u044f*, \u0442.\u0435. \u043e\u0431\u0443\u0447\u0430\u0442\u044c \u0444\u0443\u043d\u043a\u0446\u0438\u044e $pref(userID, itemID)$, \u0440\u0430\u043d\u0436\u0438\u0440\u0443\u044e\u0449\u0443\u044e \u043e\u0431\u044a\u0435\u043a\u0442\u044b \u0440\u0435\u043a\u043e\u043c\u0435\u043d\u0434\u0430\u0446\u0438\u0439 \u043f\u043e \u043f\u0440\u0435\u0434\u043f\u043e\u0447\u0442\u0435\u043d\u0438\u044e, \u043e\u0442\u043d\u043e\u0441\u0438\u0442\u0435\u043b\u044c\u043d\u043e \u0432\u044b\u0431\u0440\u0430\u043d\u043d\u043e\u0433\u043e \u043f\u043e\u043b\u044c\u0437\u043e\u0432\u0430\u0442\u0435\u043b\u044f:\n",
      "\n",
      "$$p_{u}(i): Items \\to \\mathbb{R}$$\n",
      "\n",
      "\u0417\u0434\u0435\u0441\u044c $p_u(i_1) > p_u(i_2)$ \u043e\u0437\u043d\u0430\u0447\u0430\u0435\u0442, \u0447\u0442\u043e \u043e\u0431\u044a\u0435\u043a\u0442 $i_1$ \u0431\u043e\u043b\u0435\u0435 \u043f\u0440\u0435\u0434\u043f\u043e\u0447\u0442\u0438\u0442\u0435\u043b\u0435\u043d \u0434\u043b\u044f \u043f\u043e\u043b\u044c\u0437\u043e\u0432\u0430\u0442\u0435\u043b\u044f $u$ \u0447\u0435\u043c \u043e\u0431\u044a\u0435\u043a\u0442 $i_2$.\n"
     ]
    },
    {
     "cell_type": "heading",
     "level": 2,
     "metadata": {},
     "source": [
      "\u0427\u0442\u0435\u043d\u0438\u0435 \u0434\u0430\u043d\u043d\u044b\u0445"
     ]
    },
    {
     "cell_type": "code",
     "collapsed": false,
     "input": [
      "import pandas"
     ],
     "language": "python",
     "metadata": {},
     "outputs": [],
     "prompt_number": 417
    },
    {
     "cell_type": "code",
     "collapsed": false,
     "input": [
      "bookmarks = pandas.read_csv('data/delicious/bookmarks.dat', sep='\\t', index_col='id')\n",
      "bookmark_tags = pandas.read_csv('data/delicious/bookmark_tags.dat', sep='\\t')\n",
      "tag_names = pandas.read_csv('data/delicious/tags.dat', sep='\\t', index_col='id')\n",
      "user_contacts = pandas.read_csv('data/delicious/user_contacts-timestamps.dat', sep='\\t')\n",
      "user_contacts['timestamp'] = pandas.to_datetime(user_contacts['timestamp'], unit='ms')\n",
      "user_taggedbookmarks = pandas.read_csv('data/delicious/user_taggedbookmarks-timestamps.dat', sep='\\t')\n",
      "user_taggedbookmarks['timestamp'] = pandas.to_datetime(user_taggedbookmarks['timestamp'], unit='ms')"
     ],
     "language": "python",
     "metadata": {},
     "outputs": [],
     "prompt_number": 418
    },
    {
     "cell_type": "code",
     "collapsed": false,
     "input": [
      "print 'Bookmarks:', bookmarks.shape[0]\n",
      "bookmarks.head()"
     ],
     "language": "python",
     "metadata": {},
     "outputs": [
      {
       "output_type": "stream",
       "stream": "stdout",
       "text": [
        "Bookmarks: 69226\n"
       ]
      },
      {
       "html": [
        "<div style=\"max-height:1000px;max-width:1500px;overflow:auto;\">\n",
        "<table border=\"1\" class=\"dataframe\">\n",
        "  <thead>\n",
        "    <tr style=\"text-align: right;\">\n",
        "      <th></th>\n",
        "      <th>md5</th>\n",
        "      <th>title</th>\n",
        "      <th>url</th>\n",
        "      <th>md5Principal</th>\n",
        "      <th>urlPrincipal</th>\n",
        "    </tr>\n",
        "    <tr>\n",
        "      <th>id</th>\n",
        "      <th></th>\n",
        "      <th></th>\n",
        "      <th></th>\n",
        "      <th></th>\n",
        "      <th></th>\n",
        "    </tr>\n",
        "  </thead>\n",
        "  <tbody>\n",
        "    <tr>\n",
        "      <th>1</th>\n",
        "      <td> ab4954b633ddaf5b5bba6e9b71aa6b70</td>\n",
        "      <td> IFLA - The official website of the Internation...</td>\n",
        "      <td>                              http://www.ifla.org/</td>\n",
        "      <td>  7f431306c428457bc4e12b15634484f</td>\n",
        "      <td>                www.ifla.org</td>\n",
        "    </tr>\n",
        "    <tr>\n",
        "      <th>2</th>\n",
        "      <td> 2221e9cd106d269dd34682666f576fa3</td>\n",
        "      <td>               gcdp-e.pdf (application/pdf Object)</td>\n",
        "      <td>    http://archive.ifla.org/VII/s14/nd1/gcdp-e.pdf</td>\n",
        "      <td> 1ef8cfcfe968101fa9b4e301847503d4</td>\n",
        "      <td>            archive.ifla.org</td>\n",
        "    </tr>\n",
        "    <tr>\n",
        "      <th>7</th>\n",
        "      <td> c97c571dadaddbbb493126a0d4d01ba3</td>\n",
        "      <td>                                          EdSelect</td>\n",
        "      <td>                          http://www.edselect.com/</td>\n",
        "      <td>  792fd7eb20143386d0c4eb193c6124d</td>\n",
        "      <td>            www.edselect.com</td>\n",
        "    </tr>\n",
        "    <tr>\n",
        "      <th>8</th>\n",
        "      <td> 25bfe8dca0ef263ec9c341b9f16c38b5</td>\n",
        "      <td>                  Cool Canada (Collections Canada)</td>\n",
        "      <td> http://www.collectionscanada.gc.ca/cool/index-...</td>\n",
        "      <td> 6fce4f6391516f0732531d9cfacda5b7</td>\n",
        "      <td> www.collectionscanada.gc.ca</td>\n",
        "    </tr>\n",
        "    <tr>\n",
        "      <th>9</th>\n",
        "      <td> c97284629e17b8e2861afaacd59918bc</td>\n",
        "      <td>                                     Kidsreads.com</td>\n",
        "      <td>                         http://www.kidsreads.com/</td>\n",
        "      <td> 5854ce8404857a45373eea01a3d98000</td>\n",
        "      <td>           www.kidsreads.com</td>\n",
        "    </tr>\n",
        "  </tbody>\n",
        "</table>\n",
        "</div>"
       ],
       "metadata": {},
       "output_type": "pyout",
       "prompt_number": 419,
       "text": [
        "                                 md5  \\\n",
        "id                                     \n",
        "1   ab4954b633ddaf5b5bba6e9b71aa6b70   \n",
        "2   2221e9cd106d269dd34682666f576fa3   \n",
        "7   c97c571dadaddbbb493126a0d4d01ba3   \n",
        "8   25bfe8dca0ef263ec9c341b9f16c38b5   \n",
        "9   c97284629e17b8e2861afaacd59918bc   \n",
        "\n",
        "                                                title  \\\n",
        "id                                                      \n",
        "1   IFLA - The official website of the Internation...   \n",
        "2                 gcdp-e.pdf (application/pdf Object)   \n",
        "7                                            EdSelect   \n",
        "8                    Cool Canada (Collections Canada)   \n",
        "9                                       Kidsreads.com   \n",
        "\n",
        "                                                  url  \\\n",
        "id                                                      \n",
        "1                                http://www.ifla.org/   \n",
        "2      http://archive.ifla.org/VII/s14/nd1/gcdp-e.pdf   \n",
        "7                            http://www.edselect.com/   \n",
        "8   http://www.collectionscanada.gc.ca/cool/index-...   \n",
        "9                           http://www.kidsreads.com/   \n",
        "\n",
        "                        md5Principal                 urlPrincipal  \n",
        "id                                                                 \n",
        "1    7f431306c428457bc4e12b15634484f                 www.ifla.org  \n",
        "2   1ef8cfcfe968101fa9b4e301847503d4             archive.ifla.org  \n",
        "7    792fd7eb20143386d0c4eb193c6124d             www.edselect.com  \n",
        "8   6fce4f6391516f0732531d9cfacda5b7  www.collectionscanada.gc.ca  \n",
        "9   5854ce8404857a45373eea01a3d98000            www.kidsreads.com  "
       ]
      }
     ],
     "prompt_number": 419
    },
    {
     "cell_type": "code",
     "collapsed": false,
     "input": [
      "print 'Bookmark tags:', bookmark_tags.shape[0]\n",
      "bookmark_tags.head()"
     ],
     "language": "python",
     "metadata": {},
     "outputs": [
      {
       "output_type": "stream",
       "stream": "stdout",
       "text": [
        "Bookmark tags: 487131\n"
       ]
      },
      {
       "html": [
        "<div style=\"max-height:1000px;max-width:1500px;overflow:auto;\">\n",
        "<table border=\"1\" class=\"dataframe\">\n",
        "  <thead>\n",
        "    <tr style=\"text-align: right;\">\n",
        "      <th></th>\n",
        "      <th>bookmarkID</th>\n",
        "      <th>tagID</th>\n",
        "      <th>tagWeight</th>\n",
        "    </tr>\n",
        "  </thead>\n",
        "  <tbody>\n",
        "    <tr>\n",
        "      <th>0</th>\n",
        "      <td> 1</td>\n",
        "      <td>   2</td>\n",
        "      <td> 276</td>\n",
        "    </tr>\n",
        "    <tr>\n",
        "      <th>1</th>\n",
        "      <td> 1</td>\n",
        "      <td> 206</td>\n",
        "      <td>  48</td>\n",
        "    </tr>\n",
        "    <tr>\n",
        "      <th>2</th>\n",
        "      <td> 1</td>\n",
        "      <td> 208</td>\n",
        "      <td> 165</td>\n",
        "    </tr>\n",
        "    <tr>\n",
        "      <th>3</th>\n",
        "      <td> 1</td>\n",
        "      <td> 272</td>\n",
        "      <td>  55</td>\n",
        "    </tr>\n",
        "    <tr>\n",
        "      <th>4</th>\n",
        "      <td> 1</td>\n",
        "      <td> 459</td>\n",
        "      <td>  67</td>\n",
        "    </tr>\n",
        "  </tbody>\n",
        "</table>\n",
        "</div>"
       ],
       "metadata": {},
       "output_type": "pyout",
       "prompt_number": 420,
       "text": [
        "   bookmarkID  tagID  tagWeight\n",
        "0           1      2        276\n",
        "1           1    206         48\n",
        "2           1    208        165\n",
        "3           1    272         55\n",
        "4           1    459         67"
       ]
      }
     ],
     "prompt_number": 420
    },
    {
     "cell_type": "code",
     "collapsed": false,
     "input": [
      "print 'Tags:', tag_names.shape[0]\n",
      "tag_names.head()"
     ],
     "language": "python",
     "metadata": {},
     "outputs": [
      {
       "output_type": "stream",
       "stream": "stdout",
       "text": [
        "Tags: 53388\n"
       ]
      },
      {
       "html": [
        "<div style=\"max-height:1000px;max-width:1500px;overflow:auto;\">\n",
        "<table border=\"1\" class=\"dataframe\">\n",
        "  <thead>\n",
        "    <tr style=\"text-align: right;\">\n",
        "      <th></th>\n",
        "      <th>value</th>\n",
        "    </tr>\n",
        "    <tr>\n",
        "      <th>id</th>\n",
        "      <th></th>\n",
        "    </tr>\n",
        "  </thead>\n",
        "  <tbody>\n",
        "    <tr>\n",
        "      <th>1</th>\n",
        "      <td> collection_development</td>\n",
        "    </tr>\n",
        "    <tr>\n",
        "      <th>2</th>\n",
        "      <td>                library</td>\n",
        "    </tr>\n",
        "    <tr>\n",
        "      <th>3</th>\n",
        "      <td>             collection</td>\n",
        "    </tr>\n",
        "    <tr>\n",
        "      <th>4</th>\n",
        "      <td>            development</td>\n",
        "    </tr>\n",
        "    <tr>\n",
        "      <th>5</th>\n",
        "      <td>            lesson_plan</td>\n",
        "    </tr>\n",
        "  </tbody>\n",
        "</table>\n",
        "</div>"
       ],
       "metadata": {},
       "output_type": "pyout",
       "prompt_number": 421,
       "text": [
        "                     value\n",
        "id                        \n",
        "1   collection_development\n",
        "2                  library\n",
        "3               collection\n",
        "4              development\n",
        "5              lesson_plan"
       ]
      }
     ],
     "prompt_number": 421
    },
    {
     "cell_type": "code",
     "collapsed": false,
     "input": [
      "print 'User contacts:', user_contacts.shape[0]\n",
      "user_contacts.head()"
     ],
     "language": "python",
     "metadata": {},
     "outputs": [
      {
       "output_type": "stream",
       "stream": "stdout",
       "text": [
        "User contacts: 15328\n"
       ]
      },
      {
       "html": [
        "<div style=\"max-height:1000px;max-width:1500px;overflow:auto;\">\n",
        "<table border=\"1\" class=\"dataframe\">\n",
        "  <thead>\n",
        "    <tr style=\"text-align: right;\">\n",
        "      <th></th>\n",
        "      <th>userID</th>\n",
        "      <th>contactID</th>\n",
        "      <th>timestamp</th>\n",
        "    </tr>\n",
        "  </thead>\n",
        "  <tbody>\n",
        "    <tr>\n",
        "      <th>0</th>\n",
        "      <td> 8</td>\n",
        "      <td> 28371</td>\n",
        "      <td>2010-10-04 00:14:19</td>\n",
        "    </tr>\n",
        "    <tr>\n",
        "      <th>1</th>\n",
        "      <td> 8</td>\n",
        "      <td> 40306</td>\n",
        "      <td>2010-10-03 10:33:09</td>\n",
        "    </tr>\n",
        "    <tr>\n",
        "      <th>2</th>\n",
        "      <td> 8</td>\n",
        "      <td> 85279</td>\n",
        "      <td>2010-10-02 01:10:48</td>\n",
        "    </tr>\n",
        "    <tr>\n",
        "      <th>3</th>\n",
        "      <td> 8</td>\n",
        "      <td> 91764</td>\n",
        "      <td>2010-10-04 20:43:47</td>\n",
        "    </tr>\n",
        "    <tr>\n",
        "      <th>4</th>\n",
        "      <td> 8</td>\n",
        "      <td> 97723</td>\n",
        "      <td>2010-10-12 01:28:33</td>\n",
        "    </tr>\n",
        "  </tbody>\n",
        "</table>\n",
        "</div>"
       ],
       "metadata": {},
       "output_type": "pyout",
       "prompt_number": 422,
       "text": [
        "   userID  contactID           timestamp\n",
        "0       8      28371 2010-10-04 00:14:19\n",
        "1       8      40306 2010-10-03 10:33:09\n",
        "2       8      85279 2010-10-02 01:10:48\n",
        "3       8      91764 2010-10-04 20:43:47\n",
        "4       8      97723 2010-10-12 01:28:33"
       ]
      }
     ],
     "prompt_number": 422
    },
    {
     "cell_type": "code",
     "collapsed": false,
     "input": [
      "print 'Tagged bookmarks:', user_taggedbookmarks.shape[0]\n",
      "user_taggedbookmarks.head()"
     ],
     "language": "python",
     "metadata": {},
     "outputs": [
      {
       "output_type": "stream",
       "stream": "stdout",
       "text": [
        "Tagged bookmarks: 437593\n"
       ]
      },
      {
       "html": [
        "<div style=\"max-height:1000px;max-width:1500px;overflow:auto;\">\n",
        "<table border=\"1\" class=\"dataframe\">\n",
        "  <thead>\n",
        "    <tr style=\"text-align: right;\">\n",
        "      <th></th>\n",
        "      <th>userID</th>\n",
        "      <th>bookmarkID</th>\n",
        "      <th>tagID</th>\n",
        "      <th>timestamp</th>\n",
        "    </tr>\n",
        "  </thead>\n",
        "  <tbody>\n",
        "    <tr>\n",
        "      <th>0</th>\n",
        "      <td> 8</td>\n",
        "      <td> 1</td>\n",
        "      <td> 1</td>\n",
        "      <td>2010-11-08 22:29:22</td>\n",
        "    </tr>\n",
        "    <tr>\n",
        "      <th>1</th>\n",
        "      <td> 8</td>\n",
        "      <td> 2</td>\n",
        "      <td> 1</td>\n",
        "      <td>2010-11-08 22:25:59</td>\n",
        "    </tr>\n",
        "    <tr>\n",
        "      <th>2</th>\n",
        "      <td> 8</td>\n",
        "      <td> 7</td>\n",
        "      <td> 1</td>\n",
        "      <td>2010-11-08 17:55:01</td>\n",
        "    </tr>\n",
        "    <tr>\n",
        "      <th>3</th>\n",
        "      <td> 8</td>\n",
        "      <td> 7</td>\n",
        "      <td> 6</td>\n",
        "      <td>2010-11-08 17:55:01</td>\n",
        "    </tr>\n",
        "    <tr>\n",
        "      <th>4</th>\n",
        "      <td> 8</td>\n",
        "      <td> 7</td>\n",
        "      <td> 7</td>\n",
        "      <td>2010-11-08 17:55:01</td>\n",
        "    </tr>\n",
        "  </tbody>\n",
        "</table>\n",
        "</div>"
       ],
       "metadata": {},
       "output_type": "pyout",
       "prompt_number": 423,
       "text": [
        "   userID  bookmarkID  tagID           timestamp\n",
        "0       8           1      1 2010-11-08 22:29:22\n",
        "1       8           2      1 2010-11-08 22:25:59\n",
        "2       8           7      1 2010-11-08 17:55:01\n",
        "3       8           7      6 2010-11-08 17:55:01\n",
        "4       8           7      7 2010-11-08 17:55:01"
       ]
      }
     ],
     "prompt_number": 423
    },
    {
     "cell_type": "heading",
     "level": 3,
     "metadata": {},
     "source": [
      "\u041f\u0430\u0440\u044b user\u2013bookmark"
     ]
    },
    {
     "cell_type": "code",
     "collapsed": false,
     "input": [
      "user_bookmarks = user_taggedbookmarks.groupby(['userID', 'bookmarkID'])['timestamp'].min().reset_index()\n",
      "bookmark_counts = user_bookmarks.bookmarkID.value_counts()\n",
      "user_bookmarks['bookmarkOccurrences'] = bookmark_counts[user_bookmarks.bookmarkID].values\n",
      "\n",
      "print 'User-boormark pairs:', user_bookmarks.shape[0]\n",
      "user_bookmarks.head()"
     ],
     "language": "python",
     "metadata": {},
     "outputs": [
      {
       "output_type": "stream",
       "stream": "stdout",
       "text": [
        "User-boormark pairs: 104799\n"
       ]
      },
      {
       "html": [
        "<div style=\"max-height:1000px;max-width:1500px;overflow:auto;\">\n",
        "<table border=\"1\" class=\"dataframe\">\n",
        "  <thead>\n",
        "    <tr style=\"text-align: right;\">\n",
        "      <th></th>\n",
        "      <th>userID</th>\n",
        "      <th>bookmarkID</th>\n",
        "      <th>timestamp</th>\n",
        "      <th>bookmarkOccurrences</th>\n",
        "    </tr>\n",
        "  </thead>\n",
        "  <tbody>\n",
        "    <tr>\n",
        "      <th>0</th>\n",
        "      <td> 8</td>\n",
        "      <td> 1</td>\n",
        "      <td>2010-11-08 22:29:22</td>\n",
        "      <td> 2</td>\n",
        "    </tr>\n",
        "    <tr>\n",
        "      <th>1</th>\n",
        "      <td> 8</td>\n",
        "      <td> 2</td>\n",
        "      <td>2010-11-08 22:25:59</td>\n",
        "      <td> 2</td>\n",
        "    </tr>\n",
        "    <tr>\n",
        "      <th>2</th>\n",
        "      <td> 8</td>\n",
        "      <td> 7</td>\n",
        "      <td>2010-11-08 17:55:01</td>\n",
        "      <td> 2</td>\n",
        "    </tr>\n",
        "    <tr>\n",
        "      <th>3</th>\n",
        "      <td> 8</td>\n",
        "      <td> 8</td>\n",
        "      <td>2010-11-08 17:49:05</td>\n",
        "      <td> 2</td>\n",
        "    </tr>\n",
        "    <tr>\n",
        "      <th>4</th>\n",
        "      <td> 8</td>\n",
        "      <td> 9</td>\n",
        "      <td>2010-11-08 17:37:13</td>\n",
        "      <td> 3</td>\n",
        "    </tr>\n",
        "  </tbody>\n",
        "</table>\n",
        "</div>"
       ],
       "metadata": {},
       "output_type": "pyout",
       "prompt_number": 424,
       "text": [
        "   userID  bookmarkID           timestamp  bookmarkOccurrences\n",
        "0       8           1 2010-11-08 22:29:22                    2\n",
        "1       8           2 2010-11-08 22:25:59                    2\n",
        "2       8           7 2010-11-08 17:55:01                    2\n",
        "3       8           8 2010-11-08 17:49:05                    2\n",
        "4       8           9 2010-11-08 17:37:13                    3"
       ]
      }
     ],
     "prompt_number": 424
    },
    {
     "cell_type": "heading",
     "level": 3,
     "metadata": {},
     "source": [
      "\u041f\u0430\u0440\u044b user\u2013tag"
     ]
    },
    {
     "cell_type": "code",
     "collapsed": false,
     "input": [
      "user_tags = pandas.DataFrame({'count': user_taggedbookmarks.groupby(['userID', 'tagID']).size()}).reset_index()\n",
      "\n",
      "print 'User-tag pairs:', user_tags.shape[0]\n",
      "user_tags.head()"
     ],
     "language": "python",
     "metadata": {},
     "outputs": [
      {
       "output_type": "stream",
       "stream": "stdout",
       "text": [
        "User-tag pairs: 230942\n"
       ]
      },
      {
       "html": [
        "<div style=\"max-height:1000px;max-width:1500px;overflow:auto;\">\n",
        "<table border=\"1\" class=\"dataframe\">\n",
        "  <thead>\n",
        "    <tr style=\"text-align: right;\">\n",
        "      <th></th>\n",
        "      <th>userID</th>\n",
        "      <th>tagID</th>\n",
        "      <th>count</th>\n",
        "    </tr>\n",
        "  </thead>\n",
        "  <tbody>\n",
        "    <tr>\n",
        "      <th>0</th>\n",
        "      <td> 8</td>\n",
        "      <td> 1</td>\n",
        "      <td> 28</td>\n",
        "    </tr>\n",
        "    <tr>\n",
        "      <th>1</th>\n",
        "      <td> 8</td>\n",
        "      <td> 2</td>\n",
        "      <td>  7</td>\n",
        "    </tr>\n",
        "    <tr>\n",
        "      <th>2</th>\n",
        "      <td> 8</td>\n",
        "      <td> 5</td>\n",
        "      <td>  1</td>\n",
        "    </tr>\n",
        "    <tr>\n",
        "      <th>3</th>\n",
        "      <td> 8</td>\n",
        "      <td> 6</td>\n",
        "      <td>  1</td>\n",
        "    </tr>\n",
        "    <tr>\n",
        "      <th>4</th>\n",
        "      <td> 8</td>\n",
        "      <td> 7</td>\n",
        "      <td>  1</td>\n",
        "    </tr>\n",
        "  </tbody>\n",
        "</table>\n",
        "</div>"
       ],
       "metadata": {},
       "output_type": "pyout",
       "prompt_number": 425,
       "text": [
        "   userID  tagID  count\n",
        "0       8      1     28\n",
        "1       8      2      7\n",
        "2       8      5      1\n",
        "3       8      6      1\n",
        "4       8      7      1"
       ]
      }
     ],
     "prompt_number": 425
    },
    {
     "cell_type": "heading",
     "level": 3,
     "metadata": {},
     "source": [
      "\u041a\u043e\u043b\u0438\u0447\u0435\u0441\u0442\u0432\u043e \u0437\u0430\u043a\u043b\u0430\u0434\u043e\u043a \u0443 \u043f\u043e\u043b\u044c\u0437\u043e\u0432\u0430\u0442\u0435\u043b\u0435\u0439"
     ]
    },
    {
     "cell_type": "code",
     "collapsed": false,
     "input": [
      "user_bookmarks_cnt = user_bookmarks.userID.value_counts()\n",
      "for k in [0, 10, 20, 50]:\n",
      "    print 'Users with more than %2d bookmarks: %d' % (k, len(user_bookmarks_cnt[user_bookmarks_cnt > k]))"
     ],
     "language": "python",
     "metadata": {},
     "outputs": [
      {
       "output_type": "stream",
       "stream": "stdout",
       "text": [
        "Users with more than  0 bookmarks: 1867\n",
        "Users with more than 10 bookmarks: 1702\n",
        "Users with more than 20 bookmarks: 1601\n",
        "Users with more than 50 bookmarks: 1260\n"
       ]
      }
     ],
     "prompt_number": 426
    },
    {
     "cell_type": "heading",
     "level": 2,
     "metadata": {},
     "source": [
      "\u0414\u0438\u0437\u0430\u0439\u043d \u044d\u043a\u0441\u043f\u0435\u0440\u0438\u043c\u0435\u043d\u0442\u0430 \u0438 \u043e\u0446\u0435\u043d\u043a\u0430 \u043a\u0430\u0447\u0435\u0441\u0442\u0432\u0430"
     ]
    },
    {
     "cell_type": "markdown",
     "metadata": {},
     "source": [
      "\u041e\u0446\u0435\u043d\u0438\u0432\u0430\u0442\u044c \u043a\u0430\u0447\u0435\u0441\u0442\u0432\u043e \u0440\u0430\u043d\u0436\u0438\u0440\u0443\u044e\u0449\u0435\u0433\u043e \u043f\u0440\u0430\u0432\u0438\u043b\u0430 \u0431\u0443\u0434\u0435\u043c \u0441\u043b\u0435\u0434\u0443\u044e\u0449\u0438\u043c \u043e\u0431\u0440\u0430\u0437\u043e\u043c:\n",
      "\n",
      " * \u0423 \u043a\u0430\u0436\u0434\u043e\u0433\u043e \u043f\u043e\u043b\u044c\u0437\u043e\u0432\u0430\u0442\u0435\u043b\u044f (\u0441 \u0434\u043e\u0441\u0442\u0430\u0442\u043e\u0447\u043d\u044b\u043c \u043a\u043e\u043b\u0438\u0447\u0435\u0441\u0442\u0432\u043e\u043c \u0437\u0430\u043a\u043b\u0430\u0434\u043e\u043a) \u0432\u044b\u0431\u0435\u0440\u0435\u043c 3 \u0441\u043b\u0443\u0447\u0430\u0439\u043d\u044b\u0445 <tt>(TEST_BOOKMARKS_PER_USER)</tt>, \u043d\u0430\u0437\u043e\u0432\u0435\u043c \u044d\u0442\u0438 \u0437\u0430\u043a\u043b\u0430\u0434\u043a\u0438 *\u0440\u0435\u043b\u0435\u0432\u0430\u043d\u0442\u043d\u044b\u043c\u0438*\n",
      " * \u0421\u0433\u0435\u043d\u0435\u0440\u0438\u0440\u0443\u0435\u043c \u0434\u043b\u044f \u043a\u0430\u0436\u0434\u043e\u0433\u043e \u043f\u043e\u043b\u044c\u0437\u043e\u0432\u0430\u0442\u0435\u043b\u044f 97 \u0441\u043b\u0443\u0447\u0430\u0439\u043d\u044b\u0445 \u0437\u0430\u043a\u043b\u0430\u0434\u043e\u043a <tt>(FAKE_BOOKMARKS_PER_USER)</tt>, \u043d\u0430\u0437\u043e\u0432\u0435\u043c \u0438\u0445 *\u043d\u0435\u0440\u0435\u043b\u0435\u0432\u0430\u043d\u0442\u043d\u044b\u043c\u0438*\n",
      " * \u041e\u0431\u0443\u0447\u0430\u0442\u044c \u0440\u0430\u043d\u0436\u0438\u0440\u0443\u044e\u0449\u0435\u0435 \u043f\u0440\u0430\u0432\u0438\u043b\u043e \u0431\u0443\u0434\u0435\u043c, \u043d\u0435 \u0438\u0441\u043f\u043e\u043b\u044c\u0437\u0443\u044f \u0432\u044b\u0431\u0440\u0430\u043d\u043d\u044b\u0435 \u0440\u0435\u043b\u0435\u0432\u0430\u043d\u0442\u043d\u044b\u0435 \u0437\u0430\u043a\u043b\u0430\u0434\u043a\u0438: \u043e\u043d\u0438 \u0431\u0443\u0434\u0443\u0442 *\u0441\u043a\u0440\u044b\u0442\u044b* \u043e\u0442 \u043e\u0431\u0443\u0447\u0435\u043d\u0438\u044f *(hidden)*\n",
      " * \u0411\u0443\u0434\u0435\u043c \u0440\u0430\u043d\u0436\u0438\u0440\u043e\u0432\u0430\u0442\u044c \u0441\u043c\u0435\u0441\u044c \u0438\u0437 \u0440\u0435\u043b\u0435\u0432\u0430\u043d\u0442\u043d\u044b\u0445 \u0438 \u043d\u0435\u0440\u0435\u043b\u0435\u0432\u0430\u043d\u0442\u043d\u044b\u0445 \u0437\u0430\u043a\u043b\u0430\u0434\u043e\u043a, \u0441\u0447\u0438\u0442\u0430\u0442\u044c \u0441\u0440\u0435\u0434\u043d\u0438\u0439 Recall@k\n",
      " * \u0412 \u043a\u0430\u0447\u0435\u0441\u0442\u0432\u0435 \u043c\u0435\u0442\u0440\u0438\u043a\u0438 \u043a\u0430\u0447\u0435\u0441\u0442\u0432\u0430 \u0432\u043e\u0437\u044c\u043c\u0435\u043c AUC-Recall@k (\u043f\u043b\u043e\u0449\u0430\u0434\u044c \u043f\u043e\u0434 \u043a\u0440\u0438\u0432\u043e\u0439)\n",
      " * \u0420\u0430\u0441\u0441\u043c\u0430\u0442\u0440\u0438\u0432\u0430\u0435\u043c \u0442\u043e\u043b\u044c\u043a\u043e \u0437\u0430\u043a\u043b\u0430\u0434\u043a\u0438, \u043a\u043e\u0442\u043e\u0440\u044b\u0435 \u0432\u0441\u0442\u0440\u0435\u0447\u0430\u044e\u0442\u0441\u044f \u043d\u0435 \u043c\u0435\u043d\u0435\u0435 \u0447\u0435\u043c \u0443 3\u0445 \u043f\u043e\u043b\u044c\u0437\u043e\u0432\u0430\u0442\u0435\u043b\u0435\u0439 <tt>(MIN_BOOKMARK_OCCURRENCES)</tt>, \u043d\u0430\u0437\u043e\u0432\u0435\u043c \u0442\u0430\u043a\u0438\u0435 \u0437\u0430\u043a\u043b\u0430\u0434\u043a\u0438 *\u0445\u043e\u0440\u043e\u0448\u0438\u043c\u0438 (good)*\n",
      " * \u0422\u0435\u0441\u0442\u0438\u0440\u0443\u0435\u043c \u0442\u043e\u043b\u044c\u043a\u043e \u043d\u0430 \u0442\u0435\u0445 \u043f\u043e\u043b\u044c\u0437\u043e\u0432\u0430\u0442\u0435\u043b\u044f\u0445, \u043a\u043e\u0442\u043e\u0440\u044b\u0435 \u0438\u043c\u0435\u044e\u0442 \u0445\u043e\u0442\u044f \u0431\u044b 10 \u0445\u043e\u0440\u043e\u0448\u0438\u0445 \u0437\u0430\u043a\u043b\u0430\u0434\u043e\u043a <tt>(MIN_BOOKMARKS_PER_USER)</tt>\n",
      " \n",
      "\u041e\u0442\u0441\u0435\u0438\u0432\u0430\u043d\u0438\u0435 \u0440\u0435\u0434\u043a\u043e \u0432\u0441\u0442\u0440\u0435\u0447\u0430\u0435\u043c\u044b\u0445 \u0437\u0430\u043a\u043b\u0430\u0434\u043e\u043a \u043d\u0435\u043e\u0431\u0445\u043e\u0434\u0438\u043c\u043e, \u0438\u043d\u0430\u0447\u0435 \u0438\u043d\u0444\u043e\u0440\u043c\u0430\u0446\u0438\u044f \u043e\u0431 \u043e\u0442\u0441\u0443\u0442\u0441\u0442\u0432\u0438\u0438 \u0437\u0430\u043a\u043b\u0430\u0434\u043a\u0438 \u0432 \u043e\u0431\u0443\u0447\u0430\u044e\u0449\u0435\u0439 \u0432\u044b\u0431\u043e\u0440\u043a\u0435 \u0438\u043b\u0438 \u0435\u0435 \u043d\u0438\u0437\u043a\u0430\u044f \u0447\u0430\u0441\u0442\u043e\u0442\u0430 \u0438\u043c\u0435\u0435\u0442 \u0441\u0438\u043b\u044c\u043d\u0443\u044e \u0441\u0442\u043e\u0445\u0430\u0441\u0442\u0438\u0447\u0435\u0441\u043a\u0443\u044e \u0437\u0430\u0432\u0438\u0441\u0438\u043c\u043e\u0441\u0442\u044c \u0441 \u0440\u0435\u043b\u0435\u0432\u0430\u043d\u0442\u043d\u043e\u0441\u0442\u044c\u044e. \u0412 \u043a\u0430\u0447\u0435\u0441\u0442\u0432\u0435 \u0443\u043f\u0440\u0430\u0436\u043d\u0435\u043d\u0438\u044f \u043c\u043e\u0436\u043d\u043e \u043f\u0440\u043e\u0432\u0435\u0440\u0438\u0442\u044c, \u0447\u0442\u043e \u0435\u0441\u043b\u0438 \u043e\u0442\u0441\u0443\u0442\u0441\u0442\u0432\u0443\u0435\u0442 \u043e\u0442\u0441\u0435\u0432 \u0440\u0435\u0434\u043a\u0438\u0445 \u0437\u0430\u043a\u043b\u0430\u0434\u043e\u043a, \u0442\u043e \u043d\u0435\u043f\u0435\u0440\u0441\u043e\u043d\u0430\u043b\u0438\u0437\u043e\u0432\u0430\u043d\u043d\u043e\u0435 \u0440\u0430\u043d\u0436\u0438\u0440\u043e\u0432\u0430\u043d\u0438\u0435 \u043f\u043e \u043f\u043e\u043f\u0443\u043b\u044f\u0440\u043d\u043e\u0441\u0442\u0438 \u0434\u0430\u0435\u0442 \u0434\u043e 0.75 AUC-Recall@k. \n",
      "\n",
      "\u041e\u0433\u0440\u0430\u043d\u0438\u0447\u0435\u043d\u0438\u0435 \u043c\u0438\u043d\u0438\u043c\u0430\u043b\u044c\u043d\u043e\u0433\u043e \u0447\u0438\u0441\u043b\u0430 \u0445\u043e\u0440\u043e\u0448\u0438\u0445 \u0437\u0430\u043a\u043b\u0430\u0434\u043e\u043a \u0434\u043b\u044f \u043f\u043e\u043b\u044c\u0437\u043e\u0432\u0430\u0442\u0435\u043b\u0435\u0439 \u043d\u0435\u043e\u0431\u0445\u043e\u0434\u0438\u043c\u043e \u0434\u043b\u044f \u0442\u043e\u0433\u043e \u0447\u0442\u043e\u0431\u044b \u0432 \u0442\u0435\u0441\u0442\u0435 \u043f\u0440\u0438\u0441\u0443\u0442\u0441\u0442\u0432\u043e\u0432\u0430\u043b\u0438 \u0442\u043e\u043b\u044c\u043a\u043e \u0442\u0435 \u043f\u043e\u043b\u044c\u0437\u043e\u0432\u0430\u0442\u0435\u043b\u0438, \u043a\u043e\u0442\u043e\u0440\u044b\u0435 \u0438\u043c\u0435\u044e\u0442 \u0438\u0441\u0442\u043e\u0440\u0438\u044e. \u041f\u043e\u043b\u044c\u0437\u043e\u0432\u0430\u0442\u0435\u043b\u044c, \u043d\u0435 \u0438\u043c\u0435\u044e\u0449\u0438\u0439 \u0438\u0441\u0442\u043e\u0440\u0438\u0438 \u043d\u0435 \u044f\u0432\u043b\u044f\u0435\u0442\u0441\u044f \u0446\u0435\u043b\u0435\u0432\u044b\u043c \u0434\u043b\u044f \u0440\u0435\u043a\u043e\u043c\u0435\u043d\u0434\u0430\u0442\u0435\u043b\u044c\u043d\u043e\u0439 \u0441\u0438\u0441\u0442\u0435\u043c\u044b, \u043e\u0441\u043d\u043e\u0432\u0430\u043d\u043d\u043e\u0439 \u043d\u0430 \u0442\u0435\u0445\u043d\u0438\u043a\u0435 \u043a\u043e\u043b\u043b\u0430\u0431\u043e\u0440\u0430\u0442\u0438\u0432\u043d\u043e\u0439 \u0444\u0438\u043b\u044c\u0442\u0440\u0430\u0446\u0438\u0438.\n",
      "\n",
      "\u0412\u0441\u0435 \u0447\u0438\u0441\u043b\u043e\u0432\u044b\u0435 \u043f\u0430\u0440\u0430\u043c\u0435\u0442\u0440\u044b \u043d\u0435 \u044f\u0432\u043b\u044f\u044e\u0442\u0441\u044f \u0434\u043e\u0433\u043c\u043e\u0439, \u0438\u0445 \u043c\u043e\u0436\u043d\u043e \u043c\u0435\u043d\u044f\u0442\u044c, \u043f\u043e\u043b\u0443\u0447\u0430\u044f \u0440\u0430\u0437\u043b\u0438\u0447\u043d\u044b\u0435 \u0443\u0441\u043b\u043e\u0432\u0438\u044f \u044d\u043a\u0441\u043f\u0435\u0440\u0438\u043c\u0435\u043d\u0442\u0430. \u0421\u043f\u0435\u0446\u0438\u0430\u043b\u044c\u043d\u043e \u0434\u043b\u044f \u044d\u0442\u043e\u0433\u043e \u043e\u043d\u0438 \u0432\u044b\u043d\u0435\u0441\u0435\u043d\u044b \u043a\u0430\u043a \u043a\u043e\u043d\u0441\u0442\u0430\u043d\u0442\u044b."
     ]
    },
    {
     "cell_type": "heading",
     "level": 3,
     "metadata": {},
     "source": [
      "\u0420\u0430\u0437\u0431\u0438\u0435\u043d\u0438\u0435 \u0434\u0430\u043d\u043d\u044b\u0435 \u043d\u0430 train / test"
     ]
    },
    {
     "cell_type": "code",
     "collapsed": false,
     "input": [
      "MIN_BOOKMARK_OCCURRENCES = 3\n",
      "MIN_BOOKMARKS_PER_USER = 10\n",
      "TEST_BOOKMARKS_PER_USER = 3\n",
      "FAKE_BOOKMARKS_PER_USER = 97"
     ],
     "language": "python",
     "metadata": {},
     "outputs": [],
     "prompt_number": 427
    },
    {
     "cell_type": "code",
     "collapsed": false,
     "input": [
      "good_user_bookmarks = user_bookmarks[user_bookmarks.bookmarkOccurrences >= MIN_BOOKMARK_OCCURRENCES]\n",
      "\n",
      "test_userID = []\n",
      "test_bookmarkID = []\n",
      "test_relevant = []\n",
      "\n",
      "import random\n",
      "\n",
      "good_user_bookmarks['hidden'] = pandas.Series(False, index=good_user_bookmarks.index)\n",
      "bookmarks_by_user = good_user_bookmarks.groupby('userID')\n",
      "for userID, group in bookmarks_by_user.groups.iteritems():\n",
      "    if len(group) >= MIN_BOOKMARKS_PER_USER:\n",
      "        test_pairs = random.sample(good_user_bookmarks.ix[group, :].index, TEST_BOOKMARKS_PER_USER)\n",
      "        test_bookmarks = good_user_bookmarks.ix[test_pairs, 'bookmarkID'].values\n",
      "        good_user_bookmarks.ix[test_pairs, 'hidden'] = True\n",
      "        \n",
      "        # Two ways to select fake bookmarks\n",
      "        # 1. Uniformly from all bookmarks\n",
      "        #fake_bookmarks = random.sample(bookmarks.index, FAKE_BOOKMARKS_PER_USER)\n",
      "        # 2. From distribution of bookmarks usage\n",
      "        fake_bookmarks = random.sample(good_user_bookmarks.ix[:, 'bookmarkID'].values, FAKE_BOOKMARKS_PER_USER)\n",
      "        \n",
      "        test_userID.extend([userID]*TEST_BOOKMARKS_PER_USER)\n",
      "        test_bookmarkID.extend(test_bookmarks)\n",
      "        test_relevant.extend([True]*TEST_BOOKMARKS_PER_USER)\n",
      "        \n",
      "        test_userID.extend([userID]*FAKE_BOOKMARKS_PER_USER)\n",
      "        test_bookmarkID.extend(fake_bookmarks)\n",
      "        test_relevant.extend([False]*FAKE_BOOKMARKS_PER_USER)\n",
      "        \n",
      "test = pandas.DataFrame({\n",
      "        'userID': array(test_userID),\n",
      "        'bookmarkID': array(test_bookmarkID),\n",
      "        'relevant': array(test_relevant, dtype=bool),\n",
      "    })\n",
      "\n",
      "user_taggedbookmarks = pandas.merge(good_user_bookmarks.drop('timestamp', axis=1), user_taggedbookmarks, on=['userID', 'bookmarkID'], how='outer')\n",
      "user_taggedbookmarks['bookmarkOccurrences'] = bookmark_counts[user_taggedbookmarks.bookmarkID].values\n",
      "user_taggedbookmarks['hidden'] = x.hidden.fillna(value=False)\n",
      "user_taggedbookmarks.sort('bookmarkOccurrences', ascending=False).head()\n",
      "\n",
      "train = user_taggedbookmarks[user_taggedbookmarks.hidden == False].drop('hidden', axis=1)\n",
      "train_user_bookmarks = train.groupby(['userID', 'bookmarkID'])['timestamp'].min().reset_index()\n",
      "train_bookmark_counts = train_user_bookmarks.bookmarkID.value_counts()\n",
      "train_user_bookmarks['bookmarkOccurrences'] = train_bookmark_counts[train_user_bookmarks.bookmarkID].values"
     ],
     "language": "python",
     "metadata": {},
     "outputs": [],
     "prompt_number": 428
    },
    {
     "cell_type": "code",
     "collapsed": false,
     "input": [
      "def estimate_quality(test, ranker, plot_recall=False):\n",
      "    n_relevant = count_nonzero(test.relevant == True)\n",
      "    predictions = ranker(test.drop('relevant', axis=1))\n",
      "    if isinstance(predictions, pandas.Series):\n",
      "        predictions = predictions.values\n",
      "    order = argsort(predictions)[::-1]\n",
      "    recall_at_k = cumsum(test.relevant[order].astype(float) / n_relevant)\n",
      "    if plot_recall:\n",
      "        figure(figsize=(5, 5))\n",
      "        plot([0, 1], [0, 1], 'k--')\n",
      "        plot(linspace(0, 1, len(recall_at_k)), recall_at_k, 'r', linewidth=2.0)\n",
      "        fill(linspace(0, 1, len(recall_at_k)), recall_at_k, 'r', alpha=0.1)\n",
      "        xlim([0, 1])\n",
      "        ylim([0, 1])\n",
      "    return recall_at_k, mean(recall_at_k)"
     ],
     "language": "python",
     "metadata": {},
     "outputs": [],
     "prompt_number": 430
    },
    {
     "cell_type": "heading",
     "level": 3,
     "metadata": {},
     "source": [
      "\u041f\u043e\u0441\u0442\u0430\u043d\u043e\u0432\u043a\u0430 \u0437\u0430\u0434\u0430\u0447\u0438"
     ]
    },
    {
     "cell_type": "markdown",
     "metadata": {},
     "source": [
      "\u0414\u043b\u044f \u043e\u0431\u0443\u0447\u0435\u043d\u0438\u044f \u0438\u043c\u0435\u0435\u043c:\n",
      "\n",
      "  * \u0418\u043d\u0444\u043e\u0440\u043c\u0430\u0446\u0438\u044e \u0432\u0438\u0434\u0430 \"\u043f\u043e\u043b\u044c\u0437\u043e\u0432\u0430\u0442\u0435\u043b\u044c \u043f\u043e\u0441\u0442\u0430\u0432\u0438\u043b \u0437\u0430\u043a\u043b\u0430\u0434\u043a\u0435 \u0442\u0435\u0433\" <tt>(train)</tt>\n",
      "  * \u0421\u0432\u044f\u0437\u0438 \u043c\u0435\u0436\u0434\u0443 \u043f\u043e\u043b\u044c\u0437\u043e\u0432\u0430\u0442\u0435\u043b\u044f\u043c\u0438 <tt>(user_contacts)</tt>\n",
      "  * \u041c\u0435\u0442\u0430\u0438\u043d\u0444\u043e\u0440\u043c\u0430\u0446\u0438\u044f \u043f\u0440\u043e \u0437\u0430\u043a\u043b\u0430\u0434\u043a\u0438 <tt>(bookmarks)</tt>\n",
      "  * \u041c\u0435\u0442\u0430\u0438\u043d\u0444\u043e\u0440\u043c\u0430\u0446\u0438\u044f \u043f\u0440\u043e \u0442\u0435\u0433\u0438 <tt>(tags)</tt>"
     ]
    },
    {
     "cell_type": "code",
     "collapsed": false,
     "input": [
      "train.head()"
     ],
     "language": "python",
     "metadata": {},
     "outputs": [
      {
       "html": [
        "<div style=\"max-height:1000px;max-width:1500px;overflow:auto;\">\n",
        "<table border=\"1\" class=\"dataframe\">\n",
        "  <thead>\n",
        "    <tr style=\"text-align: right;\">\n",
        "      <th></th>\n",
        "      <th>userID</th>\n",
        "      <th>bookmarkID</th>\n",
        "      <th>bookmarkOccurrences</th>\n",
        "      <th>tagID</th>\n",
        "      <th>timestamp</th>\n",
        "    </tr>\n",
        "  </thead>\n",
        "  <tbody>\n",
        "    <tr>\n",
        "      <th>0</th>\n",
        "      <td> 8</td>\n",
        "      <td>  9</td>\n",
        "      <td> 3</td>\n",
        "      <td>  1</td>\n",
        "      <td>2010-11-08 17:37:13</td>\n",
        "    </tr>\n",
        "    <tr>\n",
        "      <th>1</th>\n",
        "      <td> 8</td>\n",
        "      <td>  9</td>\n",
        "      <td> 3</td>\n",
        "      <td> 10</td>\n",
        "      <td>2010-11-08 17:37:13</td>\n",
        "    </tr>\n",
        "    <tr>\n",
        "      <th>2</th>\n",
        "      <td> 8</td>\n",
        "      <td> 19</td>\n",
        "      <td> 5</td>\n",
        "      <td>  1</td>\n",
        "      <td>2010-11-08 15:47:42</td>\n",
        "    </tr>\n",
        "    <tr>\n",
        "      <th>3</th>\n",
        "      <td> 8</td>\n",
        "      <td> 19</td>\n",
        "      <td> 5</td>\n",
        "      <td> 22</td>\n",
        "      <td>2010-11-08 15:47:42</td>\n",
        "    </tr>\n",
        "    <tr>\n",
        "      <th>4</th>\n",
        "      <td> 8</td>\n",
        "      <td> 27</td>\n",
        "      <td> 3</td>\n",
        "      <td>  1</td>\n",
        "      <td>2010-11-08 14:51:33</td>\n",
        "    </tr>\n",
        "  </tbody>\n",
        "</table>\n",
        "</div>"
       ],
       "metadata": {},
       "output_type": "pyout",
       "prompt_number": 431,
       "text": [
        "   userID  bookmarkID  bookmarkOccurrences  tagID           timestamp\n",
        "0       8           9                    3      1 2010-11-08 17:37:13\n",
        "1       8           9                    3     10 2010-11-08 17:37:13\n",
        "2       8          19                    5      1 2010-11-08 15:47:42\n",
        "3       8          19                    5     22 2010-11-08 15:47:42\n",
        "4       8          27                    3      1 2010-11-08 14:51:33"
       ]
      }
     ],
     "prompt_number": 431
    },
    {
     "cell_type": "markdown",
     "metadata": {},
     "source": [
      "\u041d\u0435\u043e\u0431\u0445\u043e\u0434\u0438\u043c\u043e \u043a\u0430\u043a \u043c\u043e\u0436\u043d\u043e \u0432\u044b\u0448\u0435 \u043e\u0442\u0440\u0430\u043d\u0436\u0438\u0440\u043e\u0432\u0430\u0442\u044c \u0440\u0435\u043b\u0435\u0432\u0430\u043d\u0442\u043d\u044b\u0435 \u043f\u0430\u0440\u044b \u043f\u043e\u043b\u044c\u0437\u043e\u0432\u0430\u0442\u0435\u043b\u044c\u2013\u0437\u0430\u043a\u043b\u0430\u0434\u043a\u0430 \u0432 \u0442\u0435\u0441\u0442\u043e\u0432\u043e\u043c \u043d\u0430\u0431\u043e\u0440\u0435 <tt>(test)</tt>."
     ]
    },
    {
     "cell_type": "code",
     "collapsed": false,
     "input": [
      "test.head()"
     ],
     "language": "python",
     "metadata": {},
     "outputs": [
      {
       "html": [
        "<div style=\"max-height:1000px;max-width:1500px;overflow:auto;\">\n",
        "<table border=\"1\" class=\"dataframe\">\n",
        "  <thead>\n",
        "    <tr style=\"text-align: right;\">\n",
        "      <th></th>\n",
        "      <th>bookmarkID</th>\n",
        "      <th>relevant</th>\n",
        "      <th>userID</th>\n",
        "    </tr>\n",
        "  </thead>\n",
        "  <tbody>\n",
        "    <tr>\n",
        "      <th>0</th>\n",
        "      <td>    82</td>\n",
        "      <td>  True</td>\n",
        "      <td> 8</td>\n",
        "    </tr>\n",
        "    <tr>\n",
        "      <th>1</th>\n",
        "      <td>    79</td>\n",
        "      <td>  True</td>\n",
        "      <td> 8</td>\n",
        "    </tr>\n",
        "    <tr>\n",
        "      <th>2</th>\n",
        "      <td>    32</td>\n",
        "      <td>  True</td>\n",
        "      <td> 8</td>\n",
        "    </tr>\n",
        "    <tr>\n",
        "      <th>3</th>\n",
        "      <td> 27960</td>\n",
        "      <td> False</td>\n",
        "      <td> 8</td>\n",
        "    </tr>\n",
        "    <tr>\n",
        "      <th>4</th>\n",
        "      <td>  6204</td>\n",
        "      <td> False</td>\n",
        "      <td> 8</td>\n",
        "    </tr>\n",
        "  </tbody>\n",
        "</table>\n",
        "</div>"
       ],
       "metadata": {},
       "output_type": "pyout",
       "prompt_number": 432,
       "text": [
        "   bookmarkID relevant  userID\n",
        "0          82     True       8\n",
        "1          79     True       8\n",
        "2          32     True       8\n",
        "3       27960    False       8\n",
        "4        6204    False       8"
       ]
      }
     ],
     "prompt_number": 432
    },
    {
     "cell_type": "markdown",
     "metadata": {},
     "source": [
      "\u0422\u0435\u0441\u0442\u0438\u0440\u043e\u0432\u0430\u043d\u0438\u0435 \u0430\u043b\u0433\u043e\u0440\u0438\u0442\u043c\u0430 \u043c\u043e\u0436\u043d\u043e \u043f\u0440\u043e\u0434\u0435\u043b\u0430\u0442\u044c \u043f\u0440\u0438 \u043f\u043e\u043c\u043e\u0449\u0438 \u0444\u0443\u043d\u043a\u0446\u0438\u0438 <tt>estimate_quality(test, ranker)</tt>."
     ]
    },
    {
     "cell_type": "heading",
     "level": 3,
     "metadata": {},
     "source": [
      "\u041d\u0435\u043a\u043e\u0442\u043e\u0440\u0430\u044f \u0438\u043d\u0444\u043e\u0440\u043c\u0430\u0446\u0438\u044f \u043f\u0440\u043e \u0440\u0430\u0437\u0431\u0438\u0435\u043d\u0438\u0435"
     ]
    },
    {
     "cell_type": "code",
     "collapsed": false,
     "input": [
      "print 'Train, user count:    ', train.userID.value_counts().shape[0]\n",
      "print 'Train, bookmark count:', train.bookmarkID.value_counts().shape[0]\n",
      "print 'Test,  user count:    ', test.userID.value_counts().shape[0]\n",
      "print 'Test,  bookmark count:', test.bookmarkID.value_counts().shape[0]\n",
      "print\n",
      "print 'Users both in train and test:    ', len(np.intersect1d(train.userID.values, test.userID.values))\n",
      "print 'Bookmarks both in train and test:', len(np.intersect1d(train.bookmarkID.values, test.bookmarkID.values))"
     ],
     "language": "python",
     "metadata": {},
     "outputs": [
      {
       "output_type": "stream",
       "stream": "stdout",
       "text": [
        "Train, user count:     1867\n",
        "Train, bookmark count: "
       ]
      },
      {
       "output_type": "stream",
       "stream": "stdout",
       "text": [
        "69217\n",
        "Test,  user count:     977\n",
        "Test,  bookmark count: 5633\n",
        "\n",
        "Users both in train and test:     977\n",
        "Bookmarks both in train and test: "
       ]
      },
      {
       "output_type": "stream",
       "stream": "stdout",
       "text": [
        "5627\n"
       ]
      }
     ],
     "prompt_number": 433
    },
    {
     "cell_type": "heading",
     "level": 2,
     "metadata": {},
     "source": [
      "\u041f\u0440\u043e\u0441\u0442\u044b\u0435 \u0440\u0435\u043a\u043e\u043c\u0435\u043d\u0434\u0430\u0446\u0438\u0438"
     ]
    },
    {
     "cell_type": "heading",
     "level": 3,
     "metadata": {},
     "source": [
      "\u0421\u043b\u0443\u0447\u0430\u0439\u043d\u043e\u0435 \u0440\u0430\u043d\u0436\u0438\u0440\u043e\u0432\u0430\u043d\u0438\u0435"
     ]
    },
    {
     "cell_type": "markdown",
     "metadata": {},
     "source": [
      "\u0417\u0430\u043a\u043b\u0430\u0434\u043a\u0438 \u0440\u0430\u043d\u0436\u0438\u0440\u0443\u044e\u0442\u0441\u044f \u0432 \u0441\u043b\u0443\u0447\u0430\u0439\u043d\u043e\u043c \u043f\u043e\u0440\u044f\u0434\u043a\u0435."
     ]
    },
    {
     "cell_type": "code",
     "collapsed": false,
     "input": [
      "def random_ranker(test):\n",
      "    return np.random.rand(test.shape[0])"
     ],
     "language": "python",
     "metadata": {},
     "outputs": [],
     "prompt_number": 434
    },
    {
     "cell_type": "code",
     "collapsed": false,
     "input": [
      "r, auc = estimate_quality(test, random_ranker, True)\n",
      "print 'Quality of random ranker:', auc"
     ],
     "language": "python",
     "metadata": {},
     "outputs": [
      {
       "output_type": "stream",
       "stream": "stdout",
       "text": [
        "Quality of random ranker: 0.506136261968\n"
       ]
      },
      {
       "metadata": {},
       "output_type": "display_data",
       "png": "[encoded data removed]",
       "text": [
        "<matplotlib.figure.Figure at 0x16fdc7910>"
       ]
      }
     ],
     "prompt_number": 435
    },
    {
     "cell_type": "markdown",
     "metadata": {},
     "source": [
      "\u041a\u0440\u0438\u0432\u0430\u044f Recall@k \u0441\u0442\u0440\u0435\u043c\u0438\u0442\u0441\u044f \u043a \u043f\u0440\u044f\u043c\u043e\u0439, \u0435\u0441\u043b\u0438 \u0440\u0430\u043d\u0436\u0438\u0440\u043e\u0432\u0430\u043d\u0438\u0435 \u043d\u0435 \u0437\u0430\u0432\u0438\u0441\u0438\u0442 \u043e\u0442 \u0440\u0435\u043b\u0435\u0432\u0430\u043d\u0442\u043d\u043e\u0441\u0442\u0438. \u0411\u0430\u0437\u043e\u0432\u043e\u0435 \u0437\u043d\u0430\u0447\u0435\u043d\u0438\u0435 AUC \u2014 0.5, \u0435\u0433\u043e \u0431\u0443\u0434\u0435\u043c \u043f\u044b\u0442\u0430\u0442\u044c\u0441\u044f \u0443\u043b\u0443\u0447\u0448\u0438\u0442\u044c."
     ]
    },
    {
     "cell_type": "heading",
     "level": 3,
     "metadata": {},
     "source": [
      "\u0420\u0430\u043d\u0436\u0438\u0440\u043e\u0432\u0430\u043d\u0438\u0435 \u043f\u043e \u043f\u043e\u043f\u0443\u043b\u044f\u0440\u043d\u043e\u0441\u0442\u0438"
     ]
    },
    {
     "cell_type": "markdown",
     "metadata": {},
     "source": [
      "\u041e\u043f\u0440\u0435\u0434\u0435\u043b\u0438\u043c \u043f\u043e \u043e\u0431\u0443\u0447\u0430\u044e\u0449\u0438\u043c \u0434\u0430\u043d\u043d\u044b\u043c \u043f\u043e\u043f\u0443\u043b\u044f\u0440\u043d\u043e\u0441\u0442\u044c \u043a\u0430\u0436\u0434\u043e\u0439 \u0437\u0430\u043a\u043b\u0430\u0434\u043a\u0438, \u0431\u0443\u0434\u0435\u043c \u043f\u0440\u0435\u0434\u043b\u0430\u0433\u0430\u0442\u044c \u043f\u043e\u043b\u044c\u0437\u043e\u0432\u0430\u0442\u0435\u043b\u044e \u0437\u0430\u043a\u043b\u0430\u0434\u043a\u0438 \u0432 \u043f\u043e\u0440\u044f\u0434\u043a\u0435 \u0443\u0431\u044b\u0432\u0430\u043d\u0438\u044f \u0438\u0445 \u043f\u043e\u043f\u0443\u043b\u044f\u0440\u043d\u043e\u0441\u0442\u0438 (\u043d\u0435 \u0437\u0430\u0432\u0438\u0441\u0438\u043c\u043e \u043e\u0442 \u043f\u043e\u043b\u044c\u0437\u043e\u0432\u0430\u0442\u0435\u043b\u044f)."
     ]
    },
    {
     "cell_type": "code",
     "collapsed": false,
     "input": [
      "train_bookmark_counts = train_user_bookmarks.bookmarkID.value_counts()\n",
      "train_bookmark_counts.name = 'occurrences'\n",
      "train_bookmarks = bookmarks.join(train_bookmark_counts)"
     ],
     "language": "python",
     "metadata": {},
     "outputs": [],
     "prompt_number": 436
    },
    {
     "cell_type": "code",
     "collapsed": false,
     "input": [
      "train_bookmarks[['title', 'url', 'occurrences']].dropna().sort('occurrences', ascending=False).head(n=10)"
     ],
     "language": "python",
     "metadata": {},
     "outputs": [
      {
       "html": [
        "<div style=\"max-height:1000px;max-width:1500px;overflow:auto;\">\n",
        "<table border=\"1\" class=\"dataframe\">\n",
        "  <thead>\n",
        "    <tr style=\"text-align: right;\">\n",
        "      <th></th>\n",
        "      <th>title</th>\n",
        "      <th>url</th>\n",
        "      <th>occurrences</th>\n",
        "    </tr>\n",
        "    <tr>\n",
        "      <th>id</th>\n",
        "      <th></th>\n",
        "      <th></th>\n",
        "      <th></th>\n",
        "    </tr>\n",
        "  </thead>\n",
        "  <tbody>\n",
        "    <tr>\n",
        "      <th>5448</th>\n",
        "      <td> HTML5 Boilerplate - A rock-solid default for H...</td>\n",
        "      <td>                      http://html5boilerplate.com/</td>\n",
        "      <td> 26</td>\n",
        "    </tr>\n",
        "    <tr>\n",
        "      <th>1752</th>\n",
        "      <td>    Eric Butler - Software Developer in Seattle WA</td>\n",
        "      <td>                   http://codebutler.com/firesheep</td>\n",
        "      <td> 25</td>\n",
        "    </tr>\n",
        "    <tr>\n",
        "      <th>1087</th>\n",
        "      <td>   Draw on any webpage. Share your ideas. - MarkUp</td>\n",
        "      <td>                                 http://markup.io/</td>\n",
        "      <td> 23</td>\n",
        "    </tr>\n",
        "    <tr>\n",
        "      <th>2178</th>\n",
        "      <td>                    Wordle - Beautiful Word Clouds</td>\n",
        "      <td>                            http://www.wordle.net/</td>\n",
        "      <td> 21</td>\n",
        "    </tr>\n",
        "    <tr>\n",
        "      <th>2720</th>\n",
        "      <td>           Prezi - The zooming presentation editor</td>\n",
        "      <td>                                 http://prezi.com/</td>\n",
        "      <td> 19</td>\n",
        "    </tr>\n",
        "    <tr>\n",
        "      <th>4041</th>\n",
        "      <td>  Ultimate CSS Gradient Generator - ColorZilla.com</td>\n",
        "      <td>        http://www.colorzilla.com/gradient-editor/</td>\n",
        "      <td> 19</td>\n",
        "    </tr>\n",
        "    <tr>\n",
        "      <th>7535</th>\n",
        "      <td>                                   visualizing.org</td>\n",
        "      <td>                       http://www.visualizing.org/</td>\n",
        "      <td> 18</td>\n",
        "    </tr>\n",
        "    <tr>\n",
        "      <th>8981</th>\n",
        "      <td>        Periodic Table of the Elements - Josh Duck</td>\n",
        "      <td>           http://joshduck.com/periodic-table.html</td>\n",
        "      <td> 18</td>\n",
        "    </tr>\n",
        "    <tr>\n",
        "      <th>5191</th>\n",
        "      <td>                the creative internet (106 things)</td>\n",
        "      <td> https://docs.google.com/present/view?id=0Abmo0...</td>\n",
        "      <td> 18</td>\n",
        "    </tr>\n",
        "    <tr>\n",
        "      <th>6349</th>\n",
        "      <td>                                      Khan Academy</td>\n",
        "      <td>                       http://www.khanacademy.org/</td>\n",
        "      <td> 18</td>\n",
        "    </tr>\n",
        "  </tbody>\n",
        "</table>\n",
        "</div>"
       ],
       "metadata": {},
       "output_type": "pyout",
       "prompt_number": 437,
       "text": [
        "                                                  title  \\\n",
        "id                                                        \n",
        "5448  HTML5 Boilerplate - A rock-solid default for H...   \n",
        "1752     Eric Butler - Software Developer in Seattle WA   \n",
        "1087    Draw on any webpage. Share your ideas. - MarkUp   \n",
        "2178                     Wordle - Beautiful Word Clouds   \n",
        "2720            Prezi - The zooming presentation editor   \n",
        "4041   Ultimate CSS Gradient Generator - ColorZilla.com   \n",
        "7535                                    visualizing.org   \n",
        "8981         Periodic Table of the Elements - Josh Duck   \n",
        "5191                 the creative internet (106 things)   \n",
        "6349                                       Khan Academy   \n",
        "\n",
        "                                                    url  occurrences  \n",
        "id                                                                    \n",
        "5448                       http://html5boilerplate.com/           26  \n",
        "1752                    http://codebutler.com/firesheep           25  \n",
        "1087                                  http://markup.io/           23  \n",
        "2178                             http://www.wordle.net/           21  \n",
        "2720                                  http://prezi.com/           19  \n",
        "4041         http://www.colorzilla.com/gradient-editor/           19  \n",
        "7535                        http://www.visualizing.org/           18  \n",
        "8981            http://joshduck.com/periodic-table.html           18  \n",
        "5191  https://docs.google.com/present/view?id=0Abmo0...           18  \n",
        "6349                        http://www.khanacademy.org/           18  "
       ]
      }
     ],
     "prompt_number": 437
    },
    {
     "cell_type": "code",
     "collapsed": false,
     "input": [
      "ks, bookmarks_k = arange(11), zeros(11)\n",
      "for k in ks:\n",
      "    bookmarks_k[k] = bookmark_counts[bookmark_counts > k].shape[0]\n",
      "semilogy(bookmarks_k, '-^')\n",
      "grid(True)\n",
      "xlabel('k')\n",
      "ylabel('Bookmarks occured more than K times')"
     ],
     "language": "python",
     "metadata": {},
     "outputs": [
      {
       "metadata": {},
       "output_type": "pyout",
       "prompt_number": 438,
       "text": [
        "<matplotlib.text.Text at 0x13c35c390>"
       ]
      },
      {
       "metadata": {},
       "output_type": "display_data",
       "png": "[encoded data removed]",
       "text": [
        "<matplotlib.figure.Figure at 0x13c375e90>"
       ]
      }
     ],
     "prompt_number": 438
    },
    {
     "cell_type": "code",
     "collapsed": false,
     "input": [
      "def popularity_ranker(test):\n",
      "    return bookmark_counts[test.bookmarkID].fillna(value=+inf)"
     ],
     "language": "python",
     "metadata": {},
     "outputs": [],
     "prompt_number": 439
    },
    {
     "cell_type": "code",
     "collapsed": false,
     "input": [
      "r, auc = estimate_quality(test, popularity_ranker, True)\n",
      "print 'Quality of popularity ranker:', auc"
     ],
     "language": "python",
     "metadata": {},
     "outputs": [
      {
       "output_type": "stream",
       "stream": "stdout",
       "text": [
        "Quality of popularity ranker: 0.501622164788\n"
       ]
      },
      {
       "metadata": {},
       "output_type": "display_data",
       "png": "[encoded data removed]",
       "text": [
        "<matplotlib.figure.Figure at 0x13e67ab50>"
       ]
      }
     ],
     "prompt_number": 440
    },
    {
     "cell_type": "code",
     "collapsed": false,
     "input": [
      "res = popularity_ranker(test)"
     ],
     "language": "python",
     "metadata": {},
     "outputs": [],
     "prompt_number": 441
    },
    {
     "cell_type": "heading",
     "level": 3,
     "metadata": {},
     "source": [
      "\u0420\u0430\u043d\u0436\u0438\u0440\u043e\u0432\u0430\u043d\u0438\u0435 \u043f\u043e \u0442\u0435\u0433\u0430\u043c"
     ]
    },
    {
     "cell_type": "markdown",
     "metadata": {},
     "source": [
      "\u0412\u044b\u0434\u0435\u043b\u0438\u0442\u044c \u0441\u043f\u0438\u0441\u043e\u043a \u0442\u0435\u0433\u043e\u0432 \u0443 \u043f\u043e\u043b\u044c\u0437\u043e\u0432\u0430\u0442\u0435\u043b\u044f, \u0432\u044b\u0434\u0435\u043b\u0438\u0442\u044c \u0441\u043f\u0438\u0441\u043e\u043a \u0442\u0435\u0433\u043e\u0432 \u0443 \u0437\u0430\u043a\u043b\u0430\u0434\u043a\u0438. \u041e\u0446\u0435\u043d\u043a\u0430 \u2013 \u0432\u0435\u043b\u0438\u0447\u0438\u043d\u0430 \u043f\u0435\u0440\u0435\u0441\u0435\u0447\u0435\u043d\u0438\u044f \u043c\u043d\u043e\u0436\u0435\u0441\u0442\u0432 \u0442\u0435\u0433\u043e\u0432."
     ]
    },
    {
     "cell_type": "code",
     "collapsed": false,
     "input": [
      "def tag_ranker(user_bookmarks, user_taggedbookmarks):\n",
      "    pass"
     ],
     "language": "python",
     "metadata": {},
     "outputs": []
    },
    {
     "cell_type": "heading",
     "level": 3,
     "metadata": {},
     "source": [
      "\u0418\u0441\u043f\u043e\u043b\u044c\u0437\u043e\u0432\u0430\u043d\u0438\u0435 SVD"
     ]
    },
    {
     "cell_type": "code",
     "collapsed": false,
     "input": [
      "import simplesvd"
     ],
     "language": "python",
     "metadata": {},
     "outputs": [],
     "prompt_number": 95
    },
    {
     "cell_type": "code",
     "collapsed": false,
     "input": [
      "data = (test.userID.values, test.bookmarkID.values)"
     ],
     "language": "python",
     "metadata": {},
     "outputs": [],
     "prompt_number": 108
    },
    {
     "cell_type": "code",
     "collapsed": false,
     "input": [
      "simplesvd.shift(data, "
     ],
     "language": "python",
     "metadata": {},
     "outputs": [
      {
       "metadata": {},
       "output_type": "pyout",
       "prompt_number": 109,
       "text": [
        "(array([90113, 90113, 90113, ..., 73727, 73727, 73727]),\n",
        " array([11794,   439,  5390, ..., 25669, 15979, 17366]))"
       ]
      }
     ],
     "prompt_number": 109
    }
   ],
   "metadata": {}
  }
 ]
}