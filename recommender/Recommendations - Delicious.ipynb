{
 "metadata": {
  "name": ""
 },
 "nbformat": 3,
 "nbformat_minor": 0,
 "worksheets": [
  {
   "cells": [
    {
     "cell_type": "heading",
     "level": 1,
     "metadata": {},
     "source": [
      "\u0420\u0435\u043a\u043e\u043c\u0435\u043d\u0434\u0430\u0446\u0438\u0438 \u0434\u043b\u044f \u0441\u0435\u0440\u0432\u0438\u0441\u0430 \u0441\u043e\u0446\u0438\u0430\u043b\u044c\u043d\u044b\u0445 \u0437\u0430\u043a\u043b\u0430\u0434\u043e\u043a Delicious"
     ]
    },
    {
     "cell_type": "code",
     "collapsed": false,
     "input": [
      "%pylab inline"
     ],
     "language": "python",
     "metadata": {},
     "outputs": [
      {
       "output_type": "stream",
       "stream": "stdout",
       "text": [
        "Populating the interactive namespace from numpy and matplotlib\n"
       ]
      }
     ],
     "prompt_number": 1
    },
    {
     "cell_type": "heading",
     "level": 2,
     "metadata": {},
     "source": [
      "\u0420\u0435\u043a\u043e\u043c\u0435\u043d\u0434\u0430\u0446\u0438\u0438 \u043f\u0443\u0442\u0435\u043c \u0440\u0430\u043d\u0436\u0438\u0440\u043e\u0432\u0430\u043d\u0438\u044f"
     ]
    },
    {
     "cell_type": "markdown",
     "metadata": {},
     "source": [
      "\u0421\u0443\u0449\u0435\u0441\u0442\u0432\u0443\u044e\u0442 \u0440\u0430\u0437\u043b\u0438\u0447\u043d\u044b\u0435 \u043f\u043e\u0434\u0445\u043e\u0434\u044b \u043a \u043f\u043e\u0441\u0442\u0440\u043e\u0435\u043d\u0438\u044e \u0441\u043f\u0438\u0441\u043a\u043e\u0432 \u043f\u0435\u0440\u0441\u043e\u043d\u0430\u043b\u0438\u0437\u043e\u0432\u0430\u043d\u043d\u044b\u0445 \u0440\u0435\u043a\u043e\u043c\u0435\u043d\u0434\u0430\u0446\u0438\u0439. \u041c\u0435\u0442\u043e\u0434\u044b \u043c\u0430\u0448\u0438\u043d\u043d\u043e\u0433\u043e \u043e\u0431\u0443\u0447\u0435\u043d\u0438\u044f \u0443\u0434\u043e\u0431\u043d\u043e \u043f\u0440\u0438\u043c\u0435\u043d\u044f\u0442\u044c \u0434\u043b\u044f \u043c\u043e\u0434\u0435\u043b\u0438\u0440\u043e\u0432\u0430\u043d\u0438\u044f *\u043f\u043e\u043b\u044c\u0437\u043e\u0432\u0430\u0442\u0435\u043b\u044c\u0441\u043a\u043e\u0433\u043e \u043f\u0440\u0435\u0434\u043f\u043e\u0447\u0442\u0435\u043d\u0438\u044f*, \u0442.\u0435. \u043e\u0431\u0443\u0447\u0430\u0442\u044c \u0444\u0443\u043d\u043a\u0446\u0438\u044e $pref(userID, itemID)$, \u0440\u0430\u043d\u0436\u0438\u0440\u0443\u044e\u0449\u0443\u044e \u043e\u0431\u044a\u0435\u043a\u0442\u044b \u0440\u0435\u043a\u043e\u043c\u0435\u043d\u0434\u0430\u0446\u0438\u0439 \u043f\u043e \u043f\u0440\u0435\u0434\u043f\u043e\u0447\u0442\u0435\u043d\u0438\u044e, \u043e\u0442\u043d\u043e\u0441\u0438\u0442\u0435\u043b\u044c\u043d\u043e \u0432\u044b\u0431\u0440\u0430\u043d\u043d\u043e\u0433\u043e \u043f\u043e\u043b\u044c\u0437\u043e\u0432\u0430\u0442\u0435\u043b\u044f:\n",
      "\n",
      "$$p_{u}(i): Items \\to \\mathbb{R}$$\n",
      "\n",
      "\u0417\u0434\u0435\u0441\u044c $p_u(i_1) > p_u(i_2)$ \u043e\u0437\u043d\u0430\u0447\u0430\u0435\u0442, \u0447\u0442\u043e \u043e\u0431\u044a\u0435\u043a\u0442 $i_1$ \u0431\u043e\u043b\u0435\u0435 \u043f\u0440\u0435\u0434\u043f\u043e\u0447\u0442\u0438\u0442\u0435\u043b\u0435\u043d \u0434\u043b\u044f \u043f\u043e\u043b\u044c\u0437\u043e\u0432\u0430\u0442\u0435\u043b\u044f $u$ \u0447\u0435\u043c \u043e\u0431\u044a\u0435\u043a\u0442 $i_2$.\n"
     ]
    },
    {
     "cell_type": "heading",
     "level": 2,
     "metadata": {},
     "source": [
      "\u0427\u0442\u0435\u043d\u0438\u0435 \u0434\u0430\u043d\u043d\u044b\u0445"
     ]
    },
    {
     "cell_type": "code",
     "collapsed": false,
     "input": [
      "import pandas"
     ],
     "language": "python",
     "metadata": {},
     "outputs": [],
     "prompt_number": 2
    },
    {
     "cell_type": "code",
     "collapsed": false,
     "input": [
      "bookmarks = pandas.read_csv('data/delicious/bookmarks.dat', sep='\\t', index_col='id')\n",
      "bookmark_tags = pandas.read_csv('data/delicious/bookmark_tags.dat', sep='\\t')\n",
      "tag_names = pandas.read_csv('data/delicious/tags.dat', sep='\\t', index_col='id')\n",
      "user_contacts = pandas.read_csv('data/delicious/user_contacts-timestamps.dat', sep='\\t')\n",
      "user_contacts['timestamp'] = pandas.to_datetime(user_contacts['timestamp'], unit='ms')\n",
      "user_taggedbookmarks = pandas.read_csv('data/delicious/user_taggedbookmarks-timestamps.dat', sep='\\t')\n",
      "user_taggedbookmarks['timestamp'] = pandas.to_datetime(user_taggedbookmarks['timestamp'], unit='ms')"
     ],
     "language": "python",
     "metadata": {},
     "outputs": [],
     "prompt_number": 3
    },
    {
     "cell_type": "code",
     "collapsed": false,
     "input": [
      "print 'Bookmarks:', bookmarks.shape[0]\n",
      "bookmarks.head()"
     ],
     "language": "python",
     "metadata": {},
     "outputs": [
      {
       "output_type": "stream",
       "stream": "stdout",
       "text": [
        "Bookmarks: 69226\n"
       ]
      },
      {
       "html": [
        "<div style=\"max-height:1000px;max-width:1500px;overflow:auto;\">\n",
        "<table border=\"1\" class=\"dataframe\">\n",
        "  <thead>\n",
        "    <tr style=\"text-align: right;\">\n",
        "      <th></th>\n",
        "      <th>md5</th>\n",
        "      <th>title</th>\n",
        "      <th>url</th>\n",
        "      <th>md5Principal</th>\n",
        "      <th>urlPrincipal</th>\n",
        "    </tr>\n",
        "    <tr>\n",
        "      <th>id</th>\n",
        "      <th></th>\n",
        "      <th></th>\n",
        "      <th></th>\n",
        "      <th></th>\n",
        "      <th></th>\n",
        "    </tr>\n",
        "  </thead>\n",
        "  <tbody>\n",
        "    <tr>\n",
        "      <th>1</th>\n",
        "      <td> ab4954b633ddaf5b5bba6e9b71aa6b70</td>\n",
        "      <td> IFLA - The official website of the Internation...</td>\n",
        "      <td>                              http://www.ifla.org/</td>\n",
        "      <td>  7f431306c428457bc4e12b15634484f</td>\n",
        "      <td>                www.ifla.org</td>\n",
        "    </tr>\n",
        "    <tr>\n",
        "      <th>2</th>\n",
        "      <td> 2221e9cd106d269dd34682666f576fa3</td>\n",
        "      <td>               gcdp-e.pdf (application/pdf Object)</td>\n",
        "      <td>    http://archive.ifla.org/VII/s14/nd1/gcdp-e.pdf</td>\n",
        "      <td> 1ef8cfcfe968101fa9b4e301847503d4</td>\n",
        "      <td>            archive.ifla.org</td>\n",
        "    </tr>\n",
        "    <tr>\n",
        "      <th>7</th>\n",
        "      <td> c97c571dadaddbbb493126a0d4d01ba3</td>\n",
        "      <td>                                          EdSelect</td>\n",
        "      <td>                          http://www.edselect.com/</td>\n",
        "      <td>  792fd7eb20143386d0c4eb193c6124d</td>\n",
        "      <td>            www.edselect.com</td>\n",
        "    </tr>\n",
        "    <tr>\n",
        "      <th>8</th>\n",
        "      <td> 25bfe8dca0ef263ec9c341b9f16c38b5</td>\n",
        "      <td>                  Cool Canada (Collections Canada)</td>\n",
        "      <td> http://www.collectionscanada.gc.ca/cool/index-...</td>\n",
        "      <td> 6fce4f6391516f0732531d9cfacda5b7</td>\n",
        "      <td> www.collectionscanada.gc.ca</td>\n",
        "    </tr>\n",
        "    <tr>\n",
        "      <th>9</th>\n",
        "      <td> c97284629e17b8e2861afaacd59918bc</td>\n",
        "      <td>                                     Kidsreads.com</td>\n",
        "      <td>                         http://www.kidsreads.com/</td>\n",
        "      <td> 5854ce8404857a45373eea01a3d98000</td>\n",
        "      <td>           www.kidsreads.com</td>\n",
        "    </tr>\n",
        "  </tbody>\n",
        "</table>\n",
        "</div>"
       ],
       "metadata": {},
       "output_type": "pyout",
       "prompt_number": 4,
       "text": [
        "                                 md5  \\\n",
        "id                                     \n",
        "1   ab4954b633ddaf5b5bba6e9b71aa6b70   \n",
        "2   2221e9cd106d269dd34682666f576fa3   \n",
        "7   c97c571dadaddbbb493126a0d4d01ba3   \n",
        "8   25bfe8dca0ef263ec9c341b9f16c38b5   \n",
        "9   c97284629e17b8e2861afaacd59918bc   \n",
        "\n",
        "                                                title  \\\n",
        "id                                                      \n",
        "1   IFLA - The official website of the Internation...   \n",
        "2                 gcdp-e.pdf (application/pdf Object)   \n",
        "7                                            EdSelect   \n",
        "8                    Cool Canada (Collections Canada)   \n",
        "9                                       Kidsreads.com   \n",
        "\n",
        "                                                  url  \\\n",
        "id                                                      \n",
        "1                                http://www.ifla.org/   \n",
        "2      http://archive.ifla.org/VII/s14/nd1/gcdp-e.pdf   \n",
        "7                            http://www.edselect.com/   \n",
        "8   http://www.collectionscanada.gc.ca/cool/index-...   \n",
        "9                           http://www.kidsreads.com/   \n",
        "\n",
        "                        md5Principal                 urlPrincipal  \n",
        "id                                                                 \n",
        "1    7f431306c428457bc4e12b15634484f                 www.ifla.org  \n",
        "2   1ef8cfcfe968101fa9b4e301847503d4             archive.ifla.org  \n",
        "7    792fd7eb20143386d0c4eb193c6124d             www.edselect.com  \n",
        "8   6fce4f6391516f0732531d9cfacda5b7  www.collectionscanada.gc.ca  \n",
        "9   5854ce8404857a45373eea01a3d98000            www.kidsreads.com  "
       ]
      }
     ],
     "prompt_number": 4
    },
    {
     "cell_type": "code",
     "collapsed": false,
     "input": [
      "print 'Bookmark tags:', bookmark_tags.shape[0]\n",
      "bookmark_tags.head()"
     ],
     "language": "python",
     "metadata": {},
     "outputs": [
      {
       "output_type": "stream",
       "stream": "stdout",
       "text": [
        "Bookmark tags: 487131\n"
       ]
      },
      {
       "html": [
        "<div style=\"max-height:1000px;max-width:1500px;overflow:auto;\">\n",
        "<table border=\"1\" class=\"dataframe\">\n",
        "  <thead>\n",
        "    <tr style=\"text-align: right;\">\n",
        "      <th></th>\n",
        "      <th>bookmarkID</th>\n",
        "      <th>tagID</th>\n",
        "      <th>tagWeight</th>\n",
        "    </tr>\n",
        "  </thead>\n",
        "  <tbody>\n",
        "    <tr>\n",
        "      <th>0</th>\n",
        "      <td> 1</td>\n",
        "      <td>   2</td>\n",
        "      <td> 276</td>\n",
        "    </tr>\n",
        "    <tr>\n",
        "      <th>1</th>\n",
        "      <td> 1</td>\n",
        "      <td> 206</td>\n",
        "      <td>  48</td>\n",
        "    </tr>\n",
        "    <tr>\n",
        "      <th>2</th>\n",
        "      <td> 1</td>\n",
        "      <td> 208</td>\n",
        "      <td> 165</td>\n",
        "    </tr>\n",
        "    <tr>\n",
        "      <th>3</th>\n",
        "      <td> 1</td>\n",
        "      <td> 272</td>\n",
        "      <td>  55</td>\n",
        "    </tr>\n",
        "    <tr>\n",
        "      <th>4</th>\n",
        "      <td> 1</td>\n",
        "      <td> 459</td>\n",
        "      <td>  67</td>\n",
        "    </tr>\n",
        "  </tbody>\n",
        "</table>\n",
        "</div>"
       ],
       "metadata": {},
       "output_type": "pyout",
       "prompt_number": 5,
       "text": [
        "   bookmarkID  tagID  tagWeight\n",
        "0           1      2        276\n",
        "1           1    206         48\n",
        "2           1    208        165\n",
        "3           1    272         55\n",
        "4           1    459         67"
       ]
      }
     ],
     "prompt_number": 5
    },
    {
     "cell_type": "code",
     "collapsed": false,
     "input": [
      "print 'Tags:', tag_names.shape[0]\n",
      "tag_names.head()"
     ],
     "language": "python",
     "metadata": {},
     "outputs": [
      {
       "output_type": "stream",
       "stream": "stdout",
       "text": [
        "Tags: 53388\n"
       ]
      },
      {
       "html": [
        "<div style=\"max-height:1000px;max-width:1500px;overflow:auto;\">\n",
        "<table border=\"1\" class=\"dataframe\">\n",
        "  <thead>\n",
        "    <tr style=\"text-align: right;\">\n",
        "      <th></th>\n",
        "      <th>value</th>\n",
        "    </tr>\n",
        "    <tr>\n",
        "      <th>id</th>\n",
        "      <th></th>\n",
        "    </tr>\n",
        "  </thead>\n",
        "  <tbody>\n",
        "    <tr>\n",
        "      <th>1</th>\n",
        "      <td> collection_development</td>\n",
        "    </tr>\n",
        "    <tr>\n",
        "      <th>2</th>\n",
        "      <td>                library</td>\n",
        "    </tr>\n",
        "    <tr>\n",
        "      <th>3</th>\n",
        "      <td>             collection</td>\n",
        "    </tr>\n",
        "    <tr>\n",
        "      <th>4</th>\n",
        "      <td>            development</td>\n",
        "    </tr>\n",
        "    <tr>\n",
        "      <th>5</th>\n",
        "      <td>            lesson_plan</td>\n",
        "    </tr>\n",
        "  </tbody>\n",
        "</table>\n",
        "</div>"
       ],
       "metadata": {},
       "output_type": "pyout",
       "prompt_number": 6,
       "text": [
        "                     value\n",
        "id                        \n",
        "1   collection_development\n",
        "2                  library\n",
        "3               collection\n",
        "4              development\n",
        "5              lesson_plan"
       ]
      }
     ],
     "prompt_number": 6
    },
    {
     "cell_type": "code",
     "collapsed": false,
     "input": [
      "print 'User contacts:', user_contacts.shape[0]\n",
      "user_contacts.head()"
     ],
     "language": "python",
     "metadata": {},
     "outputs": [
      {
       "output_type": "stream",
       "stream": "stdout",
       "text": [
        "User contacts: 15328\n"
       ]
      },
      {
       "html": [
        "<div style=\"max-height:1000px;max-width:1500px;overflow:auto;\">\n",
        "<table border=\"1\" class=\"dataframe\">\n",
        "  <thead>\n",
        "    <tr style=\"text-align: right;\">\n",
        "      <th></th>\n",
        "      <th>userID</th>\n",
        "      <th>contactID</th>\n",
        "      <th>timestamp</th>\n",
        "    </tr>\n",
        "  </thead>\n",
        "  <tbody>\n",
        "    <tr>\n",
        "      <th>0</th>\n",
        "      <td> 8</td>\n",
        "      <td> 28371</td>\n",
        "      <td>2010-10-04 00:14:19</td>\n",
        "    </tr>\n",
        "    <tr>\n",
        "      <th>1</th>\n",
        "      <td> 8</td>\n",
        "      <td> 40306</td>\n",
        "      <td>2010-10-03 10:33:09</td>\n",
        "    </tr>\n",
        "    <tr>\n",
        "      <th>2</th>\n",
        "      <td> 8</td>\n",
        "      <td> 85279</td>\n",
        "      <td>2010-10-02 01:10:48</td>\n",
        "    </tr>\n",
        "    <tr>\n",
        "      <th>3</th>\n",
        "      <td> 8</td>\n",
        "      <td> 91764</td>\n",
        "      <td>2010-10-04 20:43:47</td>\n",
        "    </tr>\n",
        "    <tr>\n",
        "      <th>4</th>\n",
        "      <td> 8</td>\n",
        "      <td> 97723</td>\n",
        "      <td>2010-10-12 01:28:33</td>\n",
        "    </tr>\n",
        "  </tbody>\n",
        "</table>\n",
        "</div>"
       ],
       "metadata": {},
       "output_type": "pyout",
       "prompt_number": 7,
       "text": [
        "   userID  contactID           timestamp\n",
        "0       8      28371 2010-10-04 00:14:19\n",
        "1       8      40306 2010-10-03 10:33:09\n",
        "2       8      85279 2010-10-02 01:10:48\n",
        "3       8      91764 2010-10-04 20:43:47\n",
        "4       8      97723 2010-10-12 01:28:33"
       ]
      }
     ],
     "prompt_number": 7
    },
    {
     "cell_type": "code",
     "collapsed": false,
     "input": [
      "print 'Tagged bookmarks:', user_taggedbookmarks.shape[0]\n",
      "user_taggedbookmarks.head()"
     ],
     "language": "python",
     "metadata": {},
     "outputs": [
      {
       "output_type": "stream",
       "stream": "stdout",
       "text": [
        "Tagged bookmarks: 437593\n"
       ]
      },
      {
       "html": [
        "<div style=\"max-height:1000px;max-width:1500px;overflow:auto;\">\n",
        "<table border=\"1\" class=\"dataframe\">\n",
        "  <thead>\n",
        "    <tr style=\"text-align: right;\">\n",
        "      <th></th>\n",
        "      <th>userID</th>\n",
        "      <th>bookmarkID</th>\n",
        "      <th>tagID</th>\n",
        "      <th>timestamp</th>\n",
        "    </tr>\n",
        "  </thead>\n",
        "  <tbody>\n",
        "    <tr>\n",
        "      <th>0</th>\n",
        "      <td> 8</td>\n",
        "      <td> 1</td>\n",
        "      <td> 1</td>\n",
        "      <td>2010-11-08 22:29:22</td>\n",
        "    </tr>\n",
        "    <tr>\n",
        "      <th>1</th>\n",
        "      <td> 8</td>\n",
        "      <td> 2</td>\n",
        "      <td> 1</td>\n",
        "      <td>2010-11-08 22:25:59</td>\n",
        "    </tr>\n",
        "    <tr>\n",
        "      <th>2</th>\n",
        "      <td> 8</td>\n",
        "      <td> 7</td>\n",
        "      <td> 1</td>\n",
        "      <td>2010-11-08 17:55:01</td>\n",
        "    </tr>\n",
        "    <tr>\n",
        "      <th>3</th>\n",
        "      <td> 8</td>\n",
        "      <td> 7</td>\n",
        "      <td> 6</td>\n",
        "      <td>2010-11-08 17:55:01</td>\n",
        "    </tr>\n",
        "    <tr>\n",
        "      <th>4</th>\n",
        "      <td> 8</td>\n",
        "      <td> 7</td>\n",
        "      <td> 7</td>\n",
        "      <td>2010-11-08 17:55:01</td>\n",
        "    </tr>\n",
        "  </tbody>\n",
        "</table>\n",
        "</div>"
       ],
       "metadata": {},
       "output_type": "pyout",
       "prompt_number": 8,
       "text": [
        "   userID  bookmarkID  tagID           timestamp\n",
        "0       8           1      1 2010-11-08 22:29:22\n",
        "1       8           2      1 2010-11-08 22:25:59\n",
        "2       8           7      1 2010-11-08 17:55:01\n",
        "3       8           7      6 2010-11-08 17:55:01\n",
        "4       8           7      7 2010-11-08 17:55:01"
       ]
      }
     ],
     "prompt_number": 8
    },
    {
     "cell_type": "heading",
     "level": 3,
     "metadata": {},
     "source": [
      "\u041f\u0430\u0440\u044b user\u2013bookmark"
     ]
    },
    {
     "cell_type": "code",
     "collapsed": false,
     "input": [
      "user_bookmarks = user_taggedbookmarks.groupby(['userID', 'bookmarkID'])['timestamp'].min().reset_index()\n",
      "bookmark_counts = user_bookmarks.bookmarkID.value_counts()\n",
      "user_bookmarks['bookmarkOccurrences'] = bookmark_counts[user_bookmarks.bookmarkID].values\n",
      "\n",
      "print 'User-boormark pairs:', user_bookmarks.shape[0]\n",
      "user_bookmarks.head()"
     ],
     "language": "python",
     "metadata": {},
     "outputs": [
      {
       "output_type": "stream",
       "stream": "stdout",
       "text": [
        "User-boormark pairs: 104799\n"
       ]
      },
      {
       "html": [
        "<div style=\"max-height:1000px;max-width:1500px;overflow:auto;\">\n",
        "<table border=\"1\" class=\"dataframe\">\n",
        "  <thead>\n",
        "    <tr style=\"text-align: right;\">\n",
        "      <th></th>\n",
        "      <th>userID</th>\n",
        "      <th>bookmarkID</th>\n",
        "      <th>timestamp</th>\n",
        "      <th>bookmarkOccurrences</th>\n",
        "    </tr>\n",
        "  </thead>\n",
        "  <tbody>\n",
        "    <tr>\n",
        "      <th>0</th>\n",
        "      <td> 8</td>\n",
        "      <td> 1</td>\n",
        "      <td>2010-11-08 22:29:22</td>\n",
        "      <td> 2</td>\n",
        "    </tr>\n",
        "    <tr>\n",
        "      <th>1</th>\n",
        "      <td> 8</td>\n",
        "      <td> 2</td>\n",
        "      <td>2010-11-08 22:25:59</td>\n",
        "      <td> 2</td>\n",
        "    </tr>\n",
        "    <tr>\n",
        "      <th>2</th>\n",
        "      <td> 8</td>\n",
        "      <td> 7</td>\n",
        "      <td>2010-11-08 17:55:01</td>\n",
        "      <td> 2</td>\n",
        "    </tr>\n",
        "    <tr>\n",
        "      <th>3</th>\n",
        "      <td> 8</td>\n",
        "      <td> 8</td>\n",
        "      <td>2010-11-08 17:49:05</td>\n",
        "      <td> 2</td>\n",
        "    </tr>\n",
        "    <tr>\n",
        "      <th>4</th>\n",
        "      <td> 8</td>\n",
        "      <td> 9</td>\n",
        "      <td>2010-11-08 17:37:13</td>\n",
        "      <td> 3</td>\n",
        "    </tr>\n",
        "  </tbody>\n",
        "</table>\n",
        "</div>"
       ],
       "metadata": {},
       "output_type": "pyout",
       "prompt_number": 9,
       "text": [
        "   userID  bookmarkID           timestamp  bookmarkOccurrences\n",
        "0       8           1 2010-11-08 22:29:22                    2\n",
        "1       8           2 2010-11-08 22:25:59                    2\n",
        "2       8           7 2010-11-08 17:55:01                    2\n",
        "3       8           8 2010-11-08 17:49:05                    2\n",
        "4       8           9 2010-11-08 17:37:13                    3"
       ]
      }
     ],
     "prompt_number": 9
    },
    {
     "cell_type": "heading",
     "level": 3,
     "metadata": {},
     "source": [
      "\u041f\u0430\u0440\u044b user\u2013tag"
     ]
    },
    {
     "cell_type": "code",
     "collapsed": false,
     "input": [
      "user_tags = pandas.DataFrame({'count': user_taggedbookmarks.groupby(['userID', 'tagID']).size()}).reset_index()\n",
      "\n",
      "print 'User-tag pairs:', user_tags.shape[0]\n",
      "user_tags.head()"
     ],
     "language": "python",
     "metadata": {},
     "outputs": [
      {
       "output_type": "stream",
       "stream": "stdout",
       "text": [
        "User-tag pairs: 230942\n"
       ]
      },
      {
       "html": [
        "<div style=\"max-height:1000px;max-width:1500px;overflow:auto;\">\n",
        "<table border=\"1\" class=\"dataframe\">\n",
        "  <thead>\n",
        "    <tr style=\"text-align: right;\">\n",
        "      <th></th>\n",
        "      <th>userID</th>\n",
        "      <th>tagID</th>\n",
        "      <th>count</th>\n",
        "    </tr>\n",
        "  </thead>\n",
        "  <tbody>\n",
        "    <tr>\n",
        "      <th>0</th>\n",
        "      <td> 8</td>\n",
        "      <td> 1</td>\n",
        "      <td> 28</td>\n",
        "    </tr>\n",
        "    <tr>\n",
        "      <th>1</th>\n",
        "      <td> 8</td>\n",
        "      <td> 2</td>\n",
        "      <td>  7</td>\n",
        "    </tr>\n",
        "    <tr>\n",
        "      <th>2</th>\n",
        "      <td> 8</td>\n",
        "      <td> 5</td>\n",
        "      <td>  1</td>\n",
        "    </tr>\n",
        "    <tr>\n",
        "      <th>3</th>\n",
        "      <td> 8</td>\n",
        "      <td> 6</td>\n",
        "      <td>  1</td>\n",
        "    </tr>\n",
        "    <tr>\n",
        "      <th>4</th>\n",
        "      <td> 8</td>\n",
        "      <td> 7</td>\n",
        "      <td>  1</td>\n",
        "    </tr>\n",
        "  </tbody>\n",
        "</table>\n",
        "</div>"
       ],
       "metadata": {},
       "output_type": "pyout",
       "prompt_number": 10,
       "text": [
        "   userID  tagID  count\n",
        "0       8      1     28\n",
        "1       8      2      7\n",
        "2       8      5      1\n",
        "3       8      6      1\n",
        "4       8      7      1"
       ]
      }
     ],
     "prompt_number": 10
    },
    {
     "cell_type": "heading",
     "level": 3,
     "metadata": {},
     "source": [
      "\u041a\u043e\u043b\u0438\u0447\u0435\u0441\u0442\u0432\u043e \u0437\u0430\u043a\u043b\u0430\u0434\u043e\u043a \u0443 \u043f\u043e\u043b\u044c\u0437\u043e\u0432\u0430\u0442\u0435\u043b\u0435\u0439"
     ]
    },
    {
     "cell_type": "code",
     "collapsed": false,
     "input": [
      "user_bookmarks_cnt = user_bookmarks.userID.value_counts()\n",
      "for k in [0, 10, 20, 50]:\n",
      "    print 'Users with more than %2d bookmarks: %d' % (k, len(user_bookmarks_cnt[user_bookmarks_cnt > k]))"
     ],
     "language": "python",
     "metadata": {},
     "outputs": [
      {
       "output_type": "stream",
       "stream": "stdout",
       "text": [
        "Users with more than  0 bookmarks: 1867\n",
        "Users with more than 10 bookmarks: 1702\n",
        "Users with more than 20 bookmarks: 1601\n",
        "Users with more than 50 bookmarks: 1260\n"
       ]
      }
     ],
     "prompt_number": 11
    },
    {
     "cell_type": "heading",
     "level": 2,
     "metadata": {},
     "source": [
      "\u0414\u0438\u0437\u0430\u0439\u043d \u044d\u043a\u0441\u043f\u0435\u0440\u0438\u043c\u0435\u043d\u0442\u0430 \u0438 \u043e\u0446\u0435\u043d\u043a\u0430 \u043a\u0430\u0447\u0435\u0441\u0442\u0432\u0430"
     ]
    },
    {
     "cell_type": "markdown",
     "metadata": {},
     "source": [
      "\u041e\u0446\u0435\u043d\u0438\u0432\u0430\u0442\u044c \u043a\u0430\u0447\u0435\u0441\u0442\u0432\u043e \u0440\u0430\u043d\u0436\u0438\u0440\u0443\u044e\u0449\u0435\u0433\u043e \u043f\u0440\u0430\u0432\u0438\u043b\u0430 \u0431\u0443\u0434\u0435\u043c \u0441\u043b\u0435\u0434\u0443\u044e\u0449\u0438\u043c \u043e\u0431\u0440\u0430\u0437\u043e\u043c:\n",
      "\n",
      " * \u0423 \u043a\u0430\u0436\u0434\u043e\u0433\u043e \u043f\u043e\u043b\u044c\u0437\u043e\u0432\u0430\u0442\u0435\u043b\u044f (\u0441 \u0434\u043e\u0441\u0442\u0430\u0442\u043e\u0447\u043d\u044b\u043c \u043a\u043e\u043b\u0438\u0447\u0435\u0441\u0442\u0432\u043e\u043c \u0437\u0430\u043a\u043b\u0430\u0434\u043e\u043a) \u0432\u044b\u0431\u0435\u0440\u0435\u043c 3 \u0441\u043b\u0443\u0447\u0430\u0439\u043d\u044b\u0445 <tt>(TEST_BOOKMARKS_PER_USER)</tt>, \u043d\u0430\u0437\u043e\u0432\u0435\u043c \u044d\u0442\u0438 \u0437\u0430\u043a\u043b\u0430\u0434\u043a\u0438 *\u0440\u0435\u043b\u0435\u0432\u0430\u043d\u0442\u043d\u044b\u043c\u0438*\n",
      " * \u0421\u0433\u0435\u043d\u0435\u0440\u0438\u0440\u0443\u0435\u043c \u0434\u043b\u044f \u043a\u0430\u0436\u0434\u043e\u0433\u043e \u043f\u043e\u043b\u044c\u0437\u043e\u0432\u0430\u0442\u0435\u043b\u044f 97 \u0441\u043b\u0443\u0447\u0430\u0439\u043d\u044b\u0445 \u0437\u0430\u043a\u043b\u0430\u0434\u043e\u043a <tt>(FAKE_BOOKMARKS_PER_USER)</tt>, \u043d\u0435 \u043f\u0435\u0440\u0435\u0441\u0435\u043a\u0430\u044e\u0449\u0438\u0445\u0441\u044f \u0441 \u043f\u043e\u043b\u044c\u0437\u043e\u0432\u0430\u0442\u0435\u043b\u044c\u0441\u043a\u0438\u043c\u0438, \u043d\u0430\u0437\u043e\u0432\u0435\u043c \u0438\u0445 *\u043d\u0435\u0440\u0435\u043b\u0435\u0432\u0430\u043d\u0442\u043d\u044b\u043c\u0438*\n",
      " * \u041e\u0431\u0443\u0447\u0430\u0442\u044c \u0440\u0430\u043d\u0436\u0438\u0440\u0443\u044e\u0449\u0435\u0435 \u043f\u0440\u0430\u0432\u0438\u043b\u043e \u0431\u0443\u0434\u0435\u043c, \u043d\u0435 \u0438\u0441\u043f\u043e\u043b\u044c\u0437\u0443\u044f \u0432\u044b\u0431\u0440\u0430\u043d\u043d\u044b\u0435 \u0440\u0435\u043b\u0435\u0432\u0430\u043d\u0442\u043d\u044b\u0435 \u0437\u0430\u043a\u043b\u0430\u0434\u043a\u0438: \u043e\u043d\u0438 \u0431\u0443\u0434\u0443\u0442 *\u0441\u043a\u0440\u044b\u0442\u044b* \u043e\u0442 \u043e\u0431\u0443\u0447\u0435\u043d\u0438\u044f *(hidden)*\n",
      " * \u0411\u0443\u0434\u0435\u043c \u0440\u0430\u043d\u0436\u0438\u0440\u043e\u0432\u0430\u0442\u044c \u0441\u043c\u0435\u0441\u044c \u0438\u0437 \u0440\u0435\u043b\u0435\u0432\u0430\u043d\u0442\u043d\u044b\u0445 \u0438 \u043d\u0435\u0440\u0435\u043b\u0435\u0432\u0430\u043d\u0442\u043d\u044b\u0445 \u0437\u0430\u043a\u043b\u0430\u0434\u043e\u043a, \u0441\u0447\u0438\u0442\u0430\u0442\u044c \u0441\u0440\u0435\u0434\u043d\u0438\u0439 Recall@k\n",
      " * \u0412 \u043a\u0430\u0447\u0435\u0441\u0442\u0432\u0435 \u043c\u0435\u0442\u0440\u0438\u043a\u0438 \u043a\u0430\u0447\u0435\u0441\u0442\u0432\u0430 \u0432\u043e\u0437\u044c\u043c\u0435\u043c AUC-Recall@k (\u043f\u043b\u043e\u0449\u0430\u0434\u044c \u043f\u043e\u0434 \u043a\u0440\u0438\u0432\u043e\u0439)\n",
      " * \u0420\u0430\u0441\u0441\u043c\u0430\u0442\u0440\u0438\u0432\u0430\u0435\u043c \u0442\u043e\u043b\u044c\u043a\u043e \u0437\u0430\u043a\u043b\u0430\u0434\u043a\u0438, \u043a\u043e\u0442\u043e\u0440\u044b\u0435 \u0432\u0441\u0442\u0440\u0435\u0447\u0430\u044e\u0442\u0441\u044f \u043d\u0435 \u043c\u0435\u043d\u0435\u0435 \u0447\u0435\u043c \u0443 3\u0445 \u043f\u043e\u043b\u044c\u0437\u043e\u0432\u0430\u0442\u0435\u043b\u0435\u0439 <tt>(MIN_BOOKMARK_OCCURRENCES)</tt>, \u043d\u0430\u0437\u043e\u0432\u0435\u043c \u0442\u0430\u043a\u0438\u0435 \u0437\u0430\u043a\u043b\u0430\u0434\u043a\u0438 *\u0445\u043e\u0440\u043e\u0448\u0438\u043c\u0438 (good)*\n",
      " * \u0422\u0435\u0441\u0442\u0438\u0440\u0443\u0435\u043c \u0442\u043e\u043b\u044c\u043a\u043e \u043d\u0430 \u0442\u0435\u0445 \u043f\u043e\u043b\u044c\u0437\u043e\u0432\u0430\u0442\u0435\u043b\u044f\u0445, \u043a\u043e\u0442\u043e\u0440\u044b\u0435 \u0438\u043c\u0435\u044e\u0442 \u0445\u043e\u0442\u044f \u0431\u044b 10 \u0445\u043e\u0440\u043e\u0448\u0438\u0445 \u0437\u0430\u043a\u043b\u0430\u0434\u043e\u043a <tt>(MIN_BOOKMARKS_PER_USER)</tt>\n",
      " \n",
      "\u041e\u0442\u0441\u0435\u0438\u0432\u0430\u043d\u0438\u0435 \u0440\u0435\u0434\u043a\u043e \u0432\u0441\u0442\u0440\u0435\u0447\u0430\u0435\u043c\u044b\u0445 \u0437\u0430\u043a\u043b\u0430\u0434\u043e\u043a \u043d\u0435\u043e\u0431\u0445\u043e\u0434\u0438\u043c\u043e, \u0438\u043d\u0430\u0447\u0435 \u0438\u043d\u0444\u043e\u0440\u043c\u0430\u0446\u0438\u044f \u043e\u0431 \u043e\u0442\u0441\u0443\u0442\u0441\u0442\u0432\u0438\u0438 \u0437\u0430\u043a\u043b\u0430\u0434\u043a\u0438 \u0432 \u043e\u0431\u0443\u0447\u0430\u044e\u0449\u0435\u0439 \u0432\u044b\u0431\u043e\u0440\u043a\u0435 \u0438\u043b\u0438 \u0435\u0435 \u043d\u0438\u0437\u043a\u0430\u044f \u0447\u0430\u0441\u0442\u043e\u0442\u0430 \u0438\u043c\u0435\u0435\u0442 \u0441\u0438\u043b\u044c\u043d\u0443\u044e \u0441\u0442\u043e\u0445\u0430\u0441\u0442\u0438\u0447\u0435\u0441\u043a\u0443\u044e \u0437\u0430\u0432\u0438\u0441\u0438\u043c\u043e\u0441\u0442\u044c \u0441 \u0440\u0435\u043b\u0435\u0432\u0430\u043d\u0442\u043d\u043e\u0441\u0442\u044c\u044e. \u0412 \u043a\u0430\u0447\u0435\u0441\u0442\u0432\u0435 \u0443\u043f\u0440\u0430\u0436\u043d\u0435\u043d\u0438\u044f \u043c\u043e\u0436\u043d\u043e \u043f\u0440\u043e\u0432\u0435\u0440\u0438\u0442\u044c, \u0447\u0442\u043e \u0435\u0441\u043b\u0438 \u043e\u0442\u0441\u0443\u0442\u0441\u0442\u0432\u0443\u0435\u0442 \u043e\u0442\u0441\u0435\u0432 \u0440\u0435\u0434\u043a\u0438\u0445 \u0437\u0430\u043a\u043b\u0430\u0434\u043e\u043a, \u0442\u043e \u043d\u0435\u043f\u0435\u0440\u0441\u043e\u043d\u0430\u043b\u0438\u0437\u043e\u0432\u0430\u043d\u043d\u043e\u0435 \u0440\u0430\u043d\u0436\u0438\u0440\u043e\u0432\u0430\u043d\u0438\u0435 \u043f\u043e \u043f\u043e\u043f\u0443\u043b\u044f\u0440\u043d\u043e\u0441\u0442\u0438 \u0434\u0430\u0435\u0442 \u0434\u043e 0.75 AUC-Recall@k. \n",
      "\n",
      "\u041e\u0433\u0440\u0430\u043d\u0438\u0447\u0435\u043d\u0438\u0435 \u043c\u0438\u043d\u0438\u043c\u0430\u043b\u044c\u043d\u043e\u0433\u043e \u0447\u0438\u0441\u043b\u0430 \u0445\u043e\u0440\u043e\u0448\u0438\u0445 \u0437\u0430\u043a\u043b\u0430\u0434\u043e\u043a \u0434\u043b\u044f \u043f\u043e\u043b\u044c\u0437\u043e\u0432\u0430\u0442\u0435\u043b\u0435\u0439 \u043d\u0435\u043e\u0431\u0445\u043e\u0434\u0438\u043c\u043e \u0434\u043b\u044f \u0442\u043e\u0433\u043e \u0447\u0442\u043e\u0431\u044b \u0432 \u0442\u0435\u0441\u0442\u0435 \u043f\u0440\u0438\u0441\u0443\u0442\u0441\u0442\u0432\u043e\u0432\u0430\u043b\u0438 \u0442\u043e\u043b\u044c\u043a\u043e \u0442\u0435 \u043f\u043e\u043b\u044c\u0437\u043e\u0432\u0430\u0442\u0435\u043b\u0438, \u043a\u043e\u0442\u043e\u0440\u044b\u0435 \u0438\u043c\u0435\u044e\u0442 \u0438\u0441\u0442\u043e\u0440\u0438\u044e. \u041f\u043e\u043b\u044c\u0437\u043e\u0432\u0430\u0442\u0435\u043b\u044c, \u043d\u0435 \u0438\u043c\u0435\u044e\u0449\u0438\u0439 \u0438\u0441\u0442\u043e\u0440\u0438\u0438 \u043d\u0435 \u044f\u0432\u043b\u044f\u0435\u0442\u0441\u044f \u0446\u0435\u043b\u0435\u0432\u044b\u043c \u0434\u043b\u044f \u0440\u0435\u043a\u043e\u043c\u0435\u043d\u0434\u0430\u0442\u0435\u043b\u044c\u043d\u043e\u0439 \u0441\u0438\u0441\u0442\u0435\u043c\u044b, \u043e\u0441\u043d\u043e\u0432\u0430\u043d\u043d\u043e\u0439 \u043d\u0430 \u0442\u0435\u0445\u043d\u0438\u043a\u0435 \u043a\u043e\u043b\u043b\u0430\u0431\u043e\u0440\u0430\u0442\u0438\u0432\u043d\u043e\u0439 \u0444\u0438\u043b\u044c\u0442\u0440\u0430\u0446\u0438\u0438.\n",
      "\n",
      "\u0412\u0441\u0435 \u0447\u0438\u0441\u043b\u043e\u0432\u044b\u0435 \u043f\u0430\u0440\u0430\u043c\u0435\u0442\u0440\u044b \u043d\u0435 \u044f\u0432\u043b\u044f\u044e\u0442\u0441\u044f \u0434\u043e\u0433\u043c\u043e\u0439, \u0438\u0445 \u043c\u043e\u0436\u043d\u043e \u043c\u0435\u043d\u044f\u0442\u044c, \u043f\u043e\u043b\u0443\u0447\u0430\u044f \u0440\u0430\u0437\u043b\u0438\u0447\u043d\u044b\u0435 \u0443\u0441\u043b\u043e\u0432\u0438\u044f \u044d\u043a\u0441\u043f\u0435\u0440\u0438\u043c\u0435\u043d\u0442\u0430 (\u0441\u043f\u0435\u0446\u0438\u0430\u043b\u044c\u043d\u043e \u0434\u043b\u044f \u044d\u0442\u043e\u0433\u043e \u043e\u043d\u0438 \u0432\u044b\u043d\u0435\u0441\u0435\u043d\u044b \u043a\u0430\u043a \u043a\u043e\u043d\u0441\u0442\u0430\u043d\u0442\u044b)."
     ]
    },
    {
     "cell_type": "heading",
     "level": 3,
     "metadata": {},
     "source": [
      "\u0420\u0430\u0437\u0431\u0438\u0435\u043d\u0438\u0435 \u0434\u0430\u043d\u043d\u044b\u0435 \u043d\u0430 train / test"
     ]
    },
    {
     "cell_type": "code",
     "collapsed": false,
     "input": [
      "MIN_BOOKMARK_OCCURRENCES = 3\n",
      "MIN_BOOKMARKS_PER_USER = 10\n",
      "TEST_BOOKMARKS_PER_USER = 3\n",
      "FAKE_BOOKMARKS_PER_USER = 97"
     ],
     "language": "python",
     "metadata": {},
     "outputs": [],
     "prompt_number": 12
    },
    {
     "cell_type": "code",
     "collapsed": false,
     "input": [
      "good_user_bookmarks = user_bookmarks[user_bookmarks.bookmarkOccurrences >= MIN_BOOKMARK_OCCURRENCES]\n",
      "\n",
      "test_userID = []\n",
      "test_bookmarkID = []\n",
      "test_relevant = []\n",
      "\n",
      "import random\n",
      "\n",
      "good_user_bookmarks['hidden'] = pandas.Series(False, index=good_user_bookmarks.index)\n",
      "bookmarks_by_user = good_user_bookmarks.groupby('userID')\n",
      "for userID, group in bookmarks_by_user.groups.iteritems():\n",
      "    if len(group) >= MIN_BOOKMARKS_PER_USER:\n",
      "        test_pairs = random.sample(good_user_bookmarks.ix[group, :].index, TEST_BOOKMARKS_PER_USER)\n",
      "        test_bookmarks = good_user_bookmarks.ix[test_pairs, 'bookmarkID'].values\n",
      "        good_user_bookmarks.ix[test_pairs, 'hidden'] = True\n",
      "        \n",
      "        fake_bookmarks = random.sample(\n",
      "            np.setdiff1d(good_user_bookmarks.ix[:, 'bookmarkID'].values, good_user_bookmarks.ix[group, 'bookmarkID'].values), \n",
      "            FAKE_BOOKMARKS_PER_USER)\n",
      "        \n",
      "        test_userID.extend([userID]*TEST_BOOKMARKS_PER_USER)\n",
      "        test_bookmarkID.extend(test_bookmarks)\n",
      "        test_relevant.extend([True]*TEST_BOOKMARKS_PER_USER)\n",
      "        \n",
      "        test_userID.extend([userID]*FAKE_BOOKMARKS_PER_USER)\n",
      "        test_bookmarkID.extend(fake_bookmarks)\n",
      "        test_relevant.extend([False]*FAKE_BOOKMARKS_PER_USER)\n",
      "        \n",
      "test = pandas.DataFrame({\n",
      "        'userID': array(test_userID, dtype=int),\n",
      "        'bookmarkID': array(test_bookmarkID, dtype=int),\n",
      "        'relevant': array(test_relevant, dtype=bool),\n",
      "    })\n",
      "\n",
      "utb = pandas.merge(good_user_bookmarks.drop('timestamp', axis=1), user_taggedbookmarks, on=['userID', 'bookmarkID'], how='outer')\n",
      "utb['bookmarkOccurrences'] = bookmark_counts[utb.bookmarkID].values\n",
      "utb['hidden'] = utb.hidden.fillna(value=False)\n",
      "\n",
      "train = utb[utb.hidden == False].drop('hidden', axis=1)\n",
      "train['bookmarkID'] = train['bookmarkID'].astype(int)\n",
      "train['bookmarkOccurrences'] = train['bookmarkOccurrences'].astype(int)\n",
      "train['userID'] = train['userID'].astype(int)\n",
      "train_user_bookmarks = train.groupby(['userID', 'bookmarkID'])['timestamp'].min().reset_index()\n",
      "train_bookmark_counts = train_user_bookmarks.bookmarkID.value_counts()\n",
      "train_user_bookmarks['bookmarkOccurrences'] = train_bookmark_counts[train_user_bookmarks.bookmarkID].values"
     ],
     "language": "python",
     "metadata": {},
     "outputs": [],
     "prompt_number": 13
    },
    {
     "cell_type": "heading",
     "level": 3,
     "metadata": {},
     "source": [
      "\u0424\u0443\u043d\u043a\u0446\u0438\u044f \u043e\u0446\u0435\u043d\u043a\u0438 \u043a\u0430\u0447\u0435\u0441\u0442\u0432\u0430"
     ]
    },
    {
     "cell_type": "code",
     "collapsed": false,
     "input": [
      "def estimate_quality(test, ranker, plot_recall=False):\n",
      "    n_relevant = count_nonzero(test.relevant == True)\n",
      "    predictions = ranker(test.drop('relevant', axis=1))\n",
      "    if isinstance(predictions, pandas.Series):\n",
      "        predictions = predictions.values\n",
      "    order = argsort(predictions)[::-1]\n",
      "    recall_at_k = cumsum(test.relevant[order].astype(float) / n_relevant)\n",
      "    if plot_recall:\n",
      "        figure(figsize=(5, 5))\n",
      "        plot([0, 1], [0, 1], 'k--')\n",
      "        plot(linspace(0, 1, len(recall_at_k)), recall_at_k, 'r', linewidth=2.0)\n",
      "        fill(linspace(0, 1, len(recall_at_k)), recall_at_k, 'r', alpha=0.1)\n",
      "        xlim([0, 1])\n",
      "        ylim([0, 1])\n",
      "    return recall_at_k, mean(recall_at_k)"
     ],
     "language": "python",
     "metadata": {},
     "outputs": [],
     "prompt_number": 14
    },
    {
     "cell_type": "heading",
     "level": 3,
     "metadata": {},
     "source": [
      "\u041f\u043e\u0441\u0442\u0430\u043d\u043e\u0432\u043a\u0430 \u0437\u0430\u0434\u0430\u0447\u0438"
     ]
    },
    {
     "cell_type": "markdown",
     "metadata": {},
     "source": [
      "\u0414\u043b\u044f \u043e\u0431\u0443\u0447\u0435\u043d\u0438\u044f \u0438\u043c\u0435\u0435\u043c:\n",
      "\n",
      "  * \u0418\u043d\u0444\u043e\u0440\u043c\u0430\u0446\u0438\u044e \u0432\u0438\u0434\u0430 \"\u043f\u043e\u043b\u044c\u0437\u043e\u0432\u0430\u0442\u0435\u043b\u044c \u043f\u043e\u0441\u0442\u0430\u0432\u0438\u043b \u0437\u0430\u043a\u043b\u0430\u0434\u043a\u0435 \u0442\u0435\u0433\" <tt>(train)</tt>\n",
      "  * \u0421\u0432\u044f\u0437\u0438 \u043c\u0435\u0436\u0434\u0443 \u043f\u043e\u043b\u044c\u0437\u043e\u0432\u0430\u0442\u0435\u043b\u044f\u043c\u0438 <tt>(user_contacts)</tt>\n",
      "  * \u041c\u0435\u0442\u0430\u0438\u043d\u0444\u043e\u0440\u043c\u0430\u0446\u0438\u044f \u043f\u0440\u043e \u0437\u0430\u043a\u043b\u0430\u0434\u043a\u0438 <tt>(bookmarks)</tt>\n",
      "  * \u041c\u0435\u0442\u0430\u0438\u043d\u0444\u043e\u0440\u043c\u0430\u0446\u0438\u044f \u043f\u0440\u043e \u0442\u0435\u0433\u0438 <tt>(tags)</tt>"
     ]
    },
    {
     "cell_type": "code",
     "collapsed": false,
     "input": [
      "train.head()"
     ],
     "language": "python",
     "metadata": {},
     "outputs": [
      {
       "html": [
        "<div style=\"max-height:1000px;max-width:1500px;overflow:auto;\">\n",
        "<table border=\"1\" class=\"dataframe\">\n",
        "  <thead>\n",
        "    <tr style=\"text-align: right;\">\n",
        "      <th></th>\n",
        "      <th>userID</th>\n",
        "      <th>bookmarkID</th>\n",
        "      <th>bookmarkOccurrences</th>\n",
        "      <th>tagID</th>\n",
        "      <th>timestamp</th>\n",
        "    </tr>\n",
        "  </thead>\n",
        "  <tbody>\n",
        "    <tr>\n",
        "      <th>0</th>\n",
        "      <td> 8</td>\n",
        "      <td>  9</td>\n",
        "      <td> 3</td>\n",
        "      <td>  1</td>\n",
        "      <td>2010-11-08 17:37:13</td>\n",
        "    </tr>\n",
        "    <tr>\n",
        "      <th>1</th>\n",
        "      <td> 8</td>\n",
        "      <td>  9</td>\n",
        "      <td> 3</td>\n",
        "      <td> 10</td>\n",
        "      <td>2010-11-08 17:37:13</td>\n",
        "    </tr>\n",
        "    <tr>\n",
        "      <th>2</th>\n",
        "      <td> 8</td>\n",
        "      <td> 19</td>\n",
        "      <td> 5</td>\n",
        "      <td>  1</td>\n",
        "      <td>2010-11-08 15:47:42</td>\n",
        "    </tr>\n",
        "    <tr>\n",
        "      <th>3</th>\n",
        "      <td> 8</td>\n",
        "      <td> 19</td>\n",
        "      <td> 5</td>\n",
        "      <td> 22</td>\n",
        "      <td>2010-11-08 15:47:42</td>\n",
        "    </tr>\n",
        "    <tr>\n",
        "      <th>4</th>\n",
        "      <td> 8</td>\n",
        "      <td> 27</td>\n",
        "      <td> 3</td>\n",
        "      <td>  1</td>\n",
        "      <td>2010-11-08 14:51:33</td>\n",
        "    </tr>\n",
        "  </tbody>\n",
        "</table>\n",
        "</div>"
       ],
       "metadata": {},
       "output_type": "pyout",
       "prompt_number": 15,
       "text": [
        "   userID  bookmarkID  bookmarkOccurrences  tagID           timestamp\n",
        "0       8           9                    3      1 2010-11-08 17:37:13\n",
        "1       8           9                    3     10 2010-11-08 17:37:13\n",
        "2       8          19                    5      1 2010-11-08 15:47:42\n",
        "3       8          19                    5     22 2010-11-08 15:47:42\n",
        "4       8          27                    3      1 2010-11-08 14:51:33"
       ]
      }
     ],
     "prompt_number": 15
    },
    {
     "cell_type": "markdown",
     "metadata": {},
     "source": [
      "\u041d\u0435\u043e\u0431\u0445\u043e\u0434\u0438\u043c\u043e \u043a\u0430\u043a \u043c\u043e\u0436\u043d\u043e \u0432\u044b\u0448\u0435 \u043e\u0442\u0440\u0430\u043d\u0436\u0438\u0440\u043e\u0432\u0430\u0442\u044c \u0440\u0435\u043b\u0435\u0432\u0430\u043d\u0442\u043d\u044b\u0435 \u043f\u0430\u0440\u044b \u043f\u043e\u043b\u044c\u0437\u043e\u0432\u0430\u0442\u0435\u043b\u044c\u2013\u0437\u0430\u043a\u043b\u0430\u0434\u043a\u0430 \u0432 \u0442\u0435\u0441\u0442\u043e\u0432\u043e\u043c \u043d\u0430\u0431\u043e\u0440\u0435 <tt>(test)</tt>."
     ]
    },
    {
     "cell_type": "code",
     "collapsed": false,
     "input": [
      "test.head()"
     ],
     "language": "python",
     "metadata": {},
     "outputs": [
      {
       "html": [
        "<div style=\"max-height:1000px;max-width:1500px;overflow:auto;\">\n",
        "<table border=\"1\" class=\"dataframe\">\n",
        "  <thead>\n",
        "    <tr style=\"text-align: right;\">\n",
        "      <th></th>\n",
        "      <th>bookmarkID</th>\n",
        "      <th>relevant</th>\n",
        "      <th>userID</th>\n",
        "    </tr>\n",
        "  </thead>\n",
        "  <tbody>\n",
        "    <tr>\n",
        "      <th>0</th>\n",
        "      <td>    60</td>\n",
        "      <td>  True</td>\n",
        "      <td> 8</td>\n",
        "    </tr>\n",
        "    <tr>\n",
        "      <th>1</th>\n",
        "      <td>    83</td>\n",
        "      <td>  True</td>\n",
        "      <td> 8</td>\n",
        "    </tr>\n",
        "    <tr>\n",
        "      <th>2</th>\n",
        "      <td>    80</td>\n",
        "      <td>  True</td>\n",
        "      <td> 8</td>\n",
        "    </tr>\n",
        "    <tr>\n",
        "      <th>3</th>\n",
        "      <td> 21683</td>\n",
        "      <td> False</td>\n",
        "      <td> 8</td>\n",
        "    </tr>\n",
        "    <tr>\n",
        "      <th>4</th>\n",
        "      <td>   638</td>\n",
        "      <td> False</td>\n",
        "      <td> 8</td>\n",
        "    </tr>\n",
        "  </tbody>\n",
        "</table>\n",
        "</div>"
       ],
       "metadata": {},
       "output_type": "pyout",
       "prompt_number": 16,
       "text": [
        "   bookmarkID relevant  userID\n",
        "0          60     True       8\n",
        "1          83     True       8\n",
        "2          80     True       8\n",
        "3       21683    False       8\n",
        "4         638    False       8"
       ]
      }
     ],
     "prompt_number": 16
    },
    {
     "cell_type": "markdown",
     "metadata": {},
     "source": [
      "\u0422\u0435\u0441\u0442\u0438\u0440\u043e\u0432\u0430\u043d\u0438\u0435 \u0430\u043b\u0433\u043e\u0440\u0438\u0442\u043c\u0430 \u043c\u043e\u0436\u043d\u043e \u043f\u0440\u043e\u0434\u0435\u043b\u0430\u0442\u044c \u043f\u0440\u0438 \u043f\u043e\u043c\u043e\u0449\u0438 \u0444\u0443\u043d\u043a\u0446\u0438\u0438 <tt>estimate_quality(test, ranker)</tt>."
     ]
    },
    {
     "cell_type": "heading",
     "level": 3,
     "metadata": {},
     "source": [
      "\u041d\u0435\u043a\u043e\u0442\u043e\u0440\u0430\u044f \u0438\u043d\u0444\u043e\u0440\u043c\u0430\u0446\u0438\u044f \u043f\u0440\u043e \u0440\u0430\u0437\u0431\u0438\u0435\u043d\u0438\u0435"
     ]
    },
    {
     "cell_type": "code",
     "collapsed": false,
     "input": [
      "print 'Train, user count:    ', train.userID.value_counts().shape[0]\n",
      "print 'Train, bookmark count:', train.bookmarkID.value_counts().shape[0]\n",
      "print 'Test,  user count:    ', test.userID.value_counts().shape[0]\n",
      "print 'Test,  bookmark count:', test.bookmarkID.value_counts().shape[0]\n",
      "print\n",
      "print 'Users both in train and test:    ', len(np.intersect1d(train.userID.values, test.userID.values))\n",
      "print 'Bookmarks both in train and test:', len(np.intersect1d(train.bookmarkID.values, test.bookmarkID.values))"
     ],
     "language": "python",
     "metadata": {},
     "outputs": [
      {
       "output_type": "stream",
       "stream": "stdout",
       "text": [
        "Train, user count:     1867\n",
        "Train, bookmark count: 69212\n",
        "Test,  user count:     977\n",
        "Test,  bookmark count: "
       ]
      },
      {
       "output_type": "stream",
       "stream": "stdout",
       "text": [
        "5633\n",
        "\n",
        "Users both in train and test:     977\n",
        "Bookmarks both in train and test: 5622\n"
       ]
      }
     ],
     "prompt_number": 17
    },
    {
     "cell_type": "heading",
     "level": 2,
     "metadata": {},
     "source": [
      "\u041f\u0440\u043e\u0441\u0442\u044b\u0435 \u0440\u0435\u043a\u043e\u043c\u0435\u043d\u0434\u0430\u0442\u0435\u043b\u044c\u043d\u044b\u0435 \u043c\u043e\u0434\u0435\u043b\u0438"
     ]
    },
    {
     "cell_type": "code",
     "collapsed": false,
     "input": [
      "results = []"
     ],
     "language": "python",
     "metadata": {},
     "outputs": [],
     "prompt_number": 18
    },
    {
     "cell_type": "heading",
     "level": 3,
     "metadata": {},
     "source": [
      "\u0421\u043b\u0443\u0447\u0430\u0439\u043d\u043e\u0435 \u0440\u0430\u043d\u0436\u0438\u0440\u043e\u0432\u0430\u043d\u0438\u0435"
     ]
    },
    {
     "cell_type": "markdown",
     "metadata": {},
     "source": [
      "\u0417\u0430\u043a\u043b\u0430\u0434\u043a\u0438 \u0440\u0430\u043d\u0436\u0438\u0440\u0443\u044e\u0442\u0441\u044f \u0432 \u0441\u043b\u0443\u0447\u0430\u0439\u043d\u043e\u043c \u043f\u043e\u0440\u044f\u0434\u043a\u0435."
     ]
    },
    {
     "cell_type": "code",
     "collapsed": false,
     "input": [
      "def random_ranker(test):\n",
      "    return np.random.rand(test.shape[0])"
     ],
     "language": "python",
     "metadata": {},
     "outputs": [],
     "prompt_number": 19
    },
    {
     "cell_type": "code",
     "collapsed": false,
     "input": [
      "r, auc = estimate_quality(test, random_ranker, True)\n",
      "results.append({\n",
      "        'name': 'random',\n",
      "        'auc': auc,\n",
      "        'recall_at_k': r,\n",
      "    })\n",
      "print 'Quality of random ranker:', auc"
     ],
     "language": "python",
     "metadata": {},
     "outputs": [
      {
       "output_type": "stream",
       "stream": "stdout",
       "text": [
        "Quality of random ranker: 0.503976383466\n"
       ]
      },
      {
       "metadata": {},
       "output_type": "display_data",
       "png": "[encoded data removed]",
       "text": [
        "<matplotlib.figure.Figure at 0x111caaf10>"
       ]
      }
     ],
     "prompt_number": 20
    },
    {
     "cell_type": "markdown",
     "metadata": {},
     "source": [
      "\u041a\u0440\u0438\u0432\u0430\u044f Recall@k \u0441\u0442\u0440\u0435\u043c\u0438\u0442\u0441\u044f \u043a \u043f\u0440\u044f\u043c\u043e\u0439, \u0435\u0441\u043b\u0438 \u0440\u0430\u043d\u0436\u0438\u0440\u043e\u0432\u0430\u043d\u0438\u0435 \u043d\u0435 \u0437\u0430\u0432\u0438\u0441\u0438\u0442 \u043e\u0442 \u0440\u0435\u043b\u0435\u0432\u0430\u043d\u0442\u043d\u043e\u0441\u0442\u0438. \u0411\u0430\u0437\u043e\u0432\u043e\u0435 \u0437\u043d\u0430\u0447\u0435\u043d\u0438\u0435 AUC \u2014 0.5, \u0435\u0433\u043e \u0431\u0443\u0434\u0435\u043c \u043f\u044b\u0442\u0430\u0442\u044c\u0441\u044f \u0443\u043b\u0443\u0447\u0448\u0438\u0442\u044c."
     ]
    },
    {
     "cell_type": "heading",
     "level": 3,
     "metadata": {},
     "source": [
      "\u0420\u0430\u043d\u0436\u0438\u0440\u043e\u0432\u0430\u043d\u0438\u0435 \u043f\u043e \u043f\u043e\u043f\u0443\u043b\u044f\u0440\u043d\u043e\u0441\u0442\u0438"
     ]
    },
    {
     "cell_type": "markdown",
     "metadata": {},
     "source": [
      "\u041e\u043f\u0440\u0435\u0434\u0435\u043b\u0438\u043c \u043f\u043e \u043e\u0431\u0443\u0447\u0430\u044e\u0449\u0438\u043c \u0434\u0430\u043d\u043d\u044b\u043c \u043f\u043e\u043f\u0443\u043b\u044f\u0440\u043d\u043e\u0441\u0442\u044c \u043a\u0430\u0436\u0434\u043e\u0439 \u0437\u0430\u043a\u043b\u0430\u0434\u043a\u0438, \u0431\u0443\u0434\u0435\u043c \u043f\u0440\u0435\u0434\u043b\u0430\u0433\u0430\u0442\u044c \u043f\u043e\u043b\u044c\u0437\u043e\u0432\u0430\u0442\u0435\u043b\u044e \u0437\u0430\u043a\u043b\u0430\u0434\u043a\u0438 \u0432 \u043f\u043e\u0440\u044f\u0434\u043a\u0435 \u0443\u0431\u044b\u0432\u0430\u043d\u0438\u044f \u0438\u0445 \u043f\u043e\u043f\u0443\u043b\u044f\u0440\u043d\u043e\u0441\u0442\u0438 (\u043d\u0435 \u0437\u0430\u0432\u0438\u0441\u0438\u043c\u043e \u043e\u0442 \u043f\u043e\u043b\u044c\u0437\u043e\u0432\u0430\u0442\u0435\u043b\u044f)."
     ]
    },
    {
     "cell_type": "code",
     "collapsed": false,
     "input": [
      "train_bookmark_counts = train_user_bookmarks.bookmarkID.value_counts()\n",
      "train_bookmark_counts.name = 'occurrences'\n",
      "train_bookmarks = bookmarks.join(train_bookmark_counts)"
     ],
     "language": "python",
     "metadata": {},
     "outputs": [],
     "prompt_number": 21
    },
    {
     "cell_type": "code",
     "collapsed": false,
     "input": [
      "train_bookmarks[['title', 'url', 'occurrences']].dropna().sort('occurrences', ascending=False).head(n=10)"
     ],
     "language": "python",
     "metadata": {},
     "outputs": [
      {
       "html": [
        "<div style=\"max-height:1000px;max-width:1500px;overflow:auto;\">\n",
        "<table border=\"1\" class=\"dataframe\">\n",
        "  <thead>\n",
        "    <tr style=\"text-align: right;\">\n",
        "      <th></th>\n",
        "      <th>title</th>\n",
        "      <th>url</th>\n",
        "      <th>occurrences</th>\n",
        "    </tr>\n",
        "    <tr>\n",
        "      <th>id</th>\n",
        "      <th></th>\n",
        "      <th></th>\n",
        "      <th></th>\n",
        "    </tr>\n",
        "  </thead>\n",
        "  <tbody>\n",
        "    <tr>\n",
        "      <th>5448</th>\n",
        "      <td> HTML5 Boilerplate - A rock-solid default for H...</td>\n",
        "      <td>                      http://html5boilerplate.com/</td>\n",
        "      <td> 25</td>\n",
        "    </tr>\n",
        "    <tr>\n",
        "      <th>1752</th>\n",
        "      <td>    Eric Butler - Software Developer in Seattle WA</td>\n",
        "      <td>                   http://codebutler.com/firesheep</td>\n",
        "      <td> 24</td>\n",
        "    </tr>\n",
        "    <tr>\n",
        "      <th>2720</th>\n",
        "      <td>           Prezi - The zooming presentation editor</td>\n",
        "      <td>                                 http://prezi.com/</td>\n",
        "      <td> 20</td>\n",
        "    </tr>\n",
        "    <tr>\n",
        "      <th>1087</th>\n",
        "      <td>   Draw on any webpage. Share your ideas. - MarkUp</td>\n",
        "      <td>                                 http://markup.io/</td>\n",
        "      <td> 20</td>\n",
        "    </tr>\n",
        "    <tr>\n",
        "      <th>5191</th>\n",
        "      <td>                the creative internet (106 things)</td>\n",
        "      <td> https://docs.google.com/present/view?id=0Abmo0...</td>\n",
        "      <td> 19</td>\n",
        "    </tr>\n",
        "    <tr>\n",
        "      <th>2178</th>\n",
        "      <td>                    Wordle - Beautiful Word Clouds</td>\n",
        "      <td>                            http://www.wordle.net/</td>\n",
        "      <td> 19</td>\n",
        "    </tr>\n",
        "    <tr>\n",
        "      <th>4041</th>\n",
        "      <td>  Ultimate CSS Gradient Generator - ColorZilla.com</td>\n",
        "      <td>        http://www.colorzilla.com/gradient-editor/</td>\n",
        "      <td> 18</td>\n",
        "    </tr>\n",
        "    <tr>\n",
        "      <th>7535</th>\n",
        "      <td>                                   visualizing.org</td>\n",
        "      <td>                       http://www.visualizing.org/</td>\n",
        "      <td> 18</td>\n",
        "    </tr>\n",
        "    <tr>\n",
        "      <th>1303</th>\n",
        "      <td> TNS Digital Life | Internet Statistics &amp;amp; S...</td>\n",
        "      <td>                   http://discoverdigitallife.com/</td>\n",
        "      <td> 18</td>\n",
        "    </tr>\n",
        "    <tr>\n",
        "      <th>4114</th>\n",
        "      <td>                                       Kickstarter</td>\n",
        "      <td>                       http://www.kickstarter.com/</td>\n",
        "      <td> 18</td>\n",
        "    </tr>\n",
        "  </tbody>\n",
        "</table>\n",
        "</div>"
       ],
       "metadata": {},
       "output_type": "pyout",
       "prompt_number": 22,
       "text": [
        "                                                  title  \\\n",
        "id                                                        \n",
        "5448  HTML5 Boilerplate - A rock-solid default for H...   \n",
        "1752     Eric Butler - Software Developer in Seattle WA   \n",
        "2720            Prezi - The zooming presentation editor   \n",
        "1087    Draw on any webpage. Share your ideas. - MarkUp   \n",
        "5191                 the creative internet (106 things)   \n",
        "2178                     Wordle - Beautiful Word Clouds   \n",
        "4041   Ultimate CSS Gradient Generator - ColorZilla.com   \n",
        "7535                                    visualizing.org   \n",
        "1303  TNS Digital Life | Internet Statistics &amp; S...   \n",
        "4114                                        Kickstarter   \n",
        "\n",
        "                                                    url  occurrences  \n",
        "id                                                                    \n",
        "5448                       http://html5boilerplate.com/           25  \n",
        "1752                    http://codebutler.com/firesheep           24  \n",
        "2720                                  http://prezi.com/           20  \n",
        "1087                                  http://markup.io/           20  \n",
        "5191  https://docs.google.com/present/view?id=0Abmo0...           19  \n",
        "2178                             http://www.wordle.net/           19  \n",
        "4041         http://www.colorzilla.com/gradient-editor/           18  \n",
        "7535                        http://www.visualizing.org/           18  \n",
        "1303                    http://discoverdigitallife.com/           18  \n",
        "4114                        http://www.kickstarter.com/           18  "
       ]
      }
     ],
     "prompt_number": 22
    },
    {
     "cell_type": "code",
     "collapsed": false,
     "input": [
      "ks, bookmarks_k = arange(11), zeros(11)\n",
      "for k in ks:\n",
      "    bookmarks_k[k] = bookmark_counts[bookmark_counts > k].shape[0]\n",
      "semilogy(bookmarks_k, '-^')\n",
      "grid(True)\n",
      "xlabel('k')\n",
      "ylabel('Bookmarks occured more than K times')"
     ],
     "language": "python",
     "metadata": {},
     "outputs": [
      {
       "metadata": {},
       "output_type": "pyout",
       "prompt_number": 23,
       "text": [
        "<matplotlib.text.Text at 0x111531450>"
       ]
      },
      {
       "metadata": {},
       "output_type": "display_data",
       "png": "[encoded data removed]",
       "text": [
        "<matplotlib.figure.Figure at 0x111506610>"
       ]
      }
     ],
     "prompt_number": 23
    },
    {
     "cell_type": "code",
     "collapsed": false,
     "input": [
      "def popularity_ranker(test):\n",
      "    return bookmark_counts[test.bookmarkID].fillna(value=+inf)"
     ],
     "language": "python",
     "metadata": {},
     "outputs": [],
     "prompt_number": 24
    },
    {
     "cell_type": "code",
     "collapsed": false,
     "input": [
      "r, auc = estimate_quality(test, popularity_ranker, True)\n",
      "results.append({\n",
      "        'name': 'popularity',\n",
      "        'auc': auc,\n",
      "        'recall_at_k': r,\n",
      "    })\n",
      "print 'Quality of popularity ranker:', auc"
     ],
     "language": "python",
     "metadata": {},
     "outputs": [
      {
       "output_type": "stream",
       "stream": "stdout",
       "text": [
        "Quality of popularity ranker: 0.591899659413\n"
       ]
      },
      {
       "metadata": {},
       "output_type": "display_data",
       "png": "[encoded data removed]",
       "text": [
        "<matplotlib.figure.Figure at 0x11aea3150>"
       ]
      }
     ],
     "prompt_number": 25
    },
    {
     "cell_type": "markdown",
     "metadata": {},
     "source": [
      "\u0420\u0430\u043d\u0436\u0438\u0440\u043e\u0432\u0430\u043d\u0438\u0435 \u043f\u043e \u043f\u043e\u043f\u0443\u043b\u044f\u0440\u043d\u043e\u0441\u0442\u0438 \u0440\u0430\u0431\u043e\u0442\u0430\u0435\u0442 \u043b\u0443\u0447\u0448\u0435 \u0447\u0435\u043c \u0441\u043b\u0443\u0447\u0430\u0439\u043d\u043e\u0435 \u043f\u0435\u0440\u0435\u043c\u0435\u0448\u0438\u0432\u0430\u043d\u0438\u0435."
     ]
    },
    {
     "cell_type": "heading",
     "level": 3,
     "metadata": {},
     "source": [
      "\u0420\u0430\u043d\u0436\u0438\u0440\u043e\u0432\u0430\u043d\u0438\u0435 \u043f\u043e \u0442\u0435\u0433\u0430\u043c"
     ]
    },
    {
     "cell_type": "markdown",
     "metadata": {},
     "source": [
      "\u0412\u044b\u0434\u0435\u043b\u0438\u0442\u044c \u0441\u043f\u0438\u0441\u043e\u043a \u0442\u0435\u0433\u043e\u0432 \u0443 \u043f\u043e\u043b\u044c\u0437\u043e\u0432\u0430\u0442\u0435\u043b\u044f, \u0432\u044b\u0434\u0435\u043b\u0438\u0442\u044c \u0441\u043f\u0438\u0441\u043e\u043a \u0442\u0435\u0433\u043e\u0432 \u0443 \u0437\u0430\u043a\u043b\u0430\u0434\u043a\u0438. \u041e\u0446\u0435\u043d\u043a\u0430 \u2013 \u0432\u0435\u043b\u0438\u0447\u0438\u043d\u0430 \u043f\u0435\u0440\u0435\u0441\u0435\u0447\u0435\u043d\u0438\u044f \u043c\u043d\u043e\u0436\u0435\u0441\u0442\u0432 \u0442\u0435\u0433\u043e\u0432."
     ]
    },
    {
     "cell_type": "code",
     "collapsed": false,
     "input": [
      "def tag_ranker(test):\n",
      "    pass"
     ],
     "language": "python",
     "metadata": {},
     "outputs": [],
     "prompt_number": 26
    },
    {
     "cell_type": "heading",
     "level": 3,
     "metadata": {},
     "source": [
      "\u041a\u043e\u043b\u043b\u0430\u0431\u043e\u0440\u0430\u0442\u0438\u0432\u043d\u0430\u044f \u0444\u0438\u043b\u044c\u0442\u0440\u0430\u0446\u0438\u044f \u043f\u0430\u0440 \u043f\u043e\u043b\u044c\u0437\u043e\u0432\u0430\u0442\u0435\u043b\u044c\u2013\u0437\u0430\u043a\u043b\u0430\u0434\u043a\u0430"
     ]
    },
    {
     "cell_type": "markdown",
     "metadata": {},
     "source": [
      "\u041f\u043e\u0441\u0442\u0430\u0432\u0438\u043c \u043a\u0430\u0436\u0434\u043e\u043c\u0443 "
     ]
    },
    {
     "cell_type": "code",
     "collapsed": false,
     "input": [
      "unique_userIDs = unique(train_user_bookmarks.userID.values)\n",
      "user_index_map = zeros(unique_userIDs.max() + 1, dtype=int)\n",
      "user_index_map[unique_userIDs] = arange(len(unique_userIDs), dtype=int)\n",
      "\n",
      "unique_bookmarkIDs = unique(train_user_bookmarks.bookmarkID.values)\n",
      "bookmark_index_map = zeros(unique_bookmarkIDs.max() + 1, dtype=int)\n",
      "bookmark_index_map[unique_bookmarkIDs] = arange(len(unique_bookmarkIDs), dtype=int)\n",
      "\n",
      "data = (user_index_map[train_user_bookmarks.userID.values], bookmark_index_map[train_user_bookmarks.bookmarkID.values])"
     ],
     "language": "python",
     "metadata": {},
     "outputs": [],
     "prompt_number": 27
    },
    {
     "cell_type": "code",
     "collapsed": false,
     "input": [
      "import simplesvd\n",
      "reload(simplesvd)\n",
      "X, Y = simplesvd.svd_als(data, rank=20, c_default=0.05, p_default=-1, penalty=1e-2, verbose=True, iters=5)"
     ],
     "language": "python",
     "metadata": {},
     "outputs": [
      {
       "output_type": "stream",
       "stream": "stdout",
       "text": [
        "Preparing the data...\n",
        "Starting iterations..."
       ]
      },
      {
       "output_type": "stream",
       "stream": "stdout",
       "text": [
        "\n",
        "Iter 1: J=394097.66 RMSE(R)=1.54203072"
       ]
      },
      {
       "output_type": "stream",
       "stream": "stdout",
       "text": [
        "\n",
        "Iter 2: J=307640.21 RMSE(R)=1.50705353"
       ]
      },
      {
       "output_type": "stream",
       "stream": "stdout",
       "text": [
        "\n",
        "Iter 3: J=304818.28 RMSE(R)=1.49735563"
       ]
      },
      {
       "output_type": "stream",
       "stream": "stdout",
       "text": [
        "\n",
        "Iter 4: J=303169.81 RMSE(R)=1.49120688"
       ]
      },
      {
       "output_type": "stream",
       "stream": "stdout",
       "text": [
        "\n",
        "Iter 5: J=301924.74 RMSE(R)=1.48621419"
       ]
      },
      {
       "output_type": "stream",
       "stream": "stdout",
       "text": [
        "\n"
       ]
      }
     ],
     "prompt_number": 28
    },
    {
     "cell_type": "code",
     "collapsed": false,
     "input": [
      "def svd_ranker(test):\n",
      "    global X, Y\n",
      "    userIdx = user_index_map[test.userID.values]\n",
      "    bookmarkIdx = bookmark_index_map[test.bookmarkID.values]\n",
      "    return (X[userIdx, :] * Y[bookmarkIdx, :]).sum(axis=1).T"
     ],
     "language": "python",
     "metadata": {},
     "outputs": [],
     "prompt_number": 29
    },
    {
     "cell_type": "code",
     "collapsed": false,
     "input": [
      "r, auc = estimate_quality(test, svd_ranker, True)\n",
      "results.append({\n",
      "        'name': 'svd',\n",
      "        'auc': auc,\n",
      "        'recall_at_k': r,\n",
      "    })\n",
      "print 'Quality of SVD-based ranker:', auc"
     ],
     "language": "python",
     "metadata": {},
     "outputs": [
      {
       "output_type": "stream",
       "stream": "stdout",
       "text": [
        "Quality of SVD-based ranker: 0.710194752246\n"
       ]
      },
      {
       "metadata": {},
       "output_type": "display_data",
       "png": "[encoded data removed]",
       "text": [
        "<matplotlib.figure.Figure at 0x110788610>"
       ]
      }
     ],
     "prompt_number": 30
    },
    {
     "cell_type": "heading",
     "level": 2,
     "metadata": {},
     "source": [
      "\u0421\u0440\u0430\u0432\u043d\u0435\u043d\u0438\u0435 \u0440\u0435\u0437\u0443\u043b\u044c\u0442\u0430\u0442\u043e\u0432"
     ]
    },
    {
     "cell_type": "code",
     "collapsed": false,
     "input": [
      "figure(figsize=(7, 7))\n",
      "plot([0, 1], [0, 1], 'k--')\n",
      "names = ['baseline']\n",
      "for res in results:\n",
      "    recall_at_k = res['recall_at_k']\n",
      "    names.append(res['name'])\n",
      "    plot(linspace(0, 1, len(recall_at_k)), recall_at_k, linewidth=2)\n",
      "    print '%10s: %f' % (res['name'], res['auc'])\n",
      "xlim([0, 1])\n",
      "ylim([0, 1])\n",
      "legend(names, 'lower right')"
     ],
     "language": "python",
     "metadata": {},
     "outputs": [
      {
       "output_type": "stream",
       "stream": "stdout",
       "text": [
        "    random: 0.503976\n",
        "popularity: 0.591900\n",
        "       svd: 0.710195\n"
       ]
      },
      {
       "metadata": {},
       "output_type": "pyout",
       "prompt_number": 48,
       "text": [
        "<matplotlib.legend.Legend at 0x116d585d0>"
       ]
      },
      {
       "metadata": {},
       "output_type": "display_data",
       "png": "[encoded data removed]",
       "text": [
        "<matplotlib.figure.Figure at 0x116d5b150>"
       ]
      }
     ],
     "prompt_number": 48
    },
    {
     "cell_type": "heading",
     "level": 2,
     "metadata": {},
     "source": [
      "\u0421\u043e\u0441\u0442\u0430\u0432\u043b\u0435\u043d\u0438\u0435 \u0441\u043f\u0438\u0441\u043a\u043e\u0432 \u0440\u0435\u043a\u043e\u043c\u0435\u043d\u0434\u0430\u0446\u0438\u0439"
     ]
    },
    {
     "cell_type": "markdown",
     "metadata": {},
     "source": [
      "\u0412\u044b\u0431\u0435\u0440\u0435\u043c \u043e\u0431\u0443\u0447\u0435\u043d\u043d\u044b\u0439 SVD-\u0440\u0430\u043d\u043a\u0435\u0440:"
     ]
    },
    {
     "cell_type": "code",
     "collapsed": false,
     "input": [
      "ranker = svd_ranker"
     ],
     "language": "python",
     "metadata": {},
     "outputs": [],
     "prompt_number": 32
    },
    {
     "cell_type": "markdown",
     "metadata": {},
     "source": [
      "\u0411\u0443\u0434\u0435\u043c \u0434\u043b\u044f \u043a\u0430\u0436\u0434\u043e\u0433\u043e \u043f\u043e\u043b\u044c\u0437\u043e\u0432\u0430\u0442\u0435\u043b\u044f \u043f\u0440\u0435\u0434\u0441\u043a\u0430\u0437\u044b\u0432\u0430\u0442\u044c \u043f\u0440\u0435\u0434\u043f\u043e\u0447\u0442\u0435\u043d\u0438\u0435 \u043a\u043e \u0432\u0441\u0435\u043c \u0437\u0430\u043a\u043b\u0430\u0434\u043a\u0430\u043c. \u042d\u0442\u043e \u043c\u043e\u0436\u0435\u0442 \u0437\u0430\u043d\u044f\u0442\u044c \u0434\u043b\u0438\u0442\u0435\u043b\u044c\u043d\u043e\u0435 \u0432\u0440\u0435\u043c\u044f. \u0414\u043b\u044f \u0443\u0441\u043a\u043e\u0440\u0435\u043d\u0438\u044f \u043c\u043e\u0436\u043d\u043e \u043f\u0440\u043e\u0438\u0437\u0432\u043e\u0434\u0438\u0442\u044c \u043e\u0442\u0441\u0435\u0432 \u0437\u0430\u043a\u043b\u0430\u0434\u043e\u043a-\u043a\u0430\u043d\u0434\u0438\u0434\u0430\u0442\u043e\u0432 <tt>(candidates)</tt> \u043f\u0440\u0438 \u043f\u043e\u043c\u043e\u0449\u0438 \u043f\u0440\u043e\u0441\u0442\u043e\u0439 \u0431\u044b\u0441\u0442\u0440\u043e \u0440\u0430\u0431\u043e\u0442\u0430\u044e\u0449\u0435\u0439 \u043c\u043e\u0434\u0435\u043b\u0438 \u0438\u043b\u0438 \u044d\u0432\u0440\u0438\u0441\u0442\u0438\u0447\u0435\u0441\u043a\u043e\u0433\u043e \u043f\u0440\u0430\u0432\u0438\u043b\u0430."
     ]
    },
    {
     "cell_type": "code",
     "collapsed": false,
     "input": [
      "N_RECOMMEND = 5\n",
      "\n",
      "recommendations = {}\n",
      "bookmarks_by_user = user_bookmarks.groupby('userID')\n",
      "users_processed = 0\n",
      "for userID, group in bookmarks_by_user.groups.iteritems():\n",
      "    candidate_bookmarkIDs = setdiff1d(array(bookmarks.index), user_bookmarks.ix[group, 'bookmarkID'].values)\n",
      "    candidates = pandas.DataFrame({\n",
      "        'userID': userID,\n",
      "        'bookmarkID': candidate_bookmarkIDs,\n",
      "    })\n",
      "    preferences = ranker(candidates)\n",
      "    recommendations[userID] = candidates.ix[argsort(preferences)[::-1][:N_RECOMMEND], 'bookmarkID'].values\n",
      "    \n",
      "    users_processed += 1\n",
      "    if users_processed % 100 == 0: \n",
      "        print 'Users processed:', users_processed\n",
      "    "
     ],
     "language": "python",
     "metadata": {},
     "outputs": [
      {
       "output_type": "stream",
       "stream": "stdout",
       "text": [
        "Users processed: 100\n",
        "Users processed:"
       ]
      },
      {
       "output_type": "stream",
       "stream": "stdout",
       "text": [
        " 200\n",
        "Users processed:"
       ]
      },
      {
       "output_type": "stream",
       "stream": "stdout",
       "text": [
        " 300\n",
        "Users processed:"
       ]
      },
      {
       "output_type": "stream",
       "stream": "stdout",
       "text": [
        " 400\n",
        "Users processed:"
       ]
      },
      {
       "output_type": "stream",
       "stream": "stdout",
       "text": [
        " 500\n",
        "Users processed:"
       ]
      },
      {
       "output_type": "stream",
       "stream": "stdout",
       "text": [
        " 600\n",
        "Users processed:"
       ]
      },
      {
       "output_type": "stream",
       "stream": "stdout",
       "text": [
        " 700\n",
        "Users processed:"
       ]
      },
      {
       "output_type": "stream",
       "stream": "stdout",
       "text": [
        " 800\n",
        "Users processed:"
       ]
      },
      {
       "output_type": "stream",
       "stream": "stdout",
       "text": [
        " 900\n",
        "Users processed:"
       ]
      },
      {
       "output_type": "stream",
       "stream": "stdout",
       "text": [
        " 1000\n",
        "Users processed:"
       ]
      },
      {
       "output_type": "stream",
       "stream": "stdout",
       "text": [
        " 1100\n",
        "Users processed:"
       ]
      },
      {
       "output_type": "stream",
       "stream": "stdout",
       "text": [
        " 1200\n",
        "Users processed:"
       ]
      },
      {
       "output_type": "stream",
       "stream": "stdout",
       "text": [
        " 1300\n",
        "Users processed:"
       ]
      },
      {
       "output_type": "stream",
       "stream": "stdout",
       "text": [
        " 1400\n",
        "Users processed:"
       ]
      },
      {
       "output_type": "stream",
       "stream": "stdout",
       "text": [
        " 1500\n",
        "Users processed:"
       ]
      },
      {
       "output_type": "stream",
       "stream": "stdout",
       "text": [
        " 1600\n",
        "Users processed:"
       ]
      },
      {
       "output_type": "stream",
       "stream": "stdout",
       "text": [
        " 1700\n",
        "Users processed:"
       ]
      },
      {
       "output_type": "stream",
       "stream": "stdout",
       "text": [
        " 1800\n"
       ]
      }
     ],
     "prompt_number": 33
    },
    {
     "cell_type": "heading",
     "level": 3,
     "metadata": {},
     "source": [
      "\u0412\u044b\u0432\u043e\u0434 \u0432 \u0444\u0430\u0439\u043b"
     ]
    },
    {
     "cell_type": "code",
     "collapsed": false,
     "input": [
      "with open('recommendations.txt', 'w') as f:\n",
      "    for userID, bookmarkIDs in recommendations.iteritems():\n",
      "        f.write(str(userID) + '\\t' + ','.join(map(str, bookmarkIDs)) + '\\n')"
     ],
     "language": "python",
     "metadata": {},
     "outputs": [],
     "prompt_number": 34
    },
    {
     "cell_type": "code",
     "collapsed": false,
     "input": [
      "!head recommendations.txt"
     ],
     "language": "python",
     "metadata": {},
     "outputs": [
      {
       "output_type": "stream",
       "stream": "stdout",
       "text": [
        "90113\t4264,5328,8765,3827,156\r\n",
        "49159\t28843,10000,1922,21321,8613\r\n",
        "8\t1631,10742,14121,29097,28843\r\n",
        "16394\t1293,4806,17928,25488,3576\r\n",
        "106507\t1752,8223,1712,1973,4493\r\n",
        "57359\t5448,1087,1752,49957,20624\r\n",
        "8216\t5845,17016,5855,3112,16996\r\n",
        "65563\t5448,4264,19249,4795,8936\r\n",
        "32\t59,20624,10742,35,2178\r\n",
        "90145\t4264,11918,2178,5177,6290\r\n"
       ]
      }
     ],
     "prompt_number": 35
    },
    {
     "cell_type": "heading",
     "level": 3,
     "metadata": {},
     "source": [
      "\u041f\u043e\u0441\u043c\u043e\u0442\u0440\u0435\u0442\u044c \u043d\u0430 \u0440\u0435\u043a\u043e\u043c\u0435\u043d\u0434\u0430\u0446\u0438\u0438"
     ]
    },
    {
     "cell_type": "code",
     "collapsed": false,
     "input": [
      "userID = 8\n",
      "\n",
      "user_bg = user_taggedbookmarks[user_taggedbookmarks.userID == userID]"
     ],
     "language": "python",
     "metadata": {},
     "outputs": [],
     "prompt_number": 36
    },
    {
     "cell_type": "markdown",
     "metadata": {},
     "source": [
      "\u0422\u0435\u0433\u0438, \u0438\u0441\u043f\u043e\u043b\u044c\u0437\u0443\u0435\u043c\u044b\u0435 \u043f\u043e\u043b\u044c\u0437\u043e\u0432\u0430\u0442\u0435\u043b\u0435\u043c:"
     ]
    },
    {
     "cell_type": "code",
     "collapsed": false,
     "input": [
      "tag_cnt = user_bg.tagID.value_counts()\n",
      "tags = pandas.DataFrame({'tag': tag_names.ix[tag_cnt.index, 'value'], 'count': tag_cnt.values})\n",
      "tags.head(n=10)"
     ],
     "language": "python",
     "metadata": {},
     "outputs": [
      {
       "html": [
        "<div style=\"max-height:1000px;max-width:1500px;overflow:auto;\">\n",
        "<table border=\"1\" class=\"dataframe\">\n",
        "  <thead>\n",
        "    <tr style=\"text-align: right;\">\n",
        "      <th></th>\n",
        "      <th>count</th>\n",
        "      <th>tag</th>\n",
        "    </tr>\n",
        "  </thead>\n",
        "  <tbody>\n",
        "    <tr>\n",
        "      <th>1 </th>\n",
        "      <td> 28</td>\n",
        "      <td> collection_development</td>\n",
        "    </tr>\n",
        "    <tr>\n",
        "      <th>45</th>\n",
        "      <td>  8</td>\n",
        "      <td>        media_awareness</td>\n",
        "    </tr>\n",
        "    <tr>\n",
        "      <th>2 </th>\n",
        "      <td>  7</td>\n",
        "      <td>                library</td>\n",
        "    </tr>\n",
        "    <tr>\n",
        "      <th>24</th>\n",
        "      <td>  6</td>\n",
        "      <td>              librarian</td>\n",
        "    </tr>\n",
        "    <tr>\n",
        "      <th>76</th>\n",
        "      <td>  4</td>\n",
        "      <td>        internet_safety</td>\n",
        "    </tr>\n",
        "    <tr>\n",
        "      <th>82</th>\n",
        "      <td>  4</td>\n",
        "      <td>               students</td>\n",
        "    </tr>\n",
        "    <tr>\n",
        "      <th>25</th>\n",
        "      <td>  4</td>\n",
        "      <td>               literacy</td>\n",
        "    </tr>\n",
        "    <tr>\n",
        "      <th>66</th>\n",
        "      <td>  3</td>\n",
        "      <td>               learning</td>\n",
        "    </tr>\n",
        "    <tr>\n",
        "      <th>56</th>\n",
        "      <td>  2</td>\n",
        "      <td>                 web_20</td>\n",
        "    </tr>\n",
        "    <tr>\n",
        "      <th>44</th>\n",
        "      <td>  2</td>\n",
        "      <td>    librarianship_part1</td>\n",
        "    </tr>\n",
        "  </tbody>\n",
        "</table>\n",
        "</div>"
       ],
       "metadata": {},
       "output_type": "pyout",
       "prompt_number": 37,
       "text": [
        "    count                     tag\n",
        "1      28  collection_development\n",
        "45      8         media_awareness\n",
        "2       7                 library\n",
        "24      6               librarian\n",
        "76      4         internet_safety\n",
        "82      4                students\n",
        "25      4                literacy\n",
        "66      3                learning\n",
        "56      2                  web_20\n",
        "44      2     librarianship_part1"
       ]
      }
     ],
     "prompt_number": 37
    },
    {
     "cell_type": "markdown",
     "metadata": {},
     "source": [
      "\u041d\u0430\u0438\u0431\u043e\u043b\u0435\u0435 \u043f\u043e\u043f\u0443\u043b\u044f\u0440\u043d\u044b\u0435 \u0437\u0430\u043a\u043b\u0430\u0434\u043a\u0438 \u043f\u043e\u043b\u044c\u0437\u043e\u0432\u0430\u0442\u0435\u043b\u044f:"
     ]
    },
    {
     "cell_type": "code",
     "collapsed": false,
     "input": [
      "print 'Bookmarks:'\n",
      "frame = {'title': [], 'domain': [], 'tags': [], 'occurrences': []}\n",
      "for bookmarkID, group in user_bg.groupby('bookmarkID').groups.iteritems():\n",
      "    title = bookmarks.ix[bookmarkID, 'title']\n",
      "    domain = bookmarks.ix[bookmarkID, 'urlPrincipal']\n",
      "    tagIDs = user_bg.ix[group, 'tagID'].values\n",
      "    tags = map(lambda tagID: tag_names.ix[tagID, 'value'], tagIDs)\n",
      "    frame['title'].append(title)\n",
      "    frame['domain'].append(domain)\n",
      "    frame['tags'].append(', '.join(tags))\n",
      "    frame['occurrences'].append(bookmark_counts[bookmarkID])\n",
      "    \n",
      "pandas.DataFrame(frame).sort('occurrences', ascending=False).head(n=10)"
     ],
     "language": "python",
     "metadata": {},
     "outputs": [
      {
       "output_type": "stream",
       "stream": "stdout",
       "text": [
        "Bookmarks:\n"
       ]
      },
      {
       "html": [
        "<div style=\"max-height:1000px;max-width:1500px;overflow:auto;\">\n",
        "<table border=\"1\" class=\"dataframe\">\n",
        "  <thead>\n",
        "    <tr style=\"text-align: right;\">\n",
        "      <th></th>\n",
        "      <th>domain</th>\n",
        "      <th>occurrences</th>\n",
        "      <th>tags</th>\n",
        "      <th>title</th>\n",
        "    </tr>\n",
        "  </thead>\n",
        "  <tbody>\n",
        "    <tr>\n",
        "      <th>23</th>\n",
        "      <td>           edublogs.org</td>\n",
        "      <td> 16</td>\n",
        "      <td>           collection_development, education_blogs</td>\n",
        "      <td>              Edublogs - teacher and student blogs</td>\n",
        "    </tr>\n",
        "    <tr>\n",
        "      <th>37</th>\n",
        "      <td>    www.classroom20.com</td>\n",
        "      <td> 13</td>\n",
        "      <td>                                            web_20</td>\n",
        "      <td>                                     Classroom 2.0</td>\n",
        "    </tr>\n",
        "    <tr>\n",
        "      <th>31</th>\n",
        "      <td>  www.canlitforkids.com</td>\n",
        "      <td> 11</td>\n",
        "      <td>                        canada_literature_for_kids</td>\n",
        "      <td>                        Welcome to CanLit for Kids</td>\n",
        "    </tr>\n",
        "    <tr>\n",
        "      <th>44</th>\n",
        "      <td>      www.netsmartz.org</td>\n",
        "      <td>  9</td>\n",
        "      <td> media_awareness, internet_safety, how_to_be_ne...</td>\n",
        "      <td>                                     NetSmartz.org</td>\n",
        "    </tr>\n",
        "    <tr>\n",
        "      <th>28</th>\n",
        "      <td>  www.allthingsplc.info</td>\n",
        "      <td>  7</td>\n",
        "      <td>                 professional_learning_communities</td>\n",
        "      <td> AllThingsPLC \u2014 Research, education tools and b...</td>\n",
        "    </tr>\n",
        "    <tr>\n",
        "      <th>39</th>\n",
        "      <td>      www.schoolinfo.ca</td>\n",
        "      <td>  5</td>\n",
        "      <td>                collection_development, technology</td>\n",
        "      <td> connection education with how young people use...</td>\n",
        "    </tr>\n",
        "    <tr>\n",
        "      <th>66</th>\n",
        "      <td>            www.ala.org</td>\n",
        "      <td>  5</td>\n",
        "      <td>                                           library</td>\n",
        "      <td> ALA | AASL Best Web sites for Teaching and Lea...</td>\n",
        "    </tr>\n",
        "    <tr>\n",
        "      <th>12</th>\n",
        "      <td>            www.ixl.com</td>\n",
        "      <td>  5</td>\n",
        "      <td>                      collection_development, math</td>\n",
        "      <td>                                          IXL Math</td>\n",
        "    </tr>\n",
        "    <tr>\n",
        "      <th>48</th>\n",
        "      <td>      www.readprint.com</td>\n",
        "      <td>  4</td>\n",
        "      <td>            librarian, e-books, students, teachers</td>\n",
        "      <td>   Online Books, Poems, Short Stories - Read Print</td>\n",
        "    </tr>\n",
        "    <tr>\n",
        "      <th>49</th>\n",
        "      <td> www.media-awareness.ca</td>\n",
        "      <td>  4</td>\n",
        "      <td> media_awareness, internet_safety, games_that_e...</td>\n",
        "      <td>                 Jo Fool or Jo Cool | For Teachers</td>\n",
        "    </tr>\n",
        "  </tbody>\n",
        "</table>\n",
        "</div>"
       ],
       "metadata": {},
       "output_type": "pyout",
       "prompt_number": 38,
       "text": [
        "                    domain  occurrences  \\\n",
        "23            edublogs.org           16   \n",
        "37     www.classroom20.com           13   \n",
        "31   www.canlitforkids.com           11   \n",
        "44       www.netsmartz.org            9   \n",
        "28   www.allthingsplc.info            7   \n",
        "39       www.schoolinfo.ca            5   \n",
        "66             www.ala.org            5   \n",
        "12             www.ixl.com            5   \n",
        "48       www.readprint.com            4   \n",
        "49  www.media-awareness.ca            4   \n",
        "\n",
        "                                                 tags  \\\n",
        "23            collection_development, education_blogs   \n",
        "37                                             web_20   \n",
        "31                         canada_literature_for_kids   \n",
        "44  media_awareness, internet_safety, how_to_be_ne...   \n",
        "28                  professional_learning_communities   \n",
        "39                 collection_development, technology   \n",
        "66                                            library   \n",
        "12                       collection_development, math   \n",
        "48             librarian, e-books, students, teachers   \n",
        "49  media_awareness, internet_safety, games_that_e...   \n",
        "\n",
        "                                                title  \n",
        "23               Edublogs - teacher and student blogs  \n",
        "37                                      Classroom 2.0  \n",
        "31                         Welcome to CanLit for Kids  \n",
        "44                                      NetSmartz.org  \n",
        "28  AllThingsPLC \u2014 Research, education tools and b...  \n",
        "39  connection education with how young people use...  \n",
        "66  ALA | AASL Best Web sites for Teaching and Lea...  \n",
        "12                                           IXL Math  \n",
        "48    Online Books, Poems, Short Stories - Read Print  \n",
        "49                  Jo Fool or Jo Cool | For Teachers  "
       ]
      }
     ],
     "prompt_number": 38
    },
    {
     "cell_type": "markdown",
     "metadata": {},
     "source": [
      "\u0421\u0433\u0435\u043d\u0435\u0440\u0438\u0440\u043e\u0432\u0430\u043d\u043d\u044b\u0435 \u0440\u0435\u043a\u043e\u043c\u0435\u043d\u0434\u0430\u0446\u0438\u0438:"
     ]
    },
    {
     "cell_type": "code",
     "collapsed": false,
     "input": [
      "bookmarks.ix[recommendations[userID], ['title', 'urlPrincipal']].head()"
     ],
     "language": "python",
     "metadata": {},
     "outputs": [
      {
       "html": [
        "<div style=\"max-height:1000px;max-width:1500px;overflow:auto;\">\n",
        "<table border=\"1\" class=\"dataframe\">\n",
        "  <thead>\n",
        "    <tr style=\"text-align: right;\">\n",
        "      <th></th>\n",
        "      <th>title</th>\n",
        "      <th>urlPrincipal</th>\n",
        "    </tr>\n",
        "  </thead>\n",
        "  <tbody>\n",
        "    <tr>\n",
        "      <th>1631 </th>\n",
        "      <td>                   animoto - the end of slideshows</td>\n",
        "      <td>          animoto.com</td>\n",
        "    </tr>\n",
        "    <tr>\n",
        "      <th>10742</th>\n",
        "      <td>                   Tagxedo - Tag Cloud with Styles</td>\n",
        "      <td>      www.tagxedo.com</td>\n",
        "    </tr>\n",
        "    <tr>\n",
        "      <th>14121</th>\n",
        "      <td> TeacherTube - Teach the World | Teacher Videos...</td>\n",
        "      <td>  www.teachertube.com</td>\n",
        "    </tr>\n",
        "    <tr>\n",
        "      <th>29097</th>\n",
        "      <td> Information Literacy Resources | November Lear...</td>\n",
        "      <td> novemberlearning.com</td>\n",
        "    </tr>\n",
        "    <tr>\n",
        "      <th>28843</th>\n",
        "      <td>            Storybird - Collaborative storytelling</td>\n",
        "      <td>        storybird.com</td>\n",
        "    </tr>\n",
        "  </tbody>\n",
        "</table>\n",
        "</div>"
       ],
       "metadata": {},
       "output_type": "pyout",
       "prompt_number": 39,
       "text": [
        "                                                   title          urlPrincipal\n",
        "1631                     animoto - the end of slideshows           animoto.com\n",
        "10742                    Tagxedo - Tag Cloud with Styles       www.tagxedo.com\n",
        "14121  TeacherTube - Teach the World | Teacher Videos...   www.teachertube.com\n",
        "29097  Information Literacy Resources | November Lear...  novemberlearning.com\n",
        "28843             Storybird - Collaborative storytelling         storybird.com"
       ]
      }
     ],
     "prompt_number": 39
    }
   ],
   "metadata": {}
  }
 ]
}