{
 "metadata": {
  "name": ""
 },
 "nbformat": 3,
 "nbformat_minor": 0,
 "worksheets": [
  {
   "cells": [
    {
     "cell_type": "heading",
     "level": 1,
     "metadata": {},
     "source": [
      "\u0420\u0435\u043a\u043e\u043c\u0435\u043d\u0434\u0430\u0446\u0438\u0438 \u0434\u043b\u044f \u0441\u0435\u0440\u0432\u0438\u0441\u0430 MovieLens"
     ]
    },
    {
     "cell_type": "markdown",
     "metadata": {},
     "source": [
      "\u0412\u0435\u0431-\u0441\u0435\u0440\u0432\u0438\u0441 [MovieLens](http://movielens.umn.edu) \u043f\u0440\u0435\u0434\u043e\u0441\u0442\u0430\u0432\u043b\u044f\u0435\u0442 \u043f\u0435\u0440\u0441\u043e\u043d\u0430\u043b\u0438\u0437\u043e\u0432\u0430\u043d\u043d\u044b\u0435 \u0440\u0435\u043a\u043e\u043c\u0435\u043d\u0434\u0430\u0446\u0438\u0438 \u0444\u0438\u043b\u044c\u043c\u043e\u0432.<br/>\n",
      "[\u041d\u0430\u0431\u043e\u0440\u044b \u0434\u0430\u043d\u043d\u044b\u0445](http://grouplens.org/datasets/movielens/)\n",
      "\n",
      "\u0411\u0443\u0434\u0435\u043c \u0438\u0441\u043f\u043e\u043b\u044c\u0437\u043e\u0432\u0430\u0442\u044c \u0431\u0438\u0431\u043b\u0438\u043e\u0442\u0435\u043a\u0443 [<tt>python-recsys</tt>](http://ocelma.net/software/python-recsys/build/html/index.html)\n",
      "\n",
      "---"
     ]
    },
    {
     "cell_type": "code",
     "collapsed": false,
     "input": [
      "%pylab inline"
     ],
     "language": "python",
     "metadata": {},
     "outputs": [
      {
       "output_type": "stream",
       "stream": "stdout",
       "text": [
        "Populating the interactive namespace from numpy and matplotlib\n"
       ]
      }
     ],
     "prompt_number": 92
    },
    {
     "cell_type": "heading",
     "level": 2,
     "metadata": {},
     "source": [
      "\u0427\u0442\u0435\u043d\u0438\u0435 \u0434\u0430\u043d\u043d\u044b\u0445"
     ]
    },
    {
     "cell_type": "code",
     "collapsed": false,
     "input": [
      "import pandas\n",
      "import re"
     ],
     "language": "python",
     "metadata": {},
     "outputs": [],
     "prompt_number": 1
    },
    {
     "cell_type": "heading",
     "level": 3,
     "metadata": {},
     "source": [
      "\u041a\u043e\u043b\u043b\u0435\u043a\u0446\u0438\u044f \u0444\u0438\u043b\u044c\u043c\u043e\u0432"
     ]
    },
    {
     "cell_type": "markdown",
     "metadata": {},
     "source": [
      "\u0421\u0447\u0438\u0442\u044b\u0432\u0430\u0435\u043c \u0432\u0441\u0435 \u0434\u0430\u043d\u043d\u044b\u0435 \u043e \u0444\u0438\u043b\u044c\u043c\u0430\u0445, \u0438\u0437\u0432\u043b\u0435\u043a\u0430\u0435\u043c \u0433\u043e\u0434, \u0441\u043e\u0441\u0442\u0430\u0432\u043b\u044f\u0435\u043c \u0441\u043f\u0438\u0441\u043e\u043a \u0436\u0430\u043d\u0440\u043e\u0432."
     ]
    },
    {
     "cell_type": "code",
     "collapsed": false,
     "input": [
      "movies = pandas.read_csv('data/ml-1m/movies.dat', sep='::', header=None, names=['id', 'Name', 'Genres'], index_col='id')\n",
      "print 'Movies:', movies.shape[0]"
     ],
     "language": "python",
     "metadata": {},
     "outputs": [
      {
       "output_type": "stream",
       "stream": "stdout",
       "text": [
        "Movies: 3883\n"
       ]
      }
     ],
     "prompt_number": 2
    },
    {
     "cell_type": "code",
     "collapsed": false,
     "input": [
      "movies['Year'] = movies['Name'].map(lambda name: re.search('(\\d+)', name).group(0))"
     ],
     "language": "python",
     "metadata": {},
     "outputs": [],
     "prompt_number": 3
    },
    {
     "cell_type": "code",
     "collapsed": false,
     "input": [
      "genre_names = unique(reduce(lambda x, y: x+'|'+y, movies['Genres'].values).split('|'))\n",
      "genre_ids = arange(len(genre_names))\n",
      "genre_map = {genre: index for index, genre in enumerate(genre_names)}\n",
      "movies['GenreIds'] = movies['Genres'].map(lambda genre_str: array(map(lambda genre_name: genre_map[genre_name], genre_str.split('|'))))\n",
      "genres = {'Name': genre_names, \n",
      "          'Count': [movies['GenreIds'].map(lambda movie_genres: genre_id in movie_genres).sum() for genre_id in genre_ids]}\n",
      "genres = pandas.DataFrame(genres, index=pandas.Index(arange(len(genre_names)), name='id'))"
     ],
     "language": "python",
     "metadata": {},
     "outputs": [],
     "prompt_number": 4
    },
    {
     "cell_type": "code",
     "collapsed": false,
     "input": [
      "movies.head()"
     ],
     "language": "python",
     "metadata": {},
     "outputs": [
      {
       "html": [
        "<div style=\"max-height:1000px;max-width:1500px;overflow:auto;\">\n",
        "<table border=\"1\" class=\"dataframe\">\n",
        "  <thead>\n",
        "    <tr style=\"text-align: right;\">\n",
        "      <th></th>\n",
        "      <th>Name</th>\n",
        "      <th>Genres</th>\n",
        "      <th>Year</th>\n",
        "      <th>GenreIds</th>\n",
        "    </tr>\n",
        "    <tr>\n",
        "      <th>id</th>\n",
        "      <th></th>\n",
        "      <th></th>\n",
        "      <th></th>\n",
        "      <th></th>\n",
        "    </tr>\n",
        "  </thead>\n",
        "  <tbody>\n",
        "    <tr>\n",
        "      <th>1</th>\n",
        "      <td>                   Toy Story (1995)</td>\n",
        "      <td>  Animation|Children's|Comedy</td>\n",
        "      <td> 1995</td>\n",
        "      <td> [2, 3, 4]</td>\n",
        "    </tr>\n",
        "    <tr>\n",
        "      <th>2</th>\n",
        "      <td>                     Jumanji (1995)</td>\n",
        "      <td> Adventure|Children's|Fantasy</td>\n",
        "      <td> 1995</td>\n",
        "      <td> [1, 3, 8]</td>\n",
        "    </tr>\n",
        "    <tr>\n",
        "      <th>3</th>\n",
        "      <td>            Grumpier Old Men (1995)</td>\n",
        "      <td>               Comedy|Romance</td>\n",
        "      <td> 1995</td>\n",
        "      <td>   [4, 13]</td>\n",
        "    </tr>\n",
        "    <tr>\n",
        "      <th>4</th>\n",
        "      <td>           Waiting to Exhale (1995)</td>\n",
        "      <td>                 Comedy|Drama</td>\n",
        "      <td> 1995</td>\n",
        "      <td>    [4, 7]</td>\n",
        "    </tr>\n",
        "    <tr>\n",
        "      <th>5</th>\n",
        "      <td> Father of the Bride Part II (1995)</td>\n",
        "      <td>                       Comedy</td>\n",
        "      <td> 1995</td>\n",
        "      <td>       [4]</td>\n",
        "    </tr>\n",
        "  </tbody>\n",
        "</table>\n",
        "</div>"
       ],
       "metadata": {},
       "output_type": "pyout",
       "prompt_number": 5,
       "text": [
        "                                  Name                        Genres  Year   GenreIds\n",
        "id                                                                                   \n",
        "1                     Toy Story (1995)   Animation|Children's|Comedy  1995  [2, 3, 4]\n",
        "2                       Jumanji (1995)  Adventure|Children's|Fantasy  1995  [1, 3, 8]\n",
        "3              Grumpier Old Men (1995)                Comedy|Romance  1995    [4, 13]\n",
        "4             Waiting to Exhale (1995)                  Comedy|Drama  1995     [4, 7]\n",
        "5   Father of the Bride Part II (1995)                        Comedy  1995        [4]"
       ]
      }
     ],
     "prompt_number": 5
    },
    {
     "cell_type": "code",
     "collapsed": false,
     "input": [
      "genres"
     ],
     "language": "python",
     "metadata": {},
     "outputs": [
      {
       "html": [
        "<div style=\"max-height:1000px;max-width:1500px;overflow:auto;\">\n",
        "<table border=\"1\" class=\"dataframe\">\n",
        "  <thead>\n",
        "    <tr style=\"text-align: right;\">\n",
        "      <th></th>\n",
        "      <th>Count</th>\n",
        "      <th>Name</th>\n",
        "    </tr>\n",
        "    <tr>\n",
        "      <th>id</th>\n",
        "      <th></th>\n",
        "      <th></th>\n",
        "    </tr>\n",
        "  </thead>\n",
        "  <tbody>\n",
        "    <tr>\n",
        "      <th>0 </th>\n",
        "      <td>  503</td>\n",
        "      <td>      Action</td>\n",
        "    </tr>\n",
        "    <tr>\n",
        "      <th>1 </th>\n",
        "      <td>  283</td>\n",
        "      <td>   Adventure</td>\n",
        "    </tr>\n",
        "    <tr>\n",
        "      <th>2 </th>\n",
        "      <td>  105</td>\n",
        "      <td>   Animation</td>\n",
        "    </tr>\n",
        "    <tr>\n",
        "      <th>3 </th>\n",
        "      <td>  251</td>\n",
        "      <td>  Children's</td>\n",
        "    </tr>\n",
        "    <tr>\n",
        "      <th>4 </th>\n",
        "      <td> 1200</td>\n",
        "      <td>      Comedy</td>\n",
        "    </tr>\n",
        "    <tr>\n",
        "      <th>5 </th>\n",
        "      <td>  211</td>\n",
        "      <td>       Crime</td>\n",
        "    </tr>\n",
        "    <tr>\n",
        "      <th>6 </th>\n",
        "      <td>  127</td>\n",
        "      <td> Documentary</td>\n",
        "    </tr>\n",
        "    <tr>\n",
        "      <th>7 </th>\n",
        "      <td> 1603</td>\n",
        "      <td>       Drama</td>\n",
        "    </tr>\n",
        "    <tr>\n",
        "      <th>8 </th>\n",
        "      <td>   68</td>\n",
        "      <td>     Fantasy</td>\n",
        "    </tr>\n",
        "    <tr>\n",
        "      <th>9 </th>\n",
        "      <td>   44</td>\n",
        "      <td>   Film-Noir</td>\n",
        "    </tr>\n",
        "    <tr>\n",
        "      <th>10</th>\n",
        "      <td>  343</td>\n",
        "      <td>      Horror</td>\n",
        "    </tr>\n",
        "    <tr>\n",
        "      <th>11</th>\n",
        "      <td>  114</td>\n",
        "      <td>     Musical</td>\n",
        "    </tr>\n",
        "    <tr>\n",
        "      <th>12</th>\n",
        "      <td>  106</td>\n",
        "      <td>     Mystery</td>\n",
        "    </tr>\n",
        "    <tr>\n",
        "      <th>13</th>\n",
        "      <td>  471</td>\n",
        "      <td>     Romance</td>\n",
        "    </tr>\n",
        "    <tr>\n",
        "      <th>14</th>\n",
        "      <td>  276</td>\n",
        "      <td>      Sci-Fi</td>\n",
        "    </tr>\n",
        "    <tr>\n",
        "      <th>15</th>\n",
        "      <td>  492</td>\n",
        "      <td>    Thriller</td>\n",
        "    </tr>\n",
        "    <tr>\n",
        "      <th>16</th>\n",
        "      <td>  143</td>\n",
        "      <td>         War</td>\n",
        "    </tr>\n",
        "    <tr>\n",
        "      <th>17</th>\n",
        "      <td>   68</td>\n",
        "      <td>     Western</td>\n",
        "    </tr>\n",
        "  </tbody>\n",
        "</table>\n",
        "</div>"
       ],
       "metadata": {},
       "output_type": "pyout",
       "prompt_number": 6,
       "text": [
        "    Count         Name\n",
        "id                    \n",
        "0     503       Action\n",
        "1     283    Adventure\n",
        "2     105    Animation\n",
        "3     251   Children's\n",
        "4    1200       Comedy\n",
        "5     211        Crime\n",
        "6     127  Documentary\n",
        "7    1603        Drama\n",
        "8      68      Fantasy\n",
        "9      44    Film-Noir\n",
        "10    343       Horror\n",
        "11    114      Musical\n",
        "12    106      Mystery\n",
        "13    471      Romance\n",
        "14    276       Sci-Fi\n",
        "15    492     Thriller\n",
        "16    143          War\n",
        "17     68      Western"
       ]
      }
     ],
     "prompt_number": 6
    },
    {
     "cell_type": "heading",
     "level": 3,
     "metadata": {},
     "source": [
      "\u041a\u043e\u043b\u043b\u0435\u043a\u0446\u0438\u044f \u043f\u043e\u043b\u044c\u0437\u043e\u0432\u0430\u0442\u0435\u043b\u0435\u0439"
     ]
    },
    {
     "cell_type": "code",
     "collapsed": false,
     "input": [
      "users = pandas.read_csv('data/ml-1m/users.dat', sep='::', header=None, \n",
      "                        names=['id', 'Gender', 'Age', 'Occupation', 'Zip'], index_col='id')\n",
      "print 'Users:', users.shape[0]"
     ],
     "language": "python",
     "metadata": {},
     "outputs": [
      {
       "output_type": "stream",
       "stream": "stdout",
       "text": [
        "Users: 6040\n"
       ]
      }
     ],
     "prompt_number": 7
    },
    {
     "cell_type": "code",
     "collapsed": false,
     "input": [
      "users['Region'] = users.Zip.map(lambda code: int(code[0]))"
     ],
     "language": "python",
     "metadata": {},
     "outputs": [],
     "prompt_number": 8
    },
    {
     "cell_type": "code",
     "collapsed": false,
     "input": [
      "users.head()"
     ],
     "language": "python",
     "metadata": {},
     "outputs": [
      {
       "html": [
        "<div style=\"max-height:1000px;max-width:1500px;overflow:auto;\">\n",
        "<table border=\"1\" class=\"dataframe\">\n",
        "  <thead>\n",
        "    <tr style=\"text-align: right;\">\n",
        "      <th></th>\n",
        "      <th>Gender</th>\n",
        "      <th>Age</th>\n",
        "      <th>Occupation</th>\n",
        "      <th>Zip</th>\n",
        "      <th>Region</th>\n",
        "    </tr>\n",
        "    <tr>\n",
        "      <th>id</th>\n",
        "      <th></th>\n",
        "      <th></th>\n",
        "      <th></th>\n",
        "      <th></th>\n",
        "      <th></th>\n",
        "    </tr>\n",
        "  </thead>\n",
        "  <tbody>\n",
        "    <tr>\n",
        "      <th>1</th>\n",
        "      <td> F</td>\n",
        "      <td>  1</td>\n",
        "      <td> 10</td>\n",
        "      <td> 48067</td>\n",
        "      <td> 4</td>\n",
        "    </tr>\n",
        "    <tr>\n",
        "      <th>2</th>\n",
        "      <td> M</td>\n",
        "      <td> 56</td>\n",
        "      <td> 16</td>\n",
        "      <td> 70072</td>\n",
        "      <td> 7</td>\n",
        "    </tr>\n",
        "    <tr>\n",
        "      <th>3</th>\n",
        "      <td> M</td>\n",
        "      <td> 25</td>\n",
        "      <td> 15</td>\n",
        "      <td> 55117</td>\n",
        "      <td> 5</td>\n",
        "    </tr>\n",
        "    <tr>\n",
        "      <th>4</th>\n",
        "      <td> M</td>\n",
        "      <td> 45</td>\n",
        "      <td>  7</td>\n",
        "      <td> 02460</td>\n",
        "      <td> 0</td>\n",
        "    </tr>\n",
        "    <tr>\n",
        "      <th>5</th>\n",
        "      <td> M</td>\n",
        "      <td> 25</td>\n",
        "      <td> 20</td>\n",
        "      <td> 55455</td>\n",
        "      <td> 5</td>\n",
        "    </tr>\n",
        "  </tbody>\n",
        "</table>\n",
        "</div>"
       ],
       "metadata": {},
       "output_type": "pyout",
       "prompt_number": 9,
       "text": [
        "   Gender  Age  Occupation    Zip  Region\n",
        "id                                       \n",
        "1       F    1          10  48067       4\n",
        "2       M   56          16  70072       7\n",
        "3       M   25          15  55117       5\n",
        "4       M   45           7  02460       0\n",
        "5       M   25          20  55455       5"
       ]
      }
     ],
     "prompt_number": 9
    },
    {
     "cell_type": "heading",
     "level": 3,
     "metadata": {},
     "source": [
      "\u041e\u0446\u0435\u043d\u043a\u0438"
     ]
    },
    {
     "cell_type": "code",
     "collapsed": false,
     "input": [
      "ratings = pandas.read_csv('data/ml-1m/ratings.dat', sep='::', header=None, names=['UserId', 'MovieId', 'Rating', 'Timestamp'])\n",
      "ratings['Timestamp'] = pandas.to_datetime(ratings['Timestamp'], unit='s')\n",
      "print 'Ratings:', ratings.shape[0]"
     ],
     "language": "python",
     "metadata": {},
     "outputs": [
      {
       "output_type": "stream",
       "stream": "stdout",
       "text": [
        "Ratings: 1000209\n"
       ]
      }
     ],
     "prompt_number": 10
    },
    {
     "cell_type": "code",
     "collapsed": false,
     "input": [
      "ratings.head()"
     ],
     "language": "python",
     "metadata": {},
     "outputs": [
      {
       "html": [
        "<div style=\"max-height:1000px;max-width:1500px;overflow:auto;\">\n",
        "<table border=\"1\" class=\"dataframe\">\n",
        "  <thead>\n",
        "    <tr style=\"text-align: right;\">\n",
        "      <th></th>\n",
        "      <th>UserId</th>\n",
        "      <th>MovieId</th>\n",
        "      <th>Rating</th>\n",
        "      <th>Timestamp</th>\n",
        "    </tr>\n",
        "  </thead>\n",
        "  <tbody>\n",
        "    <tr>\n",
        "      <th>0</th>\n",
        "      <td> 1</td>\n",
        "      <td> 1193</td>\n",
        "      <td> 5</td>\n",
        "      <td>2000-12-31 22:12:40</td>\n",
        "    </tr>\n",
        "    <tr>\n",
        "      <th>1</th>\n",
        "      <td> 1</td>\n",
        "      <td>  661</td>\n",
        "      <td> 3</td>\n",
        "      <td>2000-12-31 22:35:09</td>\n",
        "    </tr>\n",
        "    <tr>\n",
        "      <th>2</th>\n",
        "      <td> 1</td>\n",
        "      <td>  914</td>\n",
        "      <td> 3</td>\n",
        "      <td>2000-12-31 22:32:48</td>\n",
        "    </tr>\n",
        "    <tr>\n",
        "      <th>3</th>\n",
        "      <td> 1</td>\n",
        "      <td> 3408</td>\n",
        "      <td> 4</td>\n",
        "      <td>2000-12-31 22:04:35</td>\n",
        "    </tr>\n",
        "    <tr>\n",
        "      <th>4</th>\n",
        "      <td> 1</td>\n",
        "      <td> 2355</td>\n",
        "      <td> 5</td>\n",
        "      <td>2001-01-06 23:38:11</td>\n",
        "    </tr>\n",
        "  </tbody>\n",
        "</table>\n",
        "</div>"
       ],
       "metadata": {},
       "output_type": "pyout",
       "prompt_number": 11,
       "text": [
        "   UserId  MovieId  Rating           Timestamp\n",
        "0       1     1193       5 2000-12-31 22:12:40\n",
        "1       1      661       3 2000-12-31 22:35:09\n",
        "2       1      914       3 2000-12-31 22:32:48\n",
        "3       1     3408       4 2000-12-31 22:04:35\n",
        "4       1     2355       5 2001-01-06 23:38:11"
       ]
      }
     ],
     "prompt_number": 11
    },
    {
     "cell_type": "code",
     "collapsed": false,
     "input": [
      "ratings['Rating'].hist()"
     ],
     "language": "python",
     "metadata": {},
     "outputs": [
      {
       "metadata": {},
       "output_type": "pyout",
       "prompt_number": 12,
       "text": [
        "<matplotlib.axes.AxesSubplot at 0x10362dcd0>"
       ]
      },
      {
       "metadata": {},
       "output_type": "display_data",
       "png": "[encoded data removed]",
       "text": [
        "<matplotlib.figure.Figure at 0x106ac34d0>"
       ]
      }
     ],
     "prompt_number": 12
    },
    {
     "cell_type": "heading",
     "level": 2,
     "metadata": {},
     "source": [
      "\u0418\u0441\u043f\u043e\u043b\u044c\u0437\u043e\u0432\u0430\u043d\u0438\u0435 Divisi2"
     ]
    },
    {
     "cell_type": "code",
     "collapsed": false,
     "input": [
      "import divisi2"
     ],
     "language": "python",
     "metadata": {},
     "outputs": [],
     "prompt_number": 112
    },
    {
     "cell_type": "code",
     "collapsed": false,
     "input": [
      "R = divisi2.SparseMatrix.from_lists(ratings.Rating.values, ratings.UserId.values, ratings.MovieId.values)"
     ],
     "language": "python",
     "metadata": {},
     "outputs": [],
     "prompt_number": 113
    },
    {
     "cell_type": "code",
     "collapsed": false,
     "input": [
      "user_profiles, weights, item_profiles = R.svd(k=100)"
     ],
     "language": "python",
     "metadata": {},
     "outputs": [],
     "prompt_number": 114
    },
    {
     "cell_type": "code",
     "collapsed": false,
     "input": [
      "R_hat = divisi2.reconstruct(user_profiles, weights, item_profiles)"
     ],
     "language": "python",
     "metadata": {},
     "outputs": [],
     "prompt_number": 115
    },
    {
     "cell_type": "heading",
     "level": 3,
     "metadata": {},
     "source": [
      "\u041f\u043e\u043b\u0443\u0447\u0435\u043d\u0438\u0435 \u0440\u0435\u043a\u043e\u043c\u0435\u043d\u0434\u0430\u0446\u0438\u0439"
     ]
    },
    {
     "cell_type": "code",
     "collapsed": false,
     "input": [
      "u = 3\n",
      "item_relevances = R_hat[u, movies.index]\n",
      "ratings, rated_movies = zip(*R[u,:].entries())\n",
      "\n",
      "user_recommendations = movies.copy()\n",
      "user_recommendations.insert(0, 'Relevance', pandas.Series(item_relevances, index=movies.index))\n",
      "user_recommendations.insert(1, 'Rating', pandas.Series(ratings, index=rated_movies))"
     ],
     "language": "python",
     "metadata": {},
     "outputs": [],
     "prompt_number": 167
    },
    {
     "cell_type": "code",
     "collapsed": false,
     "input": [
      "user_recommendations.sort('Relevance', ascending=False).head()"
     ],
     "language": "python",
     "metadata": {},
     "outputs": [
      {
       "html": [
        "<div style=\"max-height:1000px;max-width:1500px;overflow:auto;\">\n",
        "<table border=\"1\" class=\"dataframe\">\n",
        "  <thead>\n",
        "    <tr style=\"text-align: right;\">\n",
        "      <th></th>\n",
        "      <th>Relevance</th>\n",
        "      <th>Rating</th>\n",
        "      <th>Name</th>\n",
        "      <th>Genres</th>\n",
        "      <th>Year</th>\n",
        "      <th>GenreIds</th>\n",
        "    </tr>\n",
        "    <tr>\n",
        "      <th>id</th>\n",
        "      <th></th>\n",
        "      <th></th>\n",
        "      <th></th>\n",
        "      <th></th>\n",
        "      <th></th>\n",
        "      <th></th>\n",
        "    </tr>\n",
        "  </thead>\n",
        "  <tbody>\n",
        "    <tr>\n",
        "      <th>1197</th>\n",
        "      <td> 4.992786</td>\n",
        "      <td> 5</td>\n",
        "      <td>                Princess Bride, The (1987)</td>\n",
        "      <td> Action|Adventure|Comedy|Romance</td>\n",
        "      <td> 1987</td>\n",
        "      <td> [0, 1, 4, 13]</td>\n",
        "    </tr>\n",
        "    <tr>\n",
        "      <th>1198</th>\n",
        "      <td> 4.439937</td>\n",
        "      <td> 5</td>\n",
        "      <td>            Raiders of the Lost Ark (1981)</td>\n",
        "      <td>                Action|Adventure</td>\n",
        "      <td> 1981</td>\n",
        "      <td>        [0, 1]</td>\n",
        "    </tr>\n",
        "    <tr>\n",
        "      <th>260 </th>\n",
        "      <td> 4.179566</td>\n",
        "      <td> 5</td>\n",
        "      <td> Star Wars: Episode IV - A New Hope (1977)</td>\n",
        "      <td> Action|Adventure|Fantasy|Sci-Fi</td>\n",
        "      <td> 1977</td>\n",
        "      <td> [0, 1, 8, 14]</td>\n",
        "    </tr>\n",
        "    <tr>\n",
        "      <th>2858</th>\n",
        "      <td> 3.773896</td>\n",
        "      <td> 4</td>\n",
        "      <td>                    American Beauty (1999)</td>\n",
        "      <td>                    Comedy|Drama</td>\n",
        "      <td> 1999</td>\n",
        "      <td>        [4, 7]</td>\n",
        "    </tr>\n",
        "    <tr>\n",
        "      <th>590 </th>\n",
        "      <td> 3.575043</td>\n",
        "      <td> 4</td>\n",
        "      <td>                 Dances with Wolves (1990)</td>\n",
        "      <td>         Adventure|Drama|Western</td>\n",
        "      <td> 1990</td>\n",
        "      <td>    [1, 7, 17]</td>\n",
        "    </tr>\n",
        "  </tbody>\n",
        "</table>\n",
        "</div>"
       ],
       "metadata": {},
       "output_type": "pyout",
       "prompt_number": 168,
       "text": [
        "      Relevance  Rating                                       Name  \\\n",
        "id                                                                   \n",
        "1197   4.992786       5                 Princess Bride, The (1987)   \n",
        "1198   4.439937       5             Raiders of the Lost Ark (1981)   \n",
        "260    4.179566       5  Star Wars: Episode IV - A New Hope (1977)   \n",
        "2858   3.773896       4                     American Beauty (1999)   \n",
        "590    3.575043       4                  Dances with Wolves (1990)   \n",
        "\n",
        "                               Genres  Year       GenreIds  \n",
        "id                                                          \n",
        "1197  Action|Adventure|Comedy|Romance  1987  [0, 1, 4, 13]  \n",
        "1198                 Action|Adventure  1981         [0, 1]  \n",
        "260   Action|Adventure|Fantasy|Sci-Fi  1977  [0, 1, 8, 14]  \n",
        "2858                     Comedy|Drama  1999         [4, 7]  \n",
        "590           Adventure|Drama|Western  1990     [1, 7, 17]  "
       ]
      }
     ],
     "prompt_number": 168
    },
    {
     "cell_type": "code",
     "collapsed": false,
     "input": [
      "user_recommendations[user_recommendations.Rating.isnull()].sort('Relevance', ascending=False).head()"
     ],
     "language": "python",
     "metadata": {},
     "outputs": [
      {
       "html": [
        "<div style=\"max-height:1000px;max-width:1500px;overflow:auto;\">\n",
        "<table border=\"1\" class=\"dataframe\">\n",
        "  <thead>\n",
        "    <tr style=\"text-align: right;\">\n",
        "      <th></th>\n",
        "      <th>Relevance</th>\n",
        "      <th>Rating</th>\n",
        "      <th>Name</th>\n",
        "      <th>Genres</th>\n",
        "      <th>Year</th>\n",
        "      <th>GenreIds</th>\n",
        "    </tr>\n",
        "    <tr>\n",
        "      <th>id</th>\n",
        "      <th></th>\n",
        "      <th></th>\n",
        "      <th></th>\n",
        "      <th></th>\n",
        "      <th></th>\n",
        "      <th></th>\n",
        "    </tr>\n",
        "  </thead>\n",
        "  <tbody>\n",
        "    <tr>\n",
        "      <th>1   </th>\n",
        "      <td> 2.158835</td>\n",
        "      <td>NaN</td>\n",
        "      <td>                                 Toy Story (1995)</td>\n",
        "      <td>        Animation|Children's|Comedy</td>\n",
        "      <td> 1995</td>\n",
        "      <td>     [2, 3, 4]</td>\n",
        "    </tr>\n",
        "    <tr>\n",
        "      <th>2918</th>\n",
        "      <td> 2.129470</td>\n",
        "      <td>NaN</td>\n",
        "      <td>                  Ferris Bueller's Day Off (1986)</td>\n",
        "      <td>                             Comedy</td>\n",
        "      <td> 1986</td>\n",
        "      <td>           [4]</td>\n",
        "    </tr>\n",
        "    <tr>\n",
        "      <th>2628</th>\n",
        "      <td> 1.972539</td>\n",
        "      <td>NaN</td>\n",
        "      <td> Star Wars: Episode I - The Phantom Menace (1999)</td>\n",
        "      <td>    Action|Adventure|Fantasy|Sci-Fi</td>\n",
        "      <td> 1999</td>\n",
        "      <td> [0, 1, 8, 14]</td>\n",
        "    </tr>\n",
        "    <tr>\n",
        "      <th>919 </th>\n",
        "      <td> 1.723668</td>\n",
        "      <td>NaN</td>\n",
        "      <td>                         Wizard of Oz, The (1939)</td>\n",
        "      <td> Adventure|Children's|Drama|Musical</td>\n",
        "      <td> 1939</td>\n",
        "      <td> [1, 3, 7, 11]</td>\n",
        "    </tr>\n",
        "    <tr>\n",
        "      <th>1278</th>\n",
        "      <td> 1.528876</td>\n",
        "      <td>NaN</td>\n",
        "      <td>                        Young Frankenstein (1974)</td>\n",
        "      <td>                      Comedy|Horror</td>\n",
        "      <td> 1974</td>\n",
        "      <td>       [4, 10]</td>\n",
        "    </tr>\n",
        "  </tbody>\n",
        "</table>\n",
        "</div>"
       ],
       "metadata": {},
       "output_type": "pyout",
       "prompt_number": 170,
       "text": [
        "      Relevance  Rating                                              Name  \\\n",
        "id                                                                          \n",
        "1      2.158835     NaN                                  Toy Story (1995)   \n",
        "2918   2.129470     NaN                   Ferris Bueller's Day Off (1986)   \n",
        "2628   1.972539     NaN  Star Wars: Episode I - The Phantom Menace (1999)   \n",
        "919    1.723668     NaN                          Wizard of Oz, The (1939)   \n",
        "1278   1.528876     NaN                         Young Frankenstein (1974)   \n",
        "\n",
        "                                  Genres  Year       GenreIds  \n",
        "id                                                             \n",
        "1            Animation|Children's|Comedy  1995      [2, 3, 4]  \n",
        "2918                              Comedy  1986            [4]  \n",
        "2628     Action|Adventure|Fantasy|Sci-Fi  1999  [0, 1, 8, 14]  \n",
        "919   Adventure|Children's|Drama|Musical  1939  [1, 3, 7, 11]  \n",
        "1278                       Comedy|Horror  1974        [4, 10]  "
       ]
      }
     ],
     "prompt_number": 170
    },
    {
     "cell_type": "heading",
     "level": 2,
     "metadata": {},
     "source": [
      "LibFM"
     ]
    },
    {
     "cell_type": "code",
     "collapsed": false,
     "input": [],
     "language": "python",
     "metadata": {},
     "outputs": [],
     "prompt_number": 172
    },
    {
     "cell_type": "code",
     "collapsed": false,
     "input": [],
     "language": "python",
     "metadata": {},
     "outputs": []
    }
   ],
   "metadata": {}
  }
 ]
}