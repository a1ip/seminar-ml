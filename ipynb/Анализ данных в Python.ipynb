{
 "metadata": {
  "name": ""
 },
 "nbformat": 3,
 "nbformat_minor": 0,
 "worksheets": [
  {
   "cells": [
    {
     "cell_type": "heading",
     "level": 1,
     "metadata": {},
     "source": [
      "\u0410\u043d\u0430\u043b\u0438\u0437 \u0434\u0430\u043d\u043d\u044b\u0445 \u0432 Python"
     ]
    },
    {
     "cell_type": "markdown",
     "metadata": {},
     "source": [
      "\u041f\u043b\u0430\u043d\n",
      "\n",
      "  1. \u042f\u0437\u044b\u043a Python (\u0421\u0430\u0448\u0430 \u0424\u043e\u043d\u0430\u0440\u0435\u0432)\n",
      "  2. NumPy & Matplotlib\n",
      "     - \u041f\u0440\u0438\u043c\u0435\u0440: Polynomial Fitting\n",
      "  3. Pandas\n",
      "     - \u041f\u0440\u0438\u043c\u0435\u0440: "
     ]
    },
    {
     "cell_type": "heading",
     "level": 1,
     "metadata": {},
     "source": [
      "\u041f\u0440\u0438\u043c\u0435\u0440: Digits"
     ]
    },
    {
     "cell_type": "heading",
     "level": 1,
     "metadata": {},
     "source": [
      "\u041f\u0440\u0438\u043c\u0435\u0440: Titanic"
     ]
    },
    {
     "cell_type": "code",
     "collapsed": false,
     "input": [
      "%pylab inline\n",
      "import warnings\n",
      "warnings.filterwarnings(\"ignore\", category=DeprecationWarning)\n",
      "\n",
      "import numpy as np\n",
      "import pandas as pd\n",
      "from sklearn import datasets, svm"
     ],
     "language": "python",
     "metadata": {},
     "outputs": [
      {
       "output_type": "stream",
       "stream": "stdout",
       "text": [
        "Populating the interactive namespace from numpy and matplotlib\n"
       ]
      }
     ],
     "prompt_number": 28
    },
    {
     "cell_type": "code",
     "collapsed": false,
     "input": [
      "!head datasets/titanic/train.csv"
     ],
     "language": "python",
     "metadata": {},
     "outputs": [
      {
       "output_type": "stream",
       "stream": "stdout",
       "text": [
        "PassengerId,Survived,Pclass,Name,Sex,Age,SibSp,Parch,Ticket,Fare,Cabin,Embarked\r",
        "\r\n",
        "1,0,3,\"Braund, Mr. Owen Harris\",male,22,1,0,A/5 21171,7.25,,S\r",
        "\r\n",
        "2,1,1,\"Cumings, Mrs. John Bradley (Florence Briggs Thayer)\",female,38,1,0,PC 17599,71.2833,C85,C\r",
        "\r\n",
        "3,1,3,\"Heikkinen, Miss. Laina\",female,26,0,0,STON/O2. 3101282,7.925,,S\r",
        "\r\n",
        "4,1,1,\"Futrelle, Mrs. Jacques Heath (Lily May Peel)\",female,35,1,0,113803,53.1,C123,S\r",
        "\r\n",
        "5,0,3,\"Allen, Mr. William Henry\",male,35,0,0,373450,8.05,,S\r",
        "\r\n",
        "6,0,3,\"Moran, Mr. James\",male,,0,0,330877,8.4583,,Q\r",
        "\r\n",
        "7,0,1,\"McCarthy, Mr. Timothy J\",male,54,0,0,17463,51.8625,E46,S\r",
        "\r\n",
        "8,0,3,\"Palsson, Master. Gosta Leonard\",male,2,3,1,349909,21.075,,S\r",
        "\r\n",
        "9,1,3,\"Johnson, Mrs. Oscar W (Elisabeth Vilhelmina Berg)\",female,27,0,2,347742,11.1333,,S\r",
        "\r\n"
       ]
      }
     ],
     "prompt_number": 43
    },
    {
     "cell_type": "code",
     "collapsed": false,
     "input": [
      "data = pd.read_csv('datasets/titanic/train.csv')\n",
      "print data"
     ],
     "language": "python",
     "metadata": {},
     "outputs": [
      {
       "output_type": "stream",
       "stream": "stdout",
       "text": [
        "<class 'pandas.core.frame.DataFrame'>\n",
        "Int64Index: 891 entries, 0 to 890\n",
        "Data columns (total 12 columns):\n",
        "PassengerId    891  non-null values\n",
        "Survived       891  non-null values\n",
        "Pclass         891  non-null values\n",
        "Name           891  non-null values\n",
        "Sex            891  non-null values\n",
        "Age            714  non-null values\n",
        "SibSp          891  non-null values\n",
        "Parch          891  non-null values\n",
        "Ticket         891  non-null values\n",
        "Fare           891  non-null values\n",
        "Cabin          204  non-null values\n",
        "Embarked       889  non-null values\n",
        "dtypes: float64(2), int64(5), object(5)\n"
       ]
      }
     ],
     "prompt_number": 44
    },
    {
     "cell_type": "code",
     "collapsed": false,
     "input": [
      "data = data.drop(['Ticket', 'Cabin'], axis=1)"
     ],
     "language": "python",
     "metadata": {},
     "outputs": [],
     "prompt_number": 45
    },
    {
     "cell_type": "code",
     "collapsed": false,
     "input": [
      "data.mean()"
     ],
     "language": "python",
     "metadata": {},
     "outputs": [
      {
       "metadata": {},
       "output_type": "pyout",
       "prompt_number": 47,
       "text": [
        "PassengerId    446.000000\n",
        "Survived         0.383838\n",
        "Pclass           2.308642\n",
        "Age             29.699118\n",
        "SibSp            0.523008\n",
        "Parch            0.381594\n",
        "Fare            32.204208\n",
        "dtype: float64"
       ]
      }
     ],
     "prompt_number": 47
    },
    {
     "cell_type": "code",
     "collapsed": false,
     "input": [
      "data = data.fillna(value=data.mean())"
     ],
     "language": "python",
     "metadata": {},
     "outputs": [],
     "prompt_number": 48
    },
    {
     "cell_type": "code",
     "collapsed": false,
     "input": [
      "data = data.dropna()"
     ],
     "language": "python",
     "metadata": {},
     "outputs": [],
     "prompt_number": 51
    },
    {
     "cell_type": "code",
     "collapsed": false,
     "input": [
      "plt.pie(data.Survived.value_counts(), labels=['died', 'survived'])"
     ],
     "language": "python",
     "metadata": {},
     "outputs": [
      {
       "metadata": {},
       "output_type": "pyout",
       "prompt_number": 64,
       "text": [
        "([<matplotlib.patches.Wedge at 0x112ae9050>,\n",
        "  <matplotlib.patches.Wedge at 0x112ae9a50>],\n",
        " [<matplotlib.text.Text at 0x112ae9610>,\n",
        "  <matplotlib.text.Text at 0x112ae9f50>])"
       ]
      },
      {
       "metadata": {},
       "output_type": "display_data",
       "png": "[encoded data removed]",
       "text": [
        "<matplotlib.figure.Figure at 0x112968d10>"
       ]
      }
     ],
     "prompt_number": 64
    },
    {
     "cell_type": "code",
     "collapsed": false,
     "input": [
      "plt.scatter(data.Survived, data.Age)\n",
      "plt.ylabel(\"Age\")                         # sets the y axis lable\n",
      "plt.grid(b=True, which='major', axis='y') # formats the grid line style of our graphs\n",
      "title(\"Survial by Age,  (1 = Survived)\")"
     ],
     "language": "python",
     "metadata": {},
     "outputs": [
      {
       "metadata": {},
       "output_type": "pyout",
       "prompt_number": 69,
       "text": [
        "<matplotlib.text.Text at 0x112c695d0>"
       ]
      },
      {
       "metadata": {},
       "output_type": "display_data",
       "png": "[encoded data removed]",
       "text": [
        "<matplotlib.figure.Figure at 0x112c73d90>"
       ]
      }
     ],
     "prompt_number": 69
    },
    {
     "cell_type": "code",
     "collapsed": false,
     "input": [],
     "language": "python",
     "metadata": {},
     "outputs": []
    }
   ],
   "metadata": {}
  }
 ]
}